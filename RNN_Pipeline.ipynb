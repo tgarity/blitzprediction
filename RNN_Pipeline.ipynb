{
 "cells": [
  {
   "cell_type": "code",
   "execution_count": 2,
   "id": "8f541762",
   "metadata": {},
   "outputs": [],
   "source": [
    "import os\n",
    "import pandas as pd\n",
    "import numpy as np\n",
    "from sklearn.model_selection import train_test_split\n",
    "from sklearn.linear_model import LogisticRegression\n",
    "from sklearn.metrics import classification_report\n",
    "from sklearn.impute import SimpleImputer\n",
    "from sklearn.pipeline import make_pipeline\n",
    "from sklearn.linear_model import LogisticRegression"
   ]
  },
  {
   "cell_type": "markdown",
   "id": "6bee7f1d",
   "metadata": {},
   "source": [
    "# 🏈 Predicting Blitzes Using Pre-Snap Behavior\n",
    "\n",
    "**Authors:**  \n",
    "- Chris Doyle (christopherdoyle@college.harvard.edu)  \n",
    "- Hans Elasri (hanselasri@college.harvard.edu)  \n",
    "- Thomas Garity (tgarity@college.harvard.edu)  \n",
    "- Rishi Hazra (rishihazra@college.harvard.edu)  \n",
    "- Chris Ruaño (cruano@college.harvard.edu)\n",
    "\n",
    "---\n",
    "\n",
    "## Project Summary\n",
    "\n",
    "Blitzing is one of the most aggressive and high-risk strategies in football. When executed well, it can disrupt an offensive drive by forcing the quarterback into rushed decisions; when misread or mistimed, it can leave the defense vulnerable to big plays. Offensive coaches and quarterbacks spend countless hours studying pre-snap cues to anticipate incoming blitzes, while defenses work just as hard to disguise them through subtle shifts, delayed rushes, and simulated pressures.\n",
    "\n",
    "Our project aims to bring analytics into this equation by predicting whether a defense will blitz, using only pre-snap player tracking data from the NFL Big Data Bowl 2025 dataset. By extracting features such as player positioning, movement trends, alignment depth, and formation structure, we seek to develop machine learning models that systematically classify plays as blitz or non-blitz scenarios. \n",
    "\n",
    "A successful model would not only help identify the most telling pre-snap indicators of pressure but also provide a practical tool for offensive strategists to better anticipate and counter defensive blitzes, enhancing both game preparation and real-time decision-making.\n",
    "\n",
    "---\n",
    "\n",
    "## Data Structure\n",
    "\n",
    "Our data can be downloaded from the 2025 Big Data Bowl on [Kaggle](https://www.kaggle.com/competitions/nfl-big-data-bowl-2025/data)  \n",
    "or using the Kaggle API:\n",
    "\n",
    "```\n",
    "kaggle competitions download -c nfl-big-data-bowl-2025\n",
    "```\n",
    "\n",
    "**Instructions:**\n",
    "- Download the dataset and unzip the file `nfl-big-data-bowl-2025.zip`.\n",
    "- The datasets will be saved in a `\\nfl-big-data-bowl-2025` directory within the project repo.\n",
    "- Ensure that this directory is listed in your `.gitignore` file to avoid pushing large data files to GitHub.\n",
    "\n",
    "Now, let's check that the data has been downloaded correctly:"
   ]
  },
  {
   "cell_type": "markdown",
   "id": "be607b9d",
   "metadata": {},
   "source": [
    "**SETUP + EXTRA PREPROCESSING**\n",
    "1. Read csv (master_df)\n",
    "2. Split into train, validation, and test sets\n",
    "3. Preprocess:\n",
    "   1. Adjust player positions to be relative to line of scrimmage (add LOS to plays)\n",
    "   2. Player IDs: one hot encode? Or is there a way to somehow use the player IDs as features?\n",
    "      1. Incorporate the player's previous stats?\n",
    "   3. One hot teams, positions, formations\n",
    "\n",
    "\n",
    "**APPROACH 1:**\n",
    "1. Preprocess: create samples where each sample is:\n",
    "   1. A sequence of X plays leading up to the current play\n",
    "   2. Label of whether the X+1th play was a blitz\n",
    "2. Run that through an RNN (sequence --> binary classification)\n",
    "3. Save accuracy\n",
    "\n",
    "**APPROACH 2:**\n",
    "1. Preprocess: create samples where each sample is:\n",
    "   1. Sequence of timestamps leading up to curent play\n",
    "   2. High-level overview of past X plays\n",
    "   3. Label of whether the X+1th play was a blitz\n",
    "2. Run that through a multi-pronged model:\n",
    "   1. RNN for timestamps\n",
    "   2. RNN for past plays + current plays (minus the things that they would know -- but you do have team, offense, defense formations etc)\n",
    "   3. Concatenate activations\n",
    "   4. Pass through dense layers\n",
    "   5. Predict\n",
    "3. Save accuracy"
   ]
  },
  {
   "cell_type": "code",
   "execution_count": 3,
   "id": "abbcfe33",
   "metadata": {},
   "outputs": [
    {
     "name": "stderr",
     "output_type": "stream",
     "text": [
      "/var/folders/0q/yhmj_0x575vb_7r2qv4fkhs40000gn/T/ipykernel_74891/4091920729.py:2: DtypeWarning: Columns (420,421,422,423,424,425,426,427,428,429,430,431,432,433,434,435,436,437,438,439,440,441,530,531,532,533,534,535,536,537,538,539,540,541,542,543,544,545,546,547,548,549,550,551,552,553,554,555,556,557,558,559,560,561,562,563,564,565,566,567,568,569,570,571,572,573) have mixed types. Specify dtype option on import or set low_memory=False.\n",
      "  df = pd.read_csv('master_df.csv')\n"
     ]
    }
   ],
   "source": [
    "# Import dataframe\n",
    "df = pd.read_csv('master_df.csv')"
   ]
  },
  {
   "cell_type": "code",
   "execution_count": null,
   "id": "36dedc8f",
   "metadata": {},
   "outputs": [
    {
     "data": {
      "text/plain": [
       "(381419, 881)"
      ]
     },
     "execution_count": 4,
     "metadata": {},
     "output_type": "execute_result"
    }
   ],
   "source": [
    "# Inspect the dataframe\n",
    "df.shape"
   ]
  },
  {
   "cell_type": "code",
   "execution_count": null,
   "id": "36dfb5d5",
   "metadata": {},
   "outputs": [],
   "source": [
    "def summarize_plays(plays):\n",
    "  playIds = plays['playId'].unique()\n",
    "  summary_ = []\n",
    "  # Look at a play\n",
    "  for playId in playIds:\n",
    "    play = df[df['playId'] == playId]\n",
    "    # Ensure that the play is sorted by frameId (lowest is first)\n",
    "    play = play.sort_values(['frameId'], ascending=[True])\n",
    "    print(len(play))\n",
    "\n",
    "    # Create a summary row for that play\n",
    "    summary_row = play.iloc[0]\n",
    "  "
   ]
  },
  {
   "cell_type": "code",
   "execution_count": null,
   "id": "d7c385b1",
   "metadata": {},
   "outputs": [],
   "source": [
    "seq_length = 5\n",
    "\n",
    "# Get list of all unique games\n",
    "gameIds = df['gameId'].unique()\n",
    "\n",
    "X = []\n",
    "y = []\n",
    "\n",
    "# Look at a game\n",
    "for gameId in gameIds:\n",
    "  plays = df[df['gameId'] == gameId].sort_values(['quarter', 'gameClock'], ascending=[True, False])\n",
    "  # Group by playId and keep only the last frame\n",
    "  last_frames_df = plays.groupby('playId').tail(1).reset_index(drop=True)\n",
    "  \n",
    "  game_length = len(last_frames_df)\n",
    "  if game_length < seq_length:\n",
    "    continue\n",
    "\n",
    "  # Pull target labels\n",
    "  plays_array = plays[feature_cols].values\n",
    "  targets_array = plays[target_col].values if target_col in game_plays.columns else None\n",
    "  play_ids_array = plays[play_id_cols].values\n",
    "\n",
    "\n",
    "  # Get the sequence of plays usling sliding window\n",
    "  for i in range(0, game_length - seq_length, step):\n",
    "    # Get n consecutive plays for X\n",
    "    sequence = plays_array[i:i+n]\n",
    "    \n",
    "    # Skip sequences with NaN values if needed\n",
    "    if np.isnan(sequence).any():\n",
    "        continue\n",
    "        \n",
    "    # Add the sequence to our dataset\n",
    "    X.append(sequence)\n",
    "    \n",
    "    # Get target from the n+1th play (if target column exists)\n",
    "    if targets_array is not None:\n",
    "        y.append(targets_array[i+n])\n",
    "        \n",
    "    # Keep track of which play this prediction is for\n",
    "    play_ids.append(tuple(play_ids_array[i+n]))\n",
    "\n",
    "\n",
    "  # Convert to numpy arrays\n",
    "  X = np.array(X)\n",
    "  y = np.array(y) if targets_array is not None else None"
   ]
  },
  {
   "cell_type": "code",
   "execution_count": 53,
   "id": "8c43dfb0",
   "metadata": {},
   "outputs": [],
   "source": [
    "\n",
    "non_numeric_cols = []\n",
    "for col in df.columns:\n",
    "    try:\n",
    "        # Try to convert to numeric - this will work for actual numeric data\n",
    "        pd.to_numeric(df[col])\n",
    "        numeric_cols.append(col)\n",
    "    except:\n",
    "        # If conversion fails, it's not numeric\n",
    "        non_numeric_cols.append(col)\n"
   ]
  },
  {
   "cell_type": "code",
   "execution_count": 56,
   "id": "e7b1b486",
   "metadata": {},
   "outputs": [
    {
     "name": "stdout",
     "output_type": "stream",
     "text": [
      "881\n"
     ]
    }
   ],
   "source": [
    "print(len(non_numeric_cols))"
   ]
  },
  {
   "cell_type": "code",
   "execution_count": 58,
   "id": "d8ba8993",
   "metadata": {},
   "outputs": [
    {
     "name": "stdout",
     "output_type": "stream",
     "text": [
      "DataFrame shape: (381419, 881)\n",
      "\n",
      "Column type counts:\n",
      "int64      406\n",
      "float64    335\n",
      "object     117\n",
      "bool        23\n",
      "Name: count, dtype: int64\n"
     ]
    }
   ],
   "source": [
    "# Simple approach - just examine the column types directly\n",
    "column_types = df.dtypes\n",
    "print(f\"DataFrame shape: {df.shape}\")\n",
    "\n",
    "# Group by type\n",
    "type_counts = column_types.value_counts()\n",
    "print(\"\\nColumn type counts:\")\n",
    "print(type_counts)\n"
   ]
  },
  {
   "cell_type": "code",
   "execution_count": null,
   "id": "c378893d",
   "metadata": {},
   "outputs": [],
   "source": [
    "# Columns to not include in final data\n",
    "drop_cols = ['gameId', 'playId', 'frameId']\n",
    "\n",
    "# One hot encode columns\n",
    "object_cols = df.select_dtypes(include=['object', 'category']).columns.tolist()\n"
   ]
  },
  {
   "cell_type": "code",
   "execution_count": 60,
   "id": "b12973f8",
   "metadata": {},
   "outputs": [],
   "source": [
    "def create_sequences(df, n=5, target_col='blitz', play_id_cols=['gameId', 'playId'], \n",
    "                     time_cols=['quarter', 'gameClock'], step=1):\n",
    "    \"\"\"\n",
    "    Create sequences of n consecutive plays for RNN input with overlapping windows.\n",
    "    \n",
    "    Parameters:\n",
    "    -----------\n",
    "    df : pandas DataFrame\n",
    "        DataFrame with last frame of each play\n",
    "    n : int\n",
    "        Sequence length (number of plays to include in each sequence)\n",
    "    target_col : str\n",
    "        Column name for the target variable (blitz indicator)\n",
    "    play_id_cols : list\n",
    "        Columns that identify a unique play\n",
    "    time_cols : list\n",
    "        Columns to sort by to ensure chronological order\n",
    "    step : int\n",
    "        Step size for sliding window (1 = maximum overlap, n = no overlap)\n",
    "        \n",
    "    Returns:\n",
    "    --------\n",
    "    X : numpy array of shape (num_sequences, n, num_features)\n",
    "        Sequences of n plays with features\n",
    "    y : numpy array of shape (num_sequences,)\n",
    "        Target values indicating whether the n+1th play was a blitz\n",
    "    play_ids : list of tuples\n",
    "        Identifiers for the play following each sequence (for reference)\n",
    "    \"\"\"\n",
    "    X = []\n",
    "    y = []\n",
    "    play_ids = []\n",
    "    \n",
    "    # Get list of unique games\n",
    "    games = df[play_id_cols[0]].unique()\n",
    "    \n",
    "    # Define feature columns (exclude target and any columns we don't want as features)\n",
    "    exclude_cols = play_id_cols + [target_col] \n",
    "    feature_cols = [col for col in df.columns if col not in exclude_cols]\n",
    "    \n",
    "    for game_id in games:\n",
    "        # Get plays for this game and sort chronologically\n",
    "        game_plays = df[df[play_id_cols[0]] == game_id].sort_values(time_cols)\n",
    "        \n",
    "        # Get the length of this game in plays\n",
    "        game_length = len(game_plays)\n",
    "        \n",
    "        # Skip games that are too short for our sequence length\n",
    "        if game_length <= n:\n",
    "            continue\n",
    "            \n",
    "        # Convert to numpy for faster operations\n",
    "        plays_array = game_plays[feature_cols].values\n",
    "        targets_array = game_plays[target_col].values if target_col in game_plays.columns else None\n",
    "        play_ids_array = game_plays[play_id_cols].values\n",
    "        \n",
    "        # Create overlapping windows\n",
    "        for i in range(0, game_length - n, step):\n",
    "            # Get n consecutive plays for X\n",
    "            sequence = plays_array[i:i+n]\n",
    "            \n",
    "            # Skip sequences with NaN values if needed\n",
    "            if np.isnan(sequence).any():\n",
    "                continue\n",
    "                \n",
    "            # Add the sequence to our dataset\n",
    "            X.append(sequence)\n",
    "            \n",
    "            # Get target from the n+1th play (if target column exists)\n",
    "            if targets_array is not None:\n",
    "                y.append(targets_array[i+n])\n",
    "                \n",
    "            # Keep track of which play this prediction is for\n",
    "            play_ids.append(tuple(play_ids_array[i+n]))\n",
    "    \n",
    "    # Convert to numpy arrays\n",
    "    X = np.array(X)\n",
    "    y = np.array(y) if targets_array is not None else None\n",
    "    \n",
    "    print(f\"Created {len(X)} sequences of length {n}\")\n",
    "    print(f\"X shape: {X.shape}\")\n",
    "    if y is not None:\n",
    "        print(f\"y shape: {y.shape}\")\n",
    "    \n",
    "    return X, y, play_ids"
   ]
  },
  {
   "cell_type": "code",
   "execution_count": null,
   "id": "e48d46d4",
   "metadata": {},
   "outputs": [],
   "source": []
  },
  {
   "cell_type": "code",
   "execution_count": null,
   "id": "7212c2f1",
   "metadata": {},
   "outputs": [],
   "source": [
    "X, y, play_ids = create_sequences(df)"
   ]
  }
 ],
 "metadata": {
  "kernelspec": {
   "display_name": "Python 3",
   "language": "python",
   "name": "python3"
  },
  "language_info": {
   "codemirror_mode": {
    "name": "ipython",
    "version": 3
   },
   "file_extension": ".py",
   "mimetype": "text/x-python",
   "name": "python",
   "nbconvert_exporter": "python",
   "pygments_lexer": "ipython3",
   "version": "3.12.9"
  }
 },
 "nbformat": 4,
 "nbformat_minor": 5
}
