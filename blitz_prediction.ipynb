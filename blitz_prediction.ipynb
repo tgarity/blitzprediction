{
 "cells": [
  {
   "cell_type": "code",
   "execution_count": 1,
   "metadata": {},
   "outputs": [],
   "source": [
    "# Import packages\n",
    "import os\n",
    "import pandas as pd\n",
    "import matplotlib.pyplot as plt\n",
    "import seaborn as sns"
   ]
  },
  {
   "cell_type": "markdown",
   "metadata": {},
   "source": [
    "# Blitz Prediction: Milestone 2\n",
    "\n",
    "*Thomas Garity, Christopher Doyle, Chris Ruano, Hans Elasri, Rishi Hazra*\n",
    "\n",
    "In **Milestone 2,** we conducted exploratory data analysis (EDA). This included:\n",
    "- Loading all data tables and inspecting the variables\n",
    "  - As you will read below, our data is stored in separate tables for games, players, plays, player_plays (what each player does on each play), and then finally the X/Y coordinates of the player on each play.\n",
    "- Preprocessing\n",
    "  - We have infilled nAns where needed and one-hot encoded player positions and team names -- we thought about dropping these variables but they may prove useful later for modelling.\n",
    "- Creating an indicator response variable: `isBlitz`\n",
    "  - This is waht we seek to predict, using mainly data from the plays and player_play datasets. The response variable was used using data from the player_play dataset, and then we filtered based on the conditions of that play (whether the ball was passed or rushed, etc.)\n",
    "- Creating a df to use for preliminary modelling: `blitz_df`\n",
    "\n",
    "We also report on some weaknesses / things yet to explore further, at the bottom of our notebook.\n"
   ]
  },
  {
   "cell_type": "markdown",
   "metadata": {},
   "source": [
    "### Data Structure\n",
    "\n",
    "Our data can be downloaded from the 2025 Big Data Bowl on  <a href=\"https://www.kaggle.com/competitions/nfl-big-data-bowl-2025/data\">Kaggle</a>\n",
    "\n",
    "or using the Kaggle API: \n",
    "\n",
    "`kaggle competitions download -c nfl-big-data-bowl-2025`\n",
    "\n",
    "\n",
    "**Instructions:**\n",
    "- Download the dataset and unzip the file `nfl-big-data-bowl-2025.zip`\n",
    "- The datasets will now saved in a `\\nfl-big-data-bowl-2205` directory within the project repo\n",
    "- Ensure that this directory is listed out in your `.gitignore` file to avoid pushing/pulling this to github\n",
    "\n",
    "Now, check that the data have been downloaded:"
   ]
  },
  {
   "cell_type": "code",
   "execution_count": 2,
   "metadata": {},
   "outputs": [
    {
     "name": "stdout",
     "output_type": "stream",
     "text": [
      "Data Availabe: \n"
     ]
    },
    {
     "data": {
      "text/plain": [
       "['plays.csv',\n",
       " 'tracking_week_5.csv',\n",
       " 'tracking_week_4.csv',\n",
       " 'tracking_week_6.csv',\n",
       " 'tracking_week_7.csv',\n",
       " 'tracking_week_3.csv',\n",
       " 'tracking_week_2.csv',\n",
       " 'tracking_week_1.csv',\n",
       " 'players.csv',\n",
       " 'games.csv',\n",
       " 'tracking_week_9.csv',\n",
       " 'tracking_week_8.csv',\n",
       " 'player_play.csv']"
      ]
     },
     "execution_count": 2,
     "metadata": {},
     "output_type": "execute_result"
    }
   ],
   "source": [
    "# Ensure that all tables have been downloaded\n",
    "print(\"Data Availabe: \")\n",
    "os.listdir('./nfl-big-data-bowl-2025/')"
   ]
  },
  {
   "cell_type": "code",
   "execution_count": 3,
   "metadata": {},
   "outputs": [
    {
     "name": "stdout",
     "output_type": "stream",
     "text": [
      "7.6G\tnfl-big-data-bowl-2025\n"
     ]
    }
   ],
   "source": [
    "# Print the total size of the dataset\n",
    "!du -sh nfl-big-data-bowl-2025\n"
   ]
  },
  {
   "cell_type": "markdown",
   "metadata": {},
   "source": [
    "We see that we have 3.6GB of data downloaded. Let's now load and inspect our data:"
   ]
  },
  {
   "cell_type": "code",
   "execution_count": 4,
   "metadata": {},
   "outputs": [],
   "source": [
    "# Load CSVs of data -- we only load one week of tracking to inspect its contents\n",
    "\n",
    "plays_df = pd.read_csv('./nfl-big-data-bowl-2025/plays.csv')\n",
    "players_df = pd.read_csv('./nfl-big-data-bowl-2025/players.csv')\n",
    "games_df = pd.read_csv('./nfl-big-data-bowl-2025/games.csv')\n",
    "player_play_df = pd.read_csv('./nfl-big-data-bowl-2025/player_play.csv')\n",
    "tracking_week1 = pd.read_csv('./nfl-big-data-bowl-2025/tracking_week_1.csv')"
   ]
  },
  {
   "cell_type": "code",
   "execution_count": 5,
   "metadata": {},
   "outputs": [
    {
     "data": {
      "application/vnd.microsoft.datawrangler.viewer.v0+json": {
       "columns": [
        {
         "name": "index",
         "rawType": "int64",
         "type": "integer"
        },
        {
         "name": "gameId",
         "rawType": "int64",
         "type": "integer"
        },
        {
         "name": "playId",
         "rawType": "int64",
         "type": "integer"
        },
        {
         "name": "playDescription",
         "rawType": "object",
         "type": "string"
        },
        {
         "name": "quarter",
         "rawType": "int64",
         "type": "integer"
        },
        {
         "name": "down",
         "rawType": "int64",
         "type": "integer"
        },
        {
         "name": "yardsToGo",
         "rawType": "int64",
         "type": "integer"
        },
        {
         "name": "possessionTeam",
         "rawType": "object",
         "type": "string"
        },
        {
         "name": "defensiveTeam",
         "rawType": "object",
         "type": "string"
        },
        {
         "name": "yardlineSide",
         "rawType": "object",
         "type": "string"
        },
        {
         "name": "yardlineNumber",
         "rawType": "int64",
         "type": "integer"
        },
        {
         "name": "gameClock",
         "rawType": "object",
         "type": "string"
        },
        {
         "name": "preSnapHomeScore",
         "rawType": "int64",
         "type": "integer"
        },
        {
         "name": "preSnapVisitorScore",
         "rawType": "int64",
         "type": "integer"
        },
        {
         "name": "playNullifiedByPenalty",
         "rawType": "object",
         "type": "string"
        },
        {
         "name": "absoluteYardlineNumber",
         "rawType": "int64",
         "type": "integer"
        },
        {
         "name": "preSnapHomeTeamWinProbability",
         "rawType": "float64",
         "type": "float"
        },
        {
         "name": "preSnapVisitorTeamWinProbability",
         "rawType": "float64",
         "type": "float"
        },
        {
         "name": "expectedPoints",
         "rawType": "float64",
         "type": "float"
        },
        {
         "name": "offenseFormation",
         "rawType": "object",
         "type": "string"
        },
        {
         "name": "receiverAlignment",
         "rawType": "object",
         "type": "string"
        },
        {
         "name": "playClockAtSnap",
         "rawType": "float64",
         "type": "float"
        },
        {
         "name": "passResult",
         "rawType": "object",
         "type": "unknown"
        },
        {
         "name": "passLength",
         "rawType": "float64",
         "type": "float"
        },
        {
         "name": "targetX",
         "rawType": "float64",
         "type": "float"
        },
        {
         "name": "targetY",
         "rawType": "float64",
         "type": "float"
        },
        {
         "name": "playAction",
         "rawType": "bool",
         "type": "boolean"
        },
        {
         "name": "dropbackType",
         "rawType": "object",
         "type": "string"
        },
        {
         "name": "dropbackDistance",
         "rawType": "float64",
         "type": "float"
        },
        {
         "name": "passLocationType",
         "rawType": "object",
         "type": "unknown"
        },
        {
         "name": "timeToThrow",
         "rawType": "float64",
         "type": "float"
        },
        {
         "name": "timeInTackleBox",
         "rawType": "float64",
         "type": "float"
        },
        {
         "name": "timeToSack",
         "rawType": "float64",
         "type": "float"
        },
        {
         "name": "passTippedAtLine",
         "rawType": "object",
         "type": "unknown"
        },
        {
         "name": "unblockedPressure",
         "rawType": "object",
         "type": "unknown"
        },
        {
         "name": "qbSpike",
         "rawType": "object",
         "type": "unknown"
        },
        {
         "name": "qbKneel",
         "rawType": "int64",
         "type": "integer"
        },
        {
         "name": "qbSneak",
         "rawType": "object",
         "type": "unknown"
        },
        {
         "name": "rushLocationType",
         "rawType": "object",
         "type": "unknown"
        },
        {
         "name": "penaltyYards",
         "rawType": "float64",
         "type": "float"
        },
        {
         "name": "prePenaltyYardsGained",
         "rawType": "int64",
         "type": "integer"
        },
        {
         "name": "yardsGained",
         "rawType": "int64",
         "type": "integer"
        },
        {
         "name": "homeTeamWinProbabilityAdded",
         "rawType": "float64",
         "type": "float"
        },
        {
         "name": "visitorTeamWinProbilityAdded",
         "rawType": "float64",
         "type": "float"
        },
        {
         "name": "expectedPointsAdded",
         "rawType": "float64",
         "type": "float"
        },
        {
         "name": "isDropback",
         "rawType": "bool",
         "type": "boolean"
        },
        {
         "name": "pff_runConceptPrimary",
         "rawType": "object",
         "type": "unknown"
        },
        {
         "name": "pff_runConceptSecondary",
         "rawType": "object",
         "type": "unknown"
        },
        {
         "name": "pff_runPassOption",
         "rawType": "int64",
         "type": "integer"
        },
        {
         "name": "pff_passCoverage",
         "rawType": "object",
         "type": "string"
        },
        {
         "name": "pff_manZone",
         "rawType": "object",
         "type": "string"
        }
       ],
       "conversionMethod": "pd.DataFrame",
       "ref": "7e49850d-4ba3-4c92-8c79-7a22ba9376cd",
       "rows": [
        [
         "0",
         "2022102302",
         "2655",
         "(1:54) (Shotgun) J.Burrow pass short middle to T.Boyd to CIN 30 for 9 yards (J.Hawkins).",
         "3",
         "1",
         "10",
         "CIN",
         "ATL",
         "CIN",
         "21",
         "01:54",
         "35",
         "17",
         "N",
         "31",
         "0.982017487753183",
         "0.0179825122468174",
         "0.719313454814255",
         "EMPTY",
         "3x2",
         "10.0",
         "C",
         "6.0",
         "36.69",
         "16.51",
         "False",
         "TRADITIONAL",
         "2.40000009536743",
         "INSIDE_BOX",
         "2.99",
         "2.99000000953674",
         null,
         "False",
         "False",
         "False",
         "0",
         null,
         null,
         null,
         "9",
         "9",
         "0.0046338425017893",
         "-0.0046338425017893",
         "0.702716691652313",
         "True",
         null,
         null,
         "0",
         "Cover-3",
         "Zone"
        ],
        [
         "1",
         "2022091809",
         "3698",
         "(2:13) (Shotgun) J.Burrow pass short right to H.Hurst to CIN 12 for 4 yards (L.Vander Esch).",
         "4",
         "1",
         "10",
         "CIN",
         "DAL",
         "CIN",
         "8",
         "02:13",
         "17",
         "17",
         "N",
         "18",
         "0.424356237053871",
         "0.575643762946129",
         "0.607745570130646",
         "EMPTY",
         "3x2",
         "9.0",
         "C",
         "4.0",
         "20.83",
         "20.49",
         "False",
         "TRADITIONAL",
         "1.13999998569489",
         "INSIDE_BOX",
         "1.836",
         "1.83599996566772",
         null,
         "False",
         "False",
         "False",
         "0",
         null,
         null,
         null,
         "4",
         "4",
         "0.0028469264507293",
         "-0.0028469264507293",
         "-0.24050861550495",
         "True",
         null,
         null,
         "0",
         "Quarters",
         "Zone"
        ],
        [
         "2",
         "2022103004",
         "3146",
         "(2:00) (Shotgun) D.Mills pass short right to D.Pierce to HST 26 for 6 yards (D.Walker).",
         "4",
         "3",
         "12",
         "HOU",
         "TEN",
         "HOU",
         "20",
         "02:00",
         "3",
         "17",
         "N",
         "30",
         "0.0062912374269217",
         "0.993708762573078",
         "-0.29148515756242",
         "SHOTGUN",
         "2x2",
         "12.0",
         "C",
         "-4.0",
         "26.02",
         "17.56",
         "False",
         "TRADITIONAL",
         "3.20000004768372",
         "INSIDE_BOX",
         "2.236",
         "2.23600006103516",
         null,
         "False",
         "False",
         "False",
         "0",
         null,
         null,
         null,
         "6",
         "6",
         "0.0002047172747552",
         "-0.0002047172747552",
         "-0.218480399809778",
         "True",
         null,
         null,
         "0",
         "Quarters",
         "Zone"
        ],
        [
         "3",
         "2022110610",
         "348",
         "(9:28) (Shotgun) P.Mahomes pass short left to I.Pacheco to TEN 19 for 4 yards (Z.Cunningham).",
         "1",
         "2",
         "10",
         "KC",
         "TEN",
         "TEN",
         "23",
         "09:28",
         "0",
         "0",
         "N",
         "33",
         "0.884223157539964",
         "0.115776842460036",
         "4.24938195967115",
         "SHOTGUN",
         "2x2",
         "11.0",
         "C",
         "-6.0",
         "38.95",
         "14.19",
         "False",
         "TRADITIONAL",
         "3.01999998092651",
         "INSIDE_BOX",
         "2.202",
         "2.20199990272522",
         null,
         "False",
         "False",
         "False",
         "0",
         null,
         null,
         null,
         "4",
         "4",
         "-0.0013082474470138",
         "0.0013082474470138",
         "-0.42774858372286",
         "True",
         null,
         null,
         "0",
         "Quarters",
         "Zone"
        ],
        [
         "4",
         "2022102700",
         "2799",
         "(2:16) (Shotgun) L.Jackson up the middle to TB 28 for -1 yards (R.Nunez-Roches).",
         "3",
         "2",
         "8",
         "BAL",
         "TB",
         "TB",
         "27",
         "02:16",
         "10",
         "10",
         "N",
         "37",
         "0.410371426492929",
         "0.589628573507071",
         "3.92841257643886",
         "PISTOL",
         "3x1",
         "8.0",
         null,
         null,
         null,
         null,
         "True",
         "DESIGNED_RUN",
         "2.02999997138977",
         null,
         null,
         null,
         null,
         null,
         null,
         null,
         "0",
         "False",
         "INSIDE_LEFT",
         null,
         "-1",
         "-1",
         "0.0271411500871181",
         "-0.0271411500871181",
         "-0.638911766931415",
         "False",
         "MAN",
         "READ OPTION",
         "0",
         "Cover-1",
         "Man"
        ]
       ],
       "shape": {
        "columns": 50,
        "rows": 5
       }
      },
      "text/html": [
       "<div>\n",
       "<style scoped>\n",
       "    .dataframe tbody tr th:only-of-type {\n",
       "        vertical-align: middle;\n",
       "    }\n",
       "\n",
       "    .dataframe tbody tr th {\n",
       "        vertical-align: top;\n",
       "    }\n",
       "\n",
       "    .dataframe thead th {\n",
       "        text-align: right;\n",
       "    }\n",
       "</style>\n",
       "<table border=\"1\" class=\"dataframe\">\n",
       "  <thead>\n",
       "    <tr style=\"text-align: right;\">\n",
       "      <th></th>\n",
       "      <th>gameId</th>\n",
       "      <th>playId</th>\n",
       "      <th>playDescription</th>\n",
       "      <th>quarter</th>\n",
       "      <th>down</th>\n",
       "      <th>yardsToGo</th>\n",
       "      <th>possessionTeam</th>\n",
       "      <th>defensiveTeam</th>\n",
       "      <th>yardlineSide</th>\n",
       "      <th>yardlineNumber</th>\n",
       "      <th>...</th>\n",
       "      <th>yardsGained</th>\n",
       "      <th>homeTeamWinProbabilityAdded</th>\n",
       "      <th>visitorTeamWinProbilityAdded</th>\n",
       "      <th>expectedPointsAdded</th>\n",
       "      <th>isDropback</th>\n",
       "      <th>pff_runConceptPrimary</th>\n",
       "      <th>pff_runConceptSecondary</th>\n",
       "      <th>pff_runPassOption</th>\n",
       "      <th>pff_passCoverage</th>\n",
       "      <th>pff_manZone</th>\n",
       "    </tr>\n",
       "  </thead>\n",
       "  <tbody>\n",
       "    <tr>\n",
       "      <th>0</th>\n",
       "      <td>2022102302</td>\n",
       "      <td>2655</td>\n",
       "      <td>(1:54) (Shotgun) J.Burrow pass short middle to...</td>\n",
       "      <td>3</td>\n",
       "      <td>1</td>\n",
       "      <td>10</td>\n",
       "      <td>CIN</td>\n",
       "      <td>ATL</td>\n",
       "      <td>CIN</td>\n",
       "      <td>21</td>\n",
       "      <td>...</td>\n",
       "      <td>9</td>\n",
       "      <td>0.004634</td>\n",
       "      <td>-0.004634</td>\n",
       "      <td>0.702717</td>\n",
       "      <td>True</td>\n",
       "      <td>NaN</td>\n",
       "      <td>NaN</td>\n",
       "      <td>0</td>\n",
       "      <td>Cover-3</td>\n",
       "      <td>Zone</td>\n",
       "    </tr>\n",
       "    <tr>\n",
       "      <th>1</th>\n",
       "      <td>2022091809</td>\n",
       "      <td>3698</td>\n",
       "      <td>(2:13) (Shotgun) J.Burrow pass short right to ...</td>\n",
       "      <td>4</td>\n",
       "      <td>1</td>\n",
       "      <td>10</td>\n",
       "      <td>CIN</td>\n",
       "      <td>DAL</td>\n",
       "      <td>CIN</td>\n",
       "      <td>8</td>\n",
       "      <td>...</td>\n",
       "      <td>4</td>\n",
       "      <td>0.002847</td>\n",
       "      <td>-0.002847</td>\n",
       "      <td>-0.240509</td>\n",
       "      <td>True</td>\n",
       "      <td>NaN</td>\n",
       "      <td>NaN</td>\n",
       "      <td>0</td>\n",
       "      <td>Quarters</td>\n",
       "      <td>Zone</td>\n",
       "    </tr>\n",
       "    <tr>\n",
       "      <th>2</th>\n",
       "      <td>2022103004</td>\n",
       "      <td>3146</td>\n",
       "      <td>(2:00) (Shotgun) D.Mills pass short right to D...</td>\n",
       "      <td>4</td>\n",
       "      <td>3</td>\n",
       "      <td>12</td>\n",
       "      <td>HOU</td>\n",
       "      <td>TEN</td>\n",
       "      <td>HOU</td>\n",
       "      <td>20</td>\n",
       "      <td>...</td>\n",
       "      <td>6</td>\n",
       "      <td>0.000205</td>\n",
       "      <td>-0.000205</td>\n",
       "      <td>-0.218480</td>\n",
       "      <td>True</td>\n",
       "      <td>NaN</td>\n",
       "      <td>NaN</td>\n",
       "      <td>0</td>\n",
       "      <td>Quarters</td>\n",
       "      <td>Zone</td>\n",
       "    </tr>\n",
       "    <tr>\n",
       "      <th>3</th>\n",
       "      <td>2022110610</td>\n",
       "      <td>348</td>\n",
       "      <td>(9:28) (Shotgun) P.Mahomes pass short left to ...</td>\n",
       "      <td>1</td>\n",
       "      <td>2</td>\n",
       "      <td>10</td>\n",
       "      <td>KC</td>\n",
       "      <td>TEN</td>\n",
       "      <td>TEN</td>\n",
       "      <td>23</td>\n",
       "      <td>...</td>\n",
       "      <td>4</td>\n",
       "      <td>-0.001308</td>\n",
       "      <td>0.001308</td>\n",
       "      <td>-0.427749</td>\n",
       "      <td>True</td>\n",
       "      <td>NaN</td>\n",
       "      <td>NaN</td>\n",
       "      <td>0</td>\n",
       "      <td>Quarters</td>\n",
       "      <td>Zone</td>\n",
       "    </tr>\n",
       "    <tr>\n",
       "      <th>4</th>\n",
       "      <td>2022102700</td>\n",
       "      <td>2799</td>\n",
       "      <td>(2:16) (Shotgun) L.Jackson up the middle to TB...</td>\n",
       "      <td>3</td>\n",
       "      <td>2</td>\n",
       "      <td>8</td>\n",
       "      <td>BAL</td>\n",
       "      <td>TB</td>\n",
       "      <td>TB</td>\n",
       "      <td>27</td>\n",
       "      <td>...</td>\n",
       "      <td>-1</td>\n",
       "      <td>0.027141</td>\n",
       "      <td>-0.027141</td>\n",
       "      <td>-0.638912</td>\n",
       "      <td>False</td>\n",
       "      <td>MAN</td>\n",
       "      <td>READ OPTION</td>\n",
       "      <td>0</td>\n",
       "      <td>Cover-1</td>\n",
       "      <td>Man</td>\n",
       "    </tr>\n",
       "  </tbody>\n",
       "</table>\n",
       "<p>5 rows × 50 columns</p>\n",
       "</div>"
      ],
      "text/plain": [
       "       gameId  playId                                    playDescription  \\\n",
       "0  2022102302    2655  (1:54) (Shotgun) J.Burrow pass short middle to...   \n",
       "1  2022091809    3698  (2:13) (Shotgun) J.Burrow pass short right to ...   \n",
       "2  2022103004    3146  (2:00) (Shotgun) D.Mills pass short right to D...   \n",
       "3  2022110610     348  (9:28) (Shotgun) P.Mahomes pass short left to ...   \n",
       "4  2022102700    2799  (2:16) (Shotgun) L.Jackson up the middle to TB...   \n",
       "\n",
       "   quarter  down  yardsToGo possessionTeam defensiveTeam yardlineSide  \\\n",
       "0        3     1         10            CIN           ATL          CIN   \n",
       "1        4     1         10            CIN           DAL          CIN   \n",
       "2        4     3         12            HOU           TEN          HOU   \n",
       "3        1     2         10             KC           TEN          TEN   \n",
       "4        3     2          8            BAL            TB           TB   \n",
       "\n",
       "   yardlineNumber  ... yardsGained  homeTeamWinProbabilityAdded  \\\n",
       "0              21  ...           9                     0.004634   \n",
       "1               8  ...           4                     0.002847   \n",
       "2              20  ...           6                     0.000205   \n",
       "3              23  ...           4                    -0.001308   \n",
       "4              27  ...          -1                     0.027141   \n",
       "\n",
       "   visitorTeamWinProbilityAdded expectedPointsAdded  isDropback  \\\n",
       "0                     -0.004634            0.702717        True   \n",
       "1                     -0.002847           -0.240509        True   \n",
       "2                     -0.000205           -0.218480        True   \n",
       "3                      0.001308           -0.427749        True   \n",
       "4                     -0.027141           -0.638912       False   \n",
       "\n",
       "   pff_runConceptPrimary  pff_runConceptSecondary  pff_runPassOption  \\\n",
       "0                    NaN                      NaN                  0   \n",
       "1                    NaN                      NaN                  0   \n",
       "2                    NaN                      NaN                  0   \n",
       "3                    NaN                      NaN                  0   \n",
       "4                    MAN              READ OPTION                  0   \n",
       "\n",
       "  pff_passCoverage pff_manZone  \n",
       "0          Cover-3        Zone  \n",
       "1         Quarters        Zone  \n",
       "2         Quarters        Zone  \n",
       "3         Quarters        Zone  \n",
       "4          Cover-1         Man  \n",
       "\n",
       "[5 rows x 50 columns]"
      ]
     },
     "execution_count": 5,
     "metadata": {},
     "output_type": "execute_result"
    }
   ],
   "source": [
    "# Look at first few rows\n",
    "plays_df.head()"
   ]
  },
  {
   "cell_type": "code",
   "execution_count": 6,
   "metadata": {},
   "outputs": [
    {
     "data": {
      "application/vnd.microsoft.datawrangler.viewer.v0+json": {
       "columns": [
        {
         "name": "index",
         "rawType": "int64",
         "type": "integer"
        },
        {
         "name": "nflId",
         "rawType": "int64",
         "type": "integer"
        },
        {
         "name": "height",
         "rawType": "object",
         "type": "string"
        },
        {
         "name": "weight",
         "rawType": "int64",
         "type": "integer"
        },
        {
         "name": "birthDate",
         "rawType": "object",
         "type": "string"
        },
        {
         "name": "collegeName",
         "rawType": "object",
         "type": "string"
        },
        {
         "name": "position",
         "rawType": "object",
         "type": "string"
        },
        {
         "name": "displayName",
         "rawType": "object",
         "type": "string"
        }
       ],
       "conversionMethod": "pd.DataFrame",
       "ref": "0655d974-ec61-4709-a8e4-9072aae9cb7a",
       "rows": [
        [
         "0",
         "25511",
         "6-4",
         "225",
         "1977-08-03",
         "Michigan",
         "QB",
         "Tom Brady"
        ],
        [
         "1",
         "29550",
         "6-4",
         "328",
         "1982-01-22",
         "Arkansas",
         "T",
         "Jason Peters"
        ],
        [
         "2",
         "29851",
         "6-2",
         "225",
         "1983-12-02",
         "California",
         "QB",
         "Aaron Rodgers"
        ],
        [
         "3",
         "30842",
         "6-6",
         "267",
         "1984-05-19",
         "UCLA",
         "TE",
         "Marcedes Lewis"
        ],
        [
         "4",
         "33084",
         "6-4",
         "217",
         "1985-05-17",
         "Boston College",
         "QB",
         "Matt Ryan"
        ]
       ],
       "shape": {
        "columns": 7,
        "rows": 5
       }
      },
      "text/html": [
       "<div>\n",
       "<style scoped>\n",
       "    .dataframe tbody tr th:only-of-type {\n",
       "        vertical-align: middle;\n",
       "    }\n",
       "\n",
       "    .dataframe tbody tr th {\n",
       "        vertical-align: top;\n",
       "    }\n",
       "\n",
       "    .dataframe thead th {\n",
       "        text-align: right;\n",
       "    }\n",
       "</style>\n",
       "<table border=\"1\" class=\"dataframe\">\n",
       "  <thead>\n",
       "    <tr style=\"text-align: right;\">\n",
       "      <th></th>\n",
       "      <th>nflId</th>\n",
       "      <th>height</th>\n",
       "      <th>weight</th>\n",
       "      <th>birthDate</th>\n",
       "      <th>collegeName</th>\n",
       "      <th>position</th>\n",
       "      <th>displayName</th>\n",
       "    </tr>\n",
       "  </thead>\n",
       "  <tbody>\n",
       "    <tr>\n",
       "      <th>0</th>\n",
       "      <td>25511</td>\n",
       "      <td>6-4</td>\n",
       "      <td>225</td>\n",
       "      <td>1977-08-03</td>\n",
       "      <td>Michigan</td>\n",
       "      <td>QB</td>\n",
       "      <td>Tom Brady</td>\n",
       "    </tr>\n",
       "    <tr>\n",
       "      <th>1</th>\n",
       "      <td>29550</td>\n",
       "      <td>6-4</td>\n",
       "      <td>328</td>\n",
       "      <td>1982-01-22</td>\n",
       "      <td>Arkansas</td>\n",
       "      <td>T</td>\n",
       "      <td>Jason Peters</td>\n",
       "    </tr>\n",
       "    <tr>\n",
       "      <th>2</th>\n",
       "      <td>29851</td>\n",
       "      <td>6-2</td>\n",
       "      <td>225</td>\n",
       "      <td>1983-12-02</td>\n",
       "      <td>California</td>\n",
       "      <td>QB</td>\n",
       "      <td>Aaron Rodgers</td>\n",
       "    </tr>\n",
       "    <tr>\n",
       "      <th>3</th>\n",
       "      <td>30842</td>\n",
       "      <td>6-6</td>\n",
       "      <td>267</td>\n",
       "      <td>1984-05-19</td>\n",
       "      <td>UCLA</td>\n",
       "      <td>TE</td>\n",
       "      <td>Marcedes Lewis</td>\n",
       "    </tr>\n",
       "    <tr>\n",
       "      <th>4</th>\n",
       "      <td>33084</td>\n",
       "      <td>6-4</td>\n",
       "      <td>217</td>\n",
       "      <td>1985-05-17</td>\n",
       "      <td>Boston College</td>\n",
       "      <td>QB</td>\n",
       "      <td>Matt Ryan</td>\n",
       "    </tr>\n",
       "  </tbody>\n",
       "</table>\n",
       "</div>"
      ],
      "text/plain": [
       "   nflId height  weight   birthDate     collegeName position     displayName\n",
       "0  25511    6-4     225  1977-08-03        Michigan       QB       Tom Brady\n",
       "1  29550    6-4     328  1982-01-22        Arkansas        T    Jason Peters\n",
       "2  29851    6-2     225  1983-12-02      California       QB   Aaron Rodgers\n",
       "3  30842    6-6     267  1984-05-19            UCLA       TE  Marcedes Lewis\n",
       "4  33084    6-4     217  1985-05-17  Boston College       QB       Matt Ryan"
      ]
     },
     "execution_count": 6,
     "metadata": {},
     "output_type": "execute_result"
    }
   ],
   "source": [
    "players_df.head()"
   ]
  },
  {
   "cell_type": "code",
   "execution_count": 7,
   "metadata": {},
   "outputs": [
    {
     "data": {
      "application/vnd.microsoft.datawrangler.viewer.v0+json": {
       "columns": [
        {
         "name": "index",
         "rawType": "int64",
         "type": "integer"
        },
        {
         "name": "gameId",
         "rawType": "int64",
         "type": "integer"
        },
        {
         "name": "season",
         "rawType": "int64",
         "type": "integer"
        },
        {
         "name": "week",
         "rawType": "int64",
         "type": "integer"
        },
        {
         "name": "gameDate",
         "rawType": "object",
         "type": "string"
        },
        {
         "name": "gameTimeEastern",
         "rawType": "object",
         "type": "string"
        },
        {
         "name": "homeTeamAbbr",
         "rawType": "object",
         "type": "string"
        },
        {
         "name": "visitorTeamAbbr",
         "rawType": "object",
         "type": "string"
        },
        {
         "name": "homeFinalScore",
         "rawType": "int64",
         "type": "integer"
        },
        {
         "name": "visitorFinalScore",
         "rawType": "int64",
         "type": "integer"
        }
       ],
       "conversionMethod": "pd.DataFrame",
       "ref": "ae7977e9-b755-4ce9-9361-dc1148e70fab",
       "rows": [
        [
         "0",
         "2022090800",
         "2022",
         "1",
         "9/8/2022",
         "20:20:00",
         "LA",
         "BUF",
         "10",
         "31"
        ],
        [
         "1",
         "2022091100",
         "2022",
         "1",
         "9/11/2022",
         "13:00:00",
         "ATL",
         "NO",
         "26",
         "27"
        ],
        [
         "2",
         "2022091101",
         "2022",
         "1",
         "9/11/2022",
         "13:00:00",
         "CAR",
         "CLE",
         "24",
         "26"
        ],
        [
         "3",
         "2022091102",
         "2022",
         "1",
         "9/11/2022",
         "13:00:00",
         "CHI",
         "SF",
         "19",
         "10"
        ],
        [
         "4",
         "2022091103",
         "2022",
         "1",
         "9/11/2022",
         "13:00:00",
         "CIN",
         "PIT",
         "20",
         "23"
        ]
       ],
       "shape": {
        "columns": 9,
        "rows": 5
       }
      },
      "text/html": [
       "<div>\n",
       "<style scoped>\n",
       "    .dataframe tbody tr th:only-of-type {\n",
       "        vertical-align: middle;\n",
       "    }\n",
       "\n",
       "    .dataframe tbody tr th {\n",
       "        vertical-align: top;\n",
       "    }\n",
       "\n",
       "    .dataframe thead th {\n",
       "        text-align: right;\n",
       "    }\n",
       "</style>\n",
       "<table border=\"1\" class=\"dataframe\">\n",
       "  <thead>\n",
       "    <tr style=\"text-align: right;\">\n",
       "      <th></th>\n",
       "      <th>gameId</th>\n",
       "      <th>season</th>\n",
       "      <th>week</th>\n",
       "      <th>gameDate</th>\n",
       "      <th>gameTimeEastern</th>\n",
       "      <th>homeTeamAbbr</th>\n",
       "      <th>visitorTeamAbbr</th>\n",
       "      <th>homeFinalScore</th>\n",
       "      <th>visitorFinalScore</th>\n",
       "    </tr>\n",
       "  </thead>\n",
       "  <tbody>\n",
       "    <tr>\n",
       "      <th>0</th>\n",
       "      <td>2022090800</td>\n",
       "      <td>2022</td>\n",
       "      <td>1</td>\n",
       "      <td>9/8/2022</td>\n",
       "      <td>20:20:00</td>\n",
       "      <td>LA</td>\n",
       "      <td>BUF</td>\n",
       "      <td>10</td>\n",
       "      <td>31</td>\n",
       "    </tr>\n",
       "    <tr>\n",
       "      <th>1</th>\n",
       "      <td>2022091100</td>\n",
       "      <td>2022</td>\n",
       "      <td>1</td>\n",
       "      <td>9/11/2022</td>\n",
       "      <td>13:00:00</td>\n",
       "      <td>ATL</td>\n",
       "      <td>NO</td>\n",
       "      <td>26</td>\n",
       "      <td>27</td>\n",
       "    </tr>\n",
       "    <tr>\n",
       "      <th>2</th>\n",
       "      <td>2022091101</td>\n",
       "      <td>2022</td>\n",
       "      <td>1</td>\n",
       "      <td>9/11/2022</td>\n",
       "      <td>13:00:00</td>\n",
       "      <td>CAR</td>\n",
       "      <td>CLE</td>\n",
       "      <td>24</td>\n",
       "      <td>26</td>\n",
       "    </tr>\n",
       "    <tr>\n",
       "      <th>3</th>\n",
       "      <td>2022091102</td>\n",
       "      <td>2022</td>\n",
       "      <td>1</td>\n",
       "      <td>9/11/2022</td>\n",
       "      <td>13:00:00</td>\n",
       "      <td>CHI</td>\n",
       "      <td>SF</td>\n",
       "      <td>19</td>\n",
       "      <td>10</td>\n",
       "    </tr>\n",
       "    <tr>\n",
       "      <th>4</th>\n",
       "      <td>2022091103</td>\n",
       "      <td>2022</td>\n",
       "      <td>1</td>\n",
       "      <td>9/11/2022</td>\n",
       "      <td>13:00:00</td>\n",
       "      <td>CIN</td>\n",
       "      <td>PIT</td>\n",
       "      <td>20</td>\n",
       "      <td>23</td>\n",
       "    </tr>\n",
       "  </tbody>\n",
       "</table>\n",
       "</div>"
      ],
      "text/plain": [
       "       gameId  season  week   gameDate gameTimeEastern homeTeamAbbr  \\\n",
       "0  2022090800    2022     1   9/8/2022        20:20:00           LA   \n",
       "1  2022091100    2022     1  9/11/2022        13:00:00          ATL   \n",
       "2  2022091101    2022     1  9/11/2022        13:00:00          CAR   \n",
       "3  2022091102    2022     1  9/11/2022        13:00:00          CHI   \n",
       "4  2022091103    2022     1  9/11/2022        13:00:00          CIN   \n",
       "\n",
       "  visitorTeamAbbr  homeFinalScore  visitorFinalScore  \n",
       "0             BUF              10                 31  \n",
       "1              NO              26                 27  \n",
       "2             CLE              24                 26  \n",
       "3              SF              19                 10  \n",
       "4             PIT              20                 23  "
      ]
     },
     "execution_count": 7,
     "metadata": {},
     "output_type": "execute_result"
    }
   ],
   "source": [
    "games_df.head()"
   ]
  },
  {
   "cell_type": "code",
   "execution_count": 8,
   "metadata": {},
   "outputs": [
    {
     "data": {
      "application/vnd.microsoft.datawrangler.viewer.v0+json": {
       "columns": [
        {
         "name": "index",
         "rawType": "int64",
         "type": "integer"
        },
        {
         "name": "gameId",
         "rawType": "int64",
         "type": "integer"
        },
        {
         "name": "playId",
         "rawType": "int64",
         "type": "integer"
        },
        {
         "name": "nflId",
         "rawType": "int64",
         "type": "integer"
        },
        {
         "name": "teamAbbr",
         "rawType": "object",
         "type": "string"
        },
        {
         "name": "hadRushAttempt",
         "rawType": "int64",
         "type": "integer"
        },
        {
         "name": "rushingYards",
         "rawType": "int64",
         "type": "integer"
        },
        {
         "name": "hadDropback",
         "rawType": "int64",
         "type": "integer"
        },
        {
         "name": "passingYards",
         "rawType": "int64",
         "type": "integer"
        },
        {
         "name": "sackYardsAsOffense",
         "rawType": "int64",
         "type": "integer"
        },
        {
         "name": "hadPassReception",
         "rawType": "int64",
         "type": "integer"
        },
        {
         "name": "receivingYards",
         "rawType": "int64",
         "type": "integer"
        },
        {
         "name": "wasTargettedReceiver",
         "rawType": "int64",
         "type": "integer"
        },
        {
         "name": "yardageGainedAfterTheCatch",
         "rawType": "int64",
         "type": "integer"
        },
        {
         "name": "fumbles",
         "rawType": "int64",
         "type": "integer"
        },
        {
         "name": "fumbleLost",
         "rawType": "int64",
         "type": "integer"
        },
        {
         "name": "fumbleOutOfBounds",
         "rawType": "int64",
         "type": "integer"
        },
        {
         "name": "assistedTackle",
         "rawType": "int64",
         "type": "integer"
        },
        {
         "name": "forcedFumbleAsDefense",
         "rawType": "int64",
         "type": "integer"
        },
        {
         "name": "halfSackYardsAsDefense",
         "rawType": "int64",
         "type": "integer"
        },
        {
         "name": "passDefensed",
         "rawType": "int64",
         "type": "integer"
        },
        {
         "name": "quarterbackHit",
         "rawType": "int64",
         "type": "integer"
        },
        {
         "name": "sackYardsAsDefense",
         "rawType": "int64",
         "type": "integer"
        },
        {
         "name": "safetyAsDefense",
         "rawType": "int64",
         "type": "integer"
        },
        {
         "name": "soloTackle",
         "rawType": "int64",
         "type": "integer"
        },
        {
         "name": "tackleAssist",
         "rawType": "int64",
         "type": "integer"
        },
        {
         "name": "tackleForALoss",
         "rawType": "int64",
         "type": "integer"
        },
        {
         "name": "tackleForALossYardage",
         "rawType": "int64",
         "type": "integer"
        },
        {
         "name": "hadInterception",
         "rawType": "int64",
         "type": "integer"
        },
        {
         "name": "interceptionYards",
         "rawType": "int64",
         "type": "integer"
        },
        {
         "name": "fumbleRecoveries",
         "rawType": "int64",
         "type": "integer"
        },
        {
         "name": "fumbleRecoveryYards",
         "rawType": "int64",
         "type": "integer"
        },
        {
         "name": "penaltyYards",
         "rawType": "int64",
         "type": "integer"
        },
        {
         "name": "penaltyNames",
         "rawType": "object",
         "type": "unknown"
        },
        {
         "name": "wasInitialPassRusher",
         "rawType": "float64",
         "type": "float"
        },
        {
         "name": "causedPressure",
         "rawType": "bool",
         "type": "boolean"
        },
        {
         "name": "timeToPressureAsPassRusher",
         "rawType": "float64",
         "type": "float"
        },
        {
         "name": "getOffTimeAsPassRusher",
         "rawType": "float64",
         "type": "float"
        },
        {
         "name": "inMotionAtBallSnap",
         "rawType": "object",
         "type": "unknown"
        },
        {
         "name": "shiftSinceLineset",
         "rawType": "object",
         "type": "unknown"
        },
        {
         "name": "motionSinceLineset",
         "rawType": "object",
         "type": "unknown"
        },
        {
         "name": "wasRunningRoute",
         "rawType": "float64",
         "type": "float"
        },
        {
         "name": "routeRan",
         "rawType": "object",
         "type": "unknown"
        },
        {
         "name": "blockedPlayerNFLId1",
         "rawType": "float64",
         "type": "float"
        },
        {
         "name": "blockedPlayerNFLId2",
         "rawType": "float64",
         "type": "float"
        },
        {
         "name": "blockedPlayerNFLId3",
         "rawType": "float64",
         "type": "float"
        },
        {
         "name": "pressureAllowedAsBlocker",
         "rawType": "float64",
         "type": "float"
        },
        {
         "name": "timeToPressureAllowedAsBlocker",
         "rawType": "float64",
         "type": "float"
        },
        {
         "name": "pff_defensiveCoverageAssignment",
         "rawType": "object",
         "type": "unknown"
        },
        {
         "name": "pff_primaryDefensiveCoverageMatchupNflId",
         "rawType": "float64",
         "type": "float"
        },
        {
         "name": "pff_secondaryDefensiveCoverageMatchupNflId",
         "rawType": "float64",
         "type": "float"
        }
       ],
       "conversionMethod": "pd.DataFrame",
       "ref": "d8bfa84a-5a5d-4ae8-9a4c-48d5797658c6",
       "rows": [
        [
         "0",
         "2022090800",
         "56",
         "35472",
         "BUF",
         "0",
         "0",
         "0",
         "0",
         "0",
         "0",
         "0",
         "0",
         "0",
         "0",
         "0",
         "0",
         "0",
         "0",
         "0",
         "0",
         "0",
         "0",
         "0",
         "0",
         "0",
         "0",
         "0",
         "0",
         "0",
         "0",
         "0",
         "0",
         null,
         null,
         "False",
         null,
         null,
         "False",
         "False",
         "False",
         null,
         null,
         "47917.0",
         null,
         null,
         "0.0",
         null,
         null,
         null,
         null
        ],
        [
         "1",
         "2022090800",
         "56",
         "42392",
         "BUF",
         "0",
         "0",
         "0",
         "0",
         "0",
         "0",
         "0",
         "0",
         "0",
         "0",
         "0",
         "0",
         "0",
         "0",
         "0",
         "0",
         "0",
         "0",
         "0",
         "0",
         "0",
         "0",
         "0",
         "0",
         "0",
         "0",
         "0",
         "0",
         null,
         null,
         "False",
         null,
         null,
         "False",
         "False",
         "False",
         null,
         null,
         "47917.0",
         null,
         null,
         "0.0",
         null,
         null,
         null,
         null
        ],
        [
         "2",
         "2022090800",
         "56",
         "42489",
         "BUF",
         "0",
         "0",
         "0",
         "0",
         "0",
         "1",
         "6",
         "1",
         "1",
         "0",
         "0",
         "0",
         "0",
         "0",
         "0",
         "0",
         "0",
         "0",
         "0",
         "0",
         "0",
         "0",
         "0",
         "0",
         "0",
         "0",
         "0",
         "0",
         null,
         null,
         "False",
         null,
         null,
         "False",
         "False",
         "True",
         "1.0",
         "IN",
         null,
         null,
         null,
         null,
         null,
         null,
         null,
         null
        ],
        [
         "3",
         "2022090800",
         "56",
         "44875",
         "BUF",
         "0",
         "0",
         "0",
         "0",
         "0",
         "0",
         "0",
         "0",
         "0",
         "0",
         "0",
         "0",
         "0",
         "0",
         "0",
         "0",
         "0",
         "0",
         "0",
         "0",
         "0",
         "0",
         "0",
         "0",
         "0",
         "0",
         "0",
         "0",
         null,
         null,
         "False",
         null,
         null,
         "False",
         "False",
         "False",
         null,
         null,
         "43335.0",
         null,
         null,
         "0.0",
         null,
         null,
         null,
         null
        ],
        [
         "4",
         "2022090800",
         "56",
         "44985",
         "BUF",
         "0",
         "0",
         "0",
         "0",
         "0",
         "0",
         "0",
         "0",
         "0",
         "0",
         "0",
         "0",
         "0",
         "0",
         "0",
         "0",
         "0",
         "0",
         "0",
         "0",
         "0",
         "0",
         "0",
         "0",
         "0",
         "0",
         "0",
         "0",
         null,
         null,
         "False",
         null,
         null,
         "False",
         "False",
         "False",
         "1.0",
         "OUT",
         null,
         null,
         null,
         null,
         null,
         null,
         null,
         null
        ]
       ],
       "shape": {
        "columns": 50,
        "rows": 5
       }
      },
      "text/html": [
       "<div>\n",
       "<style scoped>\n",
       "    .dataframe tbody tr th:only-of-type {\n",
       "        vertical-align: middle;\n",
       "    }\n",
       "\n",
       "    .dataframe tbody tr th {\n",
       "        vertical-align: top;\n",
       "    }\n",
       "\n",
       "    .dataframe thead th {\n",
       "        text-align: right;\n",
       "    }\n",
       "</style>\n",
       "<table border=\"1\" class=\"dataframe\">\n",
       "  <thead>\n",
       "    <tr style=\"text-align: right;\">\n",
       "      <th></th>\n",
       "      <th>gameId</th>\n",
       "      <th>playId</th>\n",
       "      <th>nflId</th>\n",
       "      <th>teamAbbr</th>\n",
       "      <th>hadRushAttempt</th>\n",
       "      <th>rushingYards</th>\n",
       "      <th>hadDropback</th>\n",
       "      <th>passingYards</th>\n",
       "      <th>sackYardsAsOffense</th>\n",
       "      <th>hadPassReception</th>\n",
       "      <th>...</th>\n",
       "      <th>wasRunningRoute</th>\n",
       "      <th>routeRan</th>\n",
       "      <th>blockedPlayerNFLId1</th>\n",
       "      <th>blockedPlayerNFLId2</th>\n",
       "      <th>blockedPlayerNFLId3</th>\n",
       "      <th>pressureAllowedAsBlocker</th>\n",
       "      <th>timeToPressureAllowedAsBlocker</th>\n",
       "      <th>pff_defensiveCoverageAssignment</th>\n",
       "      <th>pff_primaryDefensiveCoverageMatchupNflId</th>\n",
       "      <th>pff_secondaryDefensiveCoverageMatchupNflId</th>\n",
       "    </tr>\n",
       "  </thead>\n",
       "  <tbody>\n",
       "    <tr>\n",
       "      <th>0</th>\n",
       "      <td>2022090800</td>\n",
       "      <td>56</td>\n",
       "      <td>35472</td>\n",
       "      <td>BUF</td>\n",
       "      <td>0</td>\n",
       "      <td>0</td>\n",
       "      <td>0</td>\n",
       "      <td>0</td>\n",
       "      <td>0</td>\n",
       "      <td>0</td>\n",
       "      <td>...</td>\n",
       "      <td>NaN</td>\n",
       "      <td>NaN</td>\n",
       "      <td>47917.0</td>\n",
       "      <td>NaN</td>\n",
       "      <td>NaN</td>\n",
       "      <td>0.0</td>\n",
       "      <td>NaN</td>\n",
       "      <td>NaN</td>\n",
       "      <td>NaN</td>\n",
       "      <td>NaN</td>\n",
       "    </tr>\n",
       "    <tr>\n",
       "      <th>1</th>\n",
       "      <td>2022090800</td>\n",
       "      <td>56</td>\n",
       "      <td>42392</td>\n",
       "      <td>BUF</td>\n",
       "      <td>0</td>\n",
       "      <td>0</td>\n",
       "      <td>0</td>\n",
       "      <td>0</td>\n",
       "      <td>0</td>\n",
       "      <td>0</td>\n",
       "      <td>...</td>\n",
       "      <td>NaN</td>\n",
       "      <td>NaN</td>\n",
       "      <td>47917.0</td>\n",
       "      <td>NaN</td>\n",
       "      <td>NaN</td>\n",
       "      <td>0.0</td>\n",
       "      <td>NaN</td>\n",
       "      <td>NaN</td>\n",
       "      <td>NaN</td>\n",
       "      <td>NaN</td>\n",
       "    </tr>\n",
       "    <tr>\n",
       "      <th>2</th>\n",
       "      <td>2022090800</td>\n",
       "      <td>56</td>\n",
       "      <td>42489</td>\n",
       "      <td>BUF</td>\n",
       "      <td>0</td>\n",
       "      <td>0</td>\n",
       "      <td>0</td>\n",
       "      <td>0</td>\n",
       "      <td>0</td>\n",
       "      <td>1</td>\n",
       "      <td>...</td>\n",
       "      <td>1.0</td>\n",
       "      <td>IN</td>\n",
       "      <td>NaN</td>\n",
       "      <td>NaN</td>\n",
       "      <td>NaN</td>\n",
       "      <td>NaN</td>\n",
       "      <td>NaN</td>\n",
       "      <td>NaN</td>\n",
       "      <td>NaN</td>\n",
       "      <td>NaN</td>\n",
       "    </tr>\n",
       "    <tr>\n",
       "      <th>3</th>\n",
       "      <td>2022090800</td>\n",
       "      <td>56</td>\n",
       "      <td>44875</td>\n",
       "      <td>BUF</td>\n",
       "      <td>0</td>\n",
       "      <td>0</td>\n",
       "      <td>0</td>\n",
       "      <td>0</td>\n",
       "      <td>0</td>\n",
       "      <td>0</td>\n",
       "      <td>...</td>\n",
       "      <td>NaN</td>\n",
       "      <td>NaN</td>\n",
       "      <td>43335.0</td>\n",
       "      <td>NaN</td>\n",
       "      <td>NaN</td>\n",
       "      <td>0.0</td>\n",
       "      <td>NaN</td>\n",
       "      <td>NaN</td>\n",
       "      <td>NaN</td>\n",
       "      <td>NaN</td>\n",
       "    </tr>\n",
       "    <tr>\n",
       "      <th>4</th>\n",
       "      <td>2022090800</td>\n",
       "      <td>56</td>\n",
       "      <td>44985</td>\n",
       "      <td>BUF</td>\n",
       "      <td>0</td>\n",
       "      <td>0</td>\n",
       "      <td>0</td>\n",
       "      <td>0</td>\n",
       "      <td>0</td>\n",
       "      <td>0</td>\n",
       "      <td>...</td>\n",
       "      <td>1.0</td>\n",
       "      <td>OUT</td>\n",
       "      <td>NaN</td>\n",
       "      <td>NaN</td>\n",
       "      <td>NaN</td>\n",
       "      <td>NaN</td>\n",
       "      <td>NaN</td>\n",
       "      <td>NaN</td>\n",
       "      <td>NaN</td>\n",
       "      <td>NaN</td>\n",
       "    </tr>\n",
       "  </tbody>\n",
       "</table>\n",
       "<p>5 rows × 50 columns</p>\n",
       "</div>"
      ],
      "text/plain": [
       "       gameId  playId  nflId teamAbbr  hadRushAttempt  rushingYards  \\\n",
       "0  2022090800      56  35472      BUF               0             0   \n",
       "1  2022090800      56  42392      BUF               0             0   \n",
       "2  2022090800      56  42489      BUF               0             0   \n",
       "3  2022090800      56  44875      BUF               0             0   \n",
       "4  2022090800      56  44985      BUF               0             0   \n",
       "\n",
       "   hadDropback  passingYards  sackYardsAsOffense  hadPassReception  ...  \\\n",
       "0            0             0                   0                 0  ...   \n",
       "1            0             0                   0                 0  ...   \n",
       "2            0             0                   0                 1  ...   \n",
       "3            0             0                   0                 0  ...   \n",
       "4            0             0                   0                 0  ...   \n",
       "\n",
       "   wasRunningRoute  routeRan  blockedPlayerNFLId1  blockedPlayerNFLId2  \\\n",
       "0              NaN       NaN              47917.0                  NaN   \n",
       "1              NaN       NaN              47917.0                  NaN   \n",
       "2              1.0        IN                  NaN                  NaN   \n",
       "3              NaN       NaN              43335.0                  NaN   \n",
       "4              1.0       OUT                  NaN                  NaN   \n",
       "\n",
       "   blockedPlayerNFLId3  pressureAllowedAsBlocker  \\\n",
       "0                  NaN                       0.0   \n",
       "1                  NaN                       0.0   \n",
       "2                  NaN                       NaN   \n",
       "3                  NaN                       0.0   \n",
       "4                  NaN                       NaN   \n",
       "\n",
       "   timeToPressureAllowedAsBlocker  pff_defensiveCoverageAssignment  \\\n",
       "0                             NaN                              NaN   \n",
       "1                             NaN                              NaN   \n",
       "2                             NaN                              NaN   \n",
       "3                             NaN                              NaN   \n",
       "4                             NaN                              NaN   \n",
       "\n",
       "   pff_primaryDefensiveCoverageMatchupNflId  \\\n",
       "0                                       NaN   \n",
       "1                                       NaN   \n",
       "2                                       NaN   \n",
       "3                                       NaN   \n",
       "4                                       NaN   \n",
       "\n",
       "   pff_secondaryDefensiveCoverageMatchupNflId  \n",
       "0                                         NaN  \n",
       "1                                         NaN  \n",
       "2                                         NaN  \n",
       "3                                         NaN  \n",
       "4                                         NaN  \n",
       "\n",
       "[5 rows x 50 columns]"
      ]
     },
     "execution_count": 8,
     "metadata": {},
     "output_type": "execute_result"
    }
   ],
   "source": [
    "player_play_df.head()"
   ]
  },
  {
   "cell_type": "code",
   "execution_count": 9,
   "metadata": {},
   "outputs": [
    {
     "data": {
      "application/vnd.microsoft.datawrangler.viewer.v0+json": {
       "columns": [
        {
         "name": "index",
         "rawType": "int64",
         "type": "integer"
        },
        {
         "name": "gameId",
         "rawType": "int64",
         "type": "integer"
        },
        {
         "name": "playId",
         "rawType": "int64",
         "type": "integer"
        },
        {
         "name": "nflId",
         "rawType": "float64",
         "type": "float"
        },
        {
         "name": "displayName",
         "rawType": "object",
         "type": "string"
        },
        {
         "name": "frameId",
         "rawType": "int64",
         "type": "integer"
        },
        {
         "name": "frameType",
         "rawType": "object",
         "type": "string"
        },
        {
         "name": "time",
         "rawType": "object",
         "type": "string"
        },
        {
         "name": "jerseyNumber",
         "rawType": "float64",
         "type": "float"
        },
        {
         "name": "club",
         "rawType": "object",
         "type": "string"
        },
        {
         "name": "playDirection",
         "rawType": "object",
         "type": "string"
        },
        {
         "name": "x",
         "rawType": "float64",
         "type": "float"
        },
        {
         "name": "y",
         "rawType": "float64",
         "type": "float"
        },
        {
         "name": "s",
         "rawType": "float64",
         "type": "float"
        },
        {
         "name": "a",
         "rawType": "float64",
         "type": "float"
        },
        {
         "name": "dis",
         "rawType": "float64",
         "type": "float"
        },
        {
         "name": "o",
         "rawType": "float64",
         "type": "float"
        },
        {
         "name": "dir",
         "rawType": "float64",
         "type": "float"
        },
        {
         "name": "event",
         "rawType": "object",
         "type": "unknown"
        }
       ],
       "conversionMethod": "pd.DataFrame",
       "ref": "c8e9aef6-3309-4280-ba40-337a26f5b89c",
       "rows": [
        [
         "0",
         "2022091200",
         "64",
         "35459.0",
         "Kareem Jackson",
         "1",
         "BEFORE_SNAP",
         "2022-09-13 00:16:03.5",
         "22.0",
         "DEN",
         "right",
         "51.06",
         "28.55",
         "0.72",
         "0.37",
         "0.07",
         "246.17",
         "68.34",
         "huddle_break_offense"
        ],
        [
         "1",
         "2022091200",
         "64",
         "35459.0",
         "Kareem Jackson",
         "2",
         "BEFORE_SNAP",
         "2022-09-13 00:16:03.6",
         "22.0",
         "DEN",
         "right",
         "51.13",
         "28.57",
         "0.71",
         "0.36",
         "0.07",
         "245.41",
         "71.21",
         null
        ],
        [
         "2",
         "2022091200",
         "64",
         "35459.0",
         "Kareem Jackson",
         "3",
         "BEFORE_SNAP",
         "2022-09-13 00:16:03.7",
         "22.0",
         "DEN",
         "right",
         "51.2",
         "28.59",
         "0.69",
         "0.23",
         "0.07",
         "244.45",
         "69.9",
         null
        ],
        [
         "3",
         "2022091200",
         "64",
         "35459.0",
         "Kareem Jackson",
         "4",
         "BEFORE_SNAP",
         "2022-09-13 00:16:03.8",
         "22.0",
         "DEN",
         "right",
         "51.26",
         "28.62",
         "0.67",
         "0.22",
         "0.07",
         "244.45",
         "67.98",
         null
        ],
        [
         "4",
         "2022091200",
         "64",
         "35459.0",
         "Kareem Jackson",
         "5",
         "BEFORE_SNAP",
         "2022-09-13 00:16:03.9",
         "22.0",
         "DEN",
         "right",
         "51.32",
         "28.65",
         "0.65",
         "0.34",
         "0.07",
         "245.74",
         "62.83",
         null
        ]
       ],
       "shape": {
        "columns": 18,
        "rows": 5
       }
      },
      "text/html": [
       "<div>\n",
       "<style scoped>\n",
       "    .dataframe tbody tr th:only-of-type {\n",
       "        vertical-align: middle;\n",
       "    }\n",
       "\n",
       "    .dataframe tbody tr th {\n",
       "        vertical-align: top;\n",
       "    }\n",
       "\n",
       "    .dataframe thead th {\n",
       "        text-align: right;\n",
       "    }\n",
       "</style>\n",
       "<table border=\"1\" class=\"dataframe\">\n",
       "  <thead>\n",
       "    <tr style=\"text-align: right;\">\n",
       "      <th></th>\n",
       "      <th>gameId</th>\n",
       "      <th>playId</th>\n",
       "      <th>nflId</th>\n",
       "      <th>displayName</th>\n",
       "      <th>frameId</th>\n",
       "      <th>frameType</th>\n",
       "      <th>time</th>\n",
       "      <th>jerseyNumber</th>\n",
       "      <th>club</th>\n",
       "      <th>playDirection</th>\n",
       "      <th>x</th>\n",
       "      <th>y</th>\n",
       "      <th>s</th>\n",
       "      <th>a</th>\n",
       "      <th>dis</th>\n",
       "      <th>o</th>\n",
       "      <th>dir</th>\n",
       "      <th>event</th>\n",
       "    </tr>\n",
       "  </thead>\n",
       "  <tbody>\n",
       "    <tr>\n",
       "      <th>0</th>\n",
       "      <td>2022091200</td>\n",
       "      <td>64</td>\n",
       "      <td>35459.0</td>\n",
       "      <td>Kareem Jackson</td>\n",
       "      <td>1</td>\n",
       "      <td>BEFORE_SNAP</td>\n",
       "      <td>2022-09-13 00:16:03.5</td>\n",
       "      <td>22.0</td>\n",
       "      <td>DEN</td>\n",
       "      <td>right</td>\n",
       "      <td>51.06</td>\n",
       "      <td>28.55</td>\n",
       "      <td>0.72</td>\n",
       "      <td>0.37</td>\n",
       "      <td>0.07</td>\n",
       "      <td>246.17</td>\n",
       "      <td>68.34</td>\n",
       "      <td>huddle_break_offense</td>\n",
       "    </tr>\n",
       "    <tr>\n",
       "      <th>1</th>\n",
       "      <td>2022091200</td>\n",
       "      <td>64</td>\n",
       "      <td>35459.0</td>\n",
       "      <td>Kareem Jackson</td>\n",
       "      <td>2</td>\n",
       "      <td>BEFORE_SNAP</td>\n",
       "      <td>2022-09-13 00:16:03.6</td>\n",
       "      <td>22.0</td>\n",
       "      <td>DEN</td>\n",
       "      <td>right</td>\n",
       "      <td>51.13</td>\n",
       "      <td>28.57</td>\n",
       "      <td>0.71</td>\n",
       "      <td>0.36</td>\n",
       "      <td>0.07</td>\n",
       "      <td>245.41</td>\n",
       "      <td>71.21</td>\n",
       "      <td>NaN</td>\n",
       "    </tr>\n",
       "    <tr>\n",
       "      <th>2</th>\n",
       "      <td>2022091200</td>\n",
       "      <td>64</td>\n",
       "      <td>35459.0</td>\n",
       "      <td>Kareem Jackson</td>\n",
       "      <td>3</td>\n",
       "      <td>BEFORE_SNAP</td>\n",
       "      <td>2022-09-13 00:16:03.7</td>\n",
       "      <td>22.0</td>\n",
       "      <td>DEN</td>\n",
       "      <td>right</td>\n",
       "      <td>51.20</td>\n",
       "      <td>28.59</td>\n",
       "      <td>0.69</td>\n",
       "      <td>0.23</td>\n",
       "      <td>0.07</td>\n",
       "      <td>244.45</td>\n",
       "      <td>69.90</td>\n",
       "      <td>NaN</td>\n",
       "    </tr>\n",
       "    <tr>\n",
       "      <th>3</th>\n",
       "      <td>2022091200</td>\n",
       "      <td>64</td>\n",
       "      <td>35459.0</td>\n",
       "      <td>Kareem Jackson</td>\n",
       "      <td>4</td>\n",
       "      <td>BEFORE_SNAP</td>\n",
       "      <td>2022-09-13 00:16:03.8</td>\n",
       "      <td>22.0</td>\n",
       "      <td>DEN</td>\n",
       "      <td>right</td>\n",
       "      <td>51.26</td>\n",
       "      <td>28.62</td>\n",
       "      <td>0.67</td>\n",
       "      <td>0.22</td>\n",
       "      <td>0.07</td>\n",
       "      <td>244.45</td>\n",
       "      <td>67.98</td>\n",
       "      <td>NaN</td>\n",
       "    </tr>\n",
       "    <tr>\n",
       "      <th>4</th>\n",
       "      <td>2022091200</td>\n",
       "      <td>64</td>\n",
       "      <td>35459.0</td>\n",
       "      <td>Kareem Jackson</td>\n",
       "      <td>5</td>\n",
       "      <td>BEFORE_SNAP</td>\n",
       "      <td>2022-09-13 00:16:03.9</td>\n",
       "      <td>22.0</td>\n",
       "      <td>DEN</td>\n",
       "      <td>right</td>\n",
       "      <td>51.32</td>\n",
       "      <td>28.65</td>\n",
       "      <td>0.65</td>\n",
       "      <td>0.34</td>\n",
       "      <td>0.07</td>\n",
       "      <td>245.74</td>\n",
       "      <td>62.83</td>\n",
       "      <td>NaN</td>\n",
       "    </tr>\n",
       "  </tbody>\n",
       "</table>\n",
       "</div>"
      ],
      "text/plain": [
       "       gameId  playId    nflId     displayName  frameId    frameType  \\\n",
       "0  2022091200      64  35459.0  Kareem Jackson        1  BEFORE_SNAP   \n",
       "1  2022091200      64  35459.0  Kareem Jackson        2  BEFORE_SNAP   \n",
       "2  2022091200      64  35459.0  Kareem Jackson        3  BEFORE_SNAP   \n",
       "3  2022091200      64  35459.0  Kareem Jackson        4  BEFORE_SNAP   \n",
       "4  2022091200      64  35459.0  Kareem Jackson        5  BEFORE_SNAP   \n",
       "\n",
       "                    time  jerseyNumber club playDirection      x      y     s  \\\n",
       "0  2022-09-13 00:16:03.5          22.0  DEN         right  51.06  28.55  0.72   \n",
       "1  2022-09-13 00:16:03.6          22.0  DEN         right  51.13  28.57  0.71   \n",
       "2  2022-09-13 00:16:03.7          22.0  DEN         right  51.20  28.59  0.69   \n",
       "3  2022-09-13 00:16:03.8          22.0  DEN         right  51.26  28.62  0.67   \n",
       "4  2022-09-13 00:16:03.9          22.0  DEN         right  51.32  28.65  0.65   \n",
       "\n",
       "      a   dis       o    dir                 event  \n",
       "0  0.37  0.07  246.17  68.34  huddle_break_offense  \n",
       "1  0.36  0.07  245.41  71.21                   NaN  \n",
       "2  0.23  0.07  244.45  69.90                   NaN  \n",
       "3  0.22  0.07  244.45  67.98                   NaN  \n",
       "4  0.34  0.07  245.74  62.83                   NaN  "
      ]
     },
     "execution_count": 9,
     "metadata": {},
     "output_type": "execute_result"
    }
   ],
   "source": [
    "tracking_week1.head()"
   ]
  },
  {
   "cell_type": "markdown",
   "metadata": {},
   "source": [
    "### Defining the Blitz Indicator (`isBlitz`)\n",
    "\n",
    "In order to estimate the likelihood of a blitz based on pre-snap information, we must first clearly define what constitutes a blitz.  \n",
    "\n",
    "Since the dataset does not include an explicit \"blitz\" label, we construct a proxy indicator variable, `isBlitz`, using post-play player-level statistics. This label flags a defender as blitzing if they show any of the following characteristics:\n",
    "\n",
    "- Identified as an **initial pass rusher**  \n",
    "- **Caused pressure** on the quarterback  \n",
    "- **Recorded a QB hit**  \n",
    "- **Credited with a sack**\n",
    "\n",
    "These conditions collectively approximate the presence of a blitz, particularly when applied to non-defensive-line players (e.g., linebackers or defensive backs). The resulting indicator variable will serve as the target label for our blitz prediction model.\n"
   ]
  },
  {
   "cell_type": "code",
   "execution_count": 10,
   "metadata": {},
   "outputs": [
    {
     "data": {
      "application/vnd.microsoft.datawrangler.viewer.v0+json": {
       "columns": [
        {
         "name": "index",
         "rawType": "int64",
         "type": "integer"
        },
        {
         "name": "gameId",
         "rawType": "int64",
         "type": "integer"
        },
        {
         "name": "playId",
         "rawType": "int64",
         "type": "integer"
        },
        {
         "name": "nflId",
         "rawType": "int64",
         "type": "integer"
        },
        {
         "name": "position",
         "rawType": "object",
         "type": "string"
        }
       ],
       "conversionMethod": "pd.DataFrame",
       "ref": "9902b5a0-6c56-402d-95ec-7c5ab315c0f2",
       "rows": [
        [
         "12",
         "2022090800",
         "56",
         "41239",
         "DT"
        ],
        [
         "15",
         "2022090800",
         "56",
         "43298",
         "DE"
        ],
        [
         "16",
         "2022090800",
         "56",
         "43335",
         "DT"
        ],
        [
         "18",
         "2022090800",
         "56",
         "47917",
         "NT"
        ],
        [
         "34",
         "2022090800",
         "80",
         "41239",
         "DT"
        ]
       ],
       "shape": {
        "columns": 4,
        "rows": 5
       }
      },
      "text/html": [
       "<div>\n",
       "<style scoped>\n",
       "    .dataframe tbody tr th:only-of-type {\n",
       "        vertical-align: middle;\n",
       "    }\n",
       "\n",
       "    .dataframe tbody tr th {\n",
       "        vertical-align: top;\n",
       "    }\n",
       "\n",
       "    .dataframe thead th {\n",
       "        text-align: right;\n",
       "    }\n",
       "</style>\n",
       "<table border=\"1\" class=\"dataframe\">\n",
       "  <thead>\n",
       "    <tr style=\"text-align: right;\">\n",
       "      <th></th>\n",
       "      <th>gameId</th>\n",
       "      <th>playId</th>\n",
       "      <th>nflId</th>\n",
       "      <th>position</th>\n",
       "    </tr>\n",
       "  </thead>\n",
       "  <tbody>\n",
       "    <tr>\n",
       "      <th>12</th>\n",
       "      <td>2022090800</td>\n",
       "      <td>56</td>\n",
       "      <td>41239</td>\n",
       "      <td>DT</td>\n",
       "    </tr>\n",
       "    <tr>\n",
       "      <th>15</th>\n",
       "      <td>2022090800</td>\n",
       "      <td>56</td>\n",
       "      <td>43298</td>\n",
       "      <td>DE</td>\n",
       "    </tr>\n",
       "    <tr>\n",
       "      <th>16</th>\n",
       "      <td>2022090800</td>\n",
       "      <td>56</td>\n",
       "      <td>43335</td>\n",
       "      <td>DT</td>\n",
       "    </tr>\n",
       "    <tr>\n",
       "      <th>18</th>\n",
       "      <td>2022090800</td>\n",
       "      <td>56</td>\n",
       "      <td>47917</td>\n",
       "      <td>NT</td>\n",
       "    </tr>\n",
       "    <tr>\n",
       "      <th>34</th>\n",
       "      <td>2022090800</td>\n",
       "      <td>80</td>\n",
       "      <td>41239</td>\n",
       "      <td>DT</td>\n",
       "    </tr>\n",
       "  </tbody>\n",
       "</table>\n",
       "</div>"
      ],
      "text/plain": [
       "        gameId  playId  nflId position\n",
       "12  2022090800      56  41239       DT\n",
       "15  2022090800      56  43298       DE\n",
       "16  2022090800      56  43335       DT\n",
       "18  2022090800      56  47917       NT\n",
       "34  2022090800      80  41239       DT"
      ]
     },
     "execution_count": 10,
     "metadata": {},
     "output_type": "execute_result"
    }
   ],
   "source": [
    "# Copy player_play_df\n",
    "blitz_df = player_play_df.copy()\n",
    "\n",
    "# Define blitz indicator\n",
    "blitz_df['isBlitz'] = (\n",
    "    (blitz_df['wasInitialPassRusher'] == 1) |\n",
    "    (blitz_df['causedPressure'] == True) |\n",
    "    (blitz_df['quarterbackHit'] == True) |\n",
    "    (blitz_df['sackYardsAsDefense'].fillna(0) > 0)\n",
    ").astype(int)\n",
    "\n",
    "# Merge position info into blitz_df\n",
    "blitz_df = blitz_df.merge(players_df[['nflId', 'position']], on='nflId', how='left')\n",
    "\n",
    "# Merge play info into blitz_df\n",
    "blitz_df = blitz_df.merge(plays_df, on=['gameId', 'playId'], how='left', suffixes=('_left', '_right'))\n",
    "\n",
    "# Merge game info into blitz_df\n",
    "blitz_df = blitz_df.merge(games_df, on='gameId', how='left', suffixes=('_left', '_right'))\n",
    "\n",
    "# Drop unnecessary columns\n",
    "cols_to_drop = [col for col in blitz_df.columns if col.endswith('_right')]\n",
    "blitz_df.drop(columns=cols_to_drop, inplace=True)\n",
    "cols_to_rename = {col: col[:-2].strip() for col in blitz_df.columns if col.endswith('_left')}\n",
    "blitz_df.rename(columns=cols_to_rename, inplace=True)\n",
    "\n",
    "# Sample blitzers\n",
    "blitz_df[blitz_df['isBlitz'] == 1][['gameId', 'playId', 'nflId', 'position']].head()"
   ]
  },
  {
   "cell_type": "code",
   "execution_count": 11,
   "metadata": {},
   "outputs": [
    {
     "data": {
      "text/plain": [
       "array([False, nan, True], dtype=object)"
      ]
     },
     "execution_count": 11,
     "metadata": {},
     "output_type": "execute_result"
    }
   ],
   "source": [
    "blitz_df['qbSpike'].unique()"
   ]
  },
  {
   "cell_type": "code",
   "execution_count": 12,
   "metadata": {},
   "outputs": [
    {
     "data": {
      "image/png": "[encoded data removed]",
      "text/plain": [
       "<Figure size 1000x600 with 1 Axes>"
      ]
     },
     "metadata": {},
     "output_type": "display_data"
    }
   ],
   "source": [
    "# Group by position to see who blitzes most\n",
    "blitz_by_position = (\n",
    "    blitz_df.groupby('position')['isBlitz']\n",
    "    .sum()\n",
    "    .reset_index()\n",
    "    .sort_values(by='isBlitz', ascending=False)\n",
    ")\n",
    "\n",
    "# Plot blitz count by position\n",
    "plt.figure(figsize=(10, 6))\n",
    "sns.barplot(data=blitz_by_position, x='isBlitz', y='position', palette='viridis', hue='position', legend=False)\n",
    "\n",
    "plt.title('Total Blitzes by Position', fontsize=14)\n",
    "plt.xlabel('Number of Blitzes')\n",
    "plt.ylabel('Player Position')\n",
    "plt.tight_layout()\n",
    "plt.show()"
   ]
  },
  {
   "cell_type": "markdown",
   "metadata": {},
   "source": [
    "Here we see that it is **defensive** positions who blitz most, suggesting that we have correctly flagged blitzes."
   ]
  },
  {
   "cell_type": "markdown",
   "metadata": {},
   "source": [
    "### Preprocessing\n",
    "\n",
    "Next, we preprocess our `blitz_df` to only include passing plays (blitzes on passing plays are far rarer, and teams generally need help determining when a defense will blitz on a passing play). "
   ]
  },
  {
   "cell_type": "markdown",
   "metadata": {},
   "source": [
    "#### 1. Filtering, Filling Missing Values"
   ]
  },
  {
   "cell_type": "code",
   "execution_count": 13,
   "metadata": {},
   "outputs": [
    {
     "name": "stdout",
     "output_type": "stream",
     "text": [
      "['gameId', 'playId', 'nflId', 'teamAbbr', 'hadRushAttempt', 'rushingYards', 'hadDropback', 'passingYards', 'sackYardsAsOffense', 'hadPassReception', 'receivingYards', 'wasTargettedReceiver', 'yardageGainedAfterTheCatch', 'fumbles', 'fumbleLost', 'fumbleOutOfBounds', 'assistedTackle', 'forcedFumbleAsDefense', 'halfSackYardsAsDefense', 'passDefensed', 'quarterbackHit', 'sackYardsAsDefense', 'safetyAsDefense', 'soloTackle', 'tackleAssist', 'tackleForALoss', 'tackleForALossYardage', 'hadInterception', 'interceptionYards', 'fumbleRecoveries', 'fumbleRecoveryYards', 'penaltyYards_le', 'penaltyNames', 'wasInitialPassRusher', 'causedPressure', 'timeToPressureAsPassRusher', 'getOffTimeAsPassRusher', 'inMotionAtBallSnap', 'shiftSinceLineset', 'motionSinceLineset', 'wasRunningRoute', 'routeRan', 'blockedPlayerNFLId1', 'blockedPlayerNFLId2', 'blockedPlayerNFLId3', 'pressureAllowedAsBlocker', 'timeToPressureAllowedAsBlocker', 'pff_defensiveCoverageAssignment', 'pff_primaryDefensiveCoverageMatchupNflId', 'pff_secondaryDefensiveCoverageMatchupNflId', 'isBlitz', 'position', 'playDescription', 'quarter', 'down', 'yardsToGo', 'possessionTeam', 'defensiveTeam', 'yardlineSide', 'yardlineNumber', 'gameClock', 'preSnapHomeScore', 'preSnapVisitorScore', 'playNullifiedByPenalty', 'absoluteYardlineNumber', 'preSnapHomeTeamWinProbability', 'preSnapVisitorTeamWinProbability', 'expectedPoints', 'offenseFormation', 'receiverAlignment', 'playClockAtSnap', 'passResult', 'passLength', 'targetX', 'targetY', 'playAction', 'dropbackType', 'dropbackDistance', 'passLocationType', 'timeToThrow', 'timeInTackleBox', 'timeToSack', 'passTippedAtLine', 'unblockedPressure', 'qbSpike', 'qbKneel', 'qbSneak', 'rushLocationType', 'prePenaltyYardsGained', 'yardsGained', 'homeTeamWinProbabilityAdded', 'visitorTeamWinProbilityAdded', 'expectedPointsAdded', 'isDropback', 'pff_runConceptPrimary', 'pff_runConceptSecondary', 'pff_runPassOption', 'pff_passCoverage', 'pff_manZone', 'season', 'week', 'gameDate', 'gameTimeEastern', 'homeTeamAbbr', 'visitorTeamAbbr', 'homeFinalScore', 'visitorFinalScore']\n"
     ]
    }
   ],
   "source": [
    "print(blitz_df.columns.tolist())"
   ]
  },
  {
   "cell_type": "code",
   "execution_count": 14,
   "metadata": {},
   "outputs": [
    {
     "name": "stdout",
     "output_type": "stream",
     "text": [
      "Number of rows in playId = 56: 1012\n",
      "Unique Values for qbSpike:  [False nan]\n"
     ]
    }
   ],
   "source": [
    "playId = 56\n",
    "print(f\"Number of rows in playId = {playId}: {len(blitz_df[blitz_df['playId'] == playId])}\")\n",
    "print(\"Unique Values for qbSpike: \", blitz_df[blitz_df['playId'] == playId]['qbSpike'].unique())"
   ]
  },
  {
   "cell_type": "markdown",
   "metadata": {},
   "source": [
    "We see that there are some NANs present in the columns that we wish to use to filter ; we impute these by assuming that if `qbSpike` is true for some players on the play, then it is true for the ENTIRE play. We apply this logic to all columns that will be used to filter.\n",
    "\n"
   ]
  },
  {
   "cell_type": "code",
   "execution_count": 15,
   "metadata": {},
   "outputs": [
    {
     "name": "stdout",
     "output_type": "stream",
     "text": [
      "Number of rows in isDropback with NaNs: 0\n"
     ]
    },
    {
     "name": "stderr",
     "output_type": "stream",
     "text": [
      "/var/folders/h9/3jmf66nd7d555lcvbrfr6sxw0000gn/T/ipykernel_27343/1154778608.py:2: FutureWarning: Downcasting object dtype arrays on .fillna, .ffill, .bfill is deprecated and will change in a future version. Call result.infer_objects(copy=False) instead. To opt-in to the future behavior, set `pd.set_option('future.no_silent_downcasting', True)`\n",
      "  blitz_df[col_name] = blitz_df.groupby('playId')[col_name].transform(lambda x: x.ffill().bfill())\n"
     ]
    },
    {
     "name": "stdout",
     "output_type": "stream",
     "text": [
      "Number of rows in qbSpike with NaNs: 16214\n",
      "Number of rows in qbKneel with NaNs: 0\n",
      "Number of rows in playAction with NaNs: 0\n"
     ]
    }
   ],
   "source": [
    "for col_name in ['isDropback', 'qbSpike', 'qbKneel', 'playAction']:\n",
    "  blitz_df[col_name] = blitz_df.groupby('playId')[col_name].transform(lambda x: x.ffill().bfill())\n",
    "\n",
    "  # Check for remaining NaNs after fill\n",
    "  # Count the number of rows with at least one NaN value\n",
    "  nan_count = blitz_df[col_name].isna().sum()\n",
    "  print(f'Number of rows in {col_name} with NaNs: {nan_count}')"
   ]
  },
  {
   "cell_type": "markdown",
   "metadata": {},
   "source": [
    "We can see that there are still some missing values -- luckily, this will be addressed by our filtering below:"
   ]
  },
  {
   "cell_type": "code",
   "execution_count": 16,
   "metadata": {},
   "outputs": [
    {
     "name": "stdout",
     "output_type": "stream",
     "text": [
      "Total unique plays:  4207\n",
      "Plays included:  3473\n",
      "Plays excluded:  734\n",
      "Rows in original dataset:  354727\n",
      "Rows in filtered dataset:  316777\n"
     ]
    }
   ],
   "source": [
    "# Check that there is no overlap in playId between the included and excluded plays\n",
    "# First, get disqualified playIds (any row matching exclusion criteria)\n",
    "included_play_ids = blitz_df[\n",
    "    (blitz_df['isDropback'] == True) &\n",
    "    (blitz_df['qbSpike'] != True) &\n",
    "    pd.notna(blitz_df['qbSpike']) &\n",
    "    (blitz_df['qbKneel'] != True) &\n",
    "    (blitz_df['playAction'] != True)\n",
    "]['playId'].unique()\n",
    "\n",
    "# Then include only playIds NOT in excluded list\n",
    "excluded_play_df = blitz_df[~blitz_df['playId'].isin(included_play_ids)]\n",
    "\n",
    "# Confirm unique playId counts\n",
    "print(\"Total unique plays: \", blitz_df['playId'].nunique())\n",
    "print(\"Plays included: \", len(included_play_ids))\n",
    "print(\"Plays excluded: \", excluded_play_df['playId'].nunique())\n",
    "\n",
    "# Check how we've reduced rows in dataset\n",
    "print(\"Rows in original dataset: \", len(blitz_df))\n",
    "filtered_blitz_df = blitz_df[blitz_df['playId'].isin(included_play_ids)]\n",
    "print(\"Rows in filtered dataset: \", len(filtered_blitz_df))"
   ]
  },
  {
   "cell_type": "markdown",
   "metadata": {},
   "source": [
    "So we see that we have retained most of the data, leaving us with healthy number of rows."
   ]
  },
  {
   "cell_type": "code",
   "execution_count": 17,
   "metadata": {},
   "outputs": [
    {
     "data": {
      "image/png": "[encoded data removed]",
      "text/plain": [
       "<Figure size 1000x500 with 2 Axes>"
      ]
     },
     "metadata": {},
     "output_type": "display_data"
    }
   ],
   "source": [
    "data = {\"Play Type\": ['Included',\n",
    "                      'Excluded'],\n",
    "        \"Sum of isBlitz\": [filtered_blitz_df['isBlitz'].sum(),\n",
    "                           excluded_play_df['isBlitz'].sum()],\n",
    "        \"% Rows Tagged as Blitz\": [filtered_blitz_df['isBlitz'].sum() / len(filtered_blitz_df),\n",
    "                                   excluded_play_df['isBlitz'].sum()/ len(excluded_play_df)]}\n",
    "data = pd.DataFrame(data)\n",
    "\n",
    "\n",
    "fig, axs = plt.subplots(1, 2, figsize=(10,5))\n",
    "\n",
    "sns.barplot(data=data, x=\"Play Type\", y=\"Sum of isBlitz\", ax=axs[0])\n",
    "axs[0].set_title(\"Assesing Number of Blitzes Included\")\n",
    "\n",
    "sns.barplot(data=data, x=\"Play Type\", y=\"% Rows Tagged as Blitz\", ax=axs[1])\n",
    "axs[1].set_title(\"Assesing % of Blitzes in Excluded Rows\")\n",
    "\n",
    "plt.tight_layout\n",
    "plt.show()"
   ]
  },
  {
   "cell_type": "code",
   "execution_count": 18,
   "metadata": {},
   "outputs": [],
   "source": [
    "# Finally, set our df to the filtered one\n",
    "blitz_df = filtered_blitz_df"
   ]
  },
  {
   "cell_type": "markdown",
   "metadata": {},
   "source": [
    "Here, we can deduce that our filtering has given us the desired effects:\n",
    "1. We keep most of the blitzes\n",
    "2. There is a markedly lower rate of blitzes (12% vs 6%) in the included vs excluded datasets."
   ]
  },
  {
   "cell_type": "markdown",
   "metadata": {},
   "source": [
    "#### 2. One Hot Encoding"
   ]
  },
  {
   "cell_type": "markdown",
   "metadata": {},
   "source": [
    "Let's first check for categorical variables:"
   ]
  },
  {
   "cell_type": "code",
   "execution_count": 19,
   "metadata": {},
   "outputs": [
    {
     "name": "stdout",
     "output_type": "stream",
     "text": [
      "['teamAbbr', 'penaltyNames', 'inMotionAtBallSnap', 'shiftSinceLineset', 'motionSinceLineset', 'routeRan', 'pff_defensiveCoverageAssignment', 'position', 'playDescription', 'possessionTeam', 'defensiveTeam', 'yardlineSide', 'gameClock', 'playNullifiedByPenalty', 'offenseFormation', 'receiverAlignment', 'passResult', 'dropbackType', 'passLocationType', 'passTippedAtLine', 'unblockedPressure', 'qbSpike', 'qbSneak', 'rushLocationType', 'pff_runConceptPrimary', 'pff_runConceptSecondary', 'pff_passCoverage', 'pff_manZone', 'gameDate', 'gameTimeEastern', 'homeTeamAbbr', 'visitorTeamAbbr']\n"
     ]
    }
   ],
   "source": [
    "def print_non_numeric(df):\n",
    "  # Select non-numeric columns\n",
    "  non_numeric_df = df.select_dtypes(exclude=['number', 'bool'])\n",
    "\n",
    "  # Get column names of non-numeric columns\n",
    "  non_numeric_columns = non_numeric_df.columns.tolist()\n",
    "\n",
    "  print(non_numeric_columns)\n",
    "\n",
    "print_non_numeric(blitz_df)"
   ]
  },
  {
   "cell_type": "code",
   "execution_count": 20,
   "metadata": {},
   "outputs": [
    {
     "name": "stdout",
     "output_type": "stream",
     "text": [
      "['inMotionAtBallSnap', 'shiftSinceLineset', 'motionSinceLineset', 'playDescription', 'possessionTeam', 'defensiveTeam', 'yardlineSide', 'gameClock', 'playNullifiedByPenalty', 'offenseFormation', 'receiverAlignment', 'passResult', 'dropbackType', 'passLocationType', 'passTippedAtLine', 'unblockedPressure', 'qbSpike', 'qbSneak', 'rushLocationType', 'pff_runConceptPrimary', 'pff_runConceptSecondary', 'pff_passCoverage', 'pff_manZone', 'gameDate', 'gameTimeEastern', 'homeTeamAbbr', 'visitorTeamAbbr']\n"
     ]
    }
   ],
   "source": [
    "# Let's start by one-hot encoding the position variable\n",
    "blitz_df_encoded = pd.get_dummies(blitz_df, columns=['position','routeRan', 'teamAbbr', 'penaltyNames', 'pff_defensiveCoverageAssignment', ])\n",
    "\n",
    "# Now print our non-numeric variables\n",
    "print_non_numeric(blitz_df_encoded)"
   ]
  },
  {
   "cell_type": "markdown",
   "metadata": {},
   "source": [
    "All that is left now is to infill NaNs in the 3 columns `['inMotionAtBallSnap', 'shiftSinceLineset', 'motionSinceLineset']`. We do this by assuming that each player keeps the same values of these 3 variables for the entire play. THIS CELL TAKES A LONG TIME TO RUN."
   ]
  },
  {
   "cell_type": "code",
   "execution_count": 21,
   "metadata": {},
   "outputs": [
    {
     "name": "stderr",
     "output_type": "stream",
     "text": [
      "/var/folders/h9/3jmf66nd7d555lcvbrfr6sxw0000gn/T/ipykernel_27343/2529152745.py:2: FutureWarning: Downcasting object dtype arrays on .fillna, .ffill, .bfill is deprecated and will change in a future version. Call result.infer_objects(copy=False) instead. To opt-in to the future behavior, set `pd.set_option('future.no_silent_downcasting', True)`\n",
      "  blitz_df_encoded[col_name] = blitz_df_encoded.groupby(['playId','nflId'])[col_name].transform(lambda x: x.ffill())\n"
     ]
    }
   ],
   "source": [
    "for col_name in ['inMotionAtBallSnap', 'shiftSinceLineset', 'motionSinceLineset']:\n",
    "  blitz_df_encoded[col_name] = blitz_df_encoded.groupby(['playId','nflId'])[col_name].transform(lambda x: x.ffill())\n",
    "\n",
    "\n",
    "blitz_df = blitz_df_encoded"
   ]
  },
  {
   "cell_type": "markdown",
   "metadata": {},
   "source": [
    "Thus we have fixed our missing values and one-hot encoded any categorical variables. We are ready to begin modelling! Some steps that may still need to be addressed are:\n",
    "\n",
    "- Incorporating positional data -- the X and Y position of players on the field. If we wish to use those, we should begin work with the `tracking_week_x.csv` data, where x is a gameweek. This opens the door to more advanced architectures (that take in an \"image\" of the field and guess the next positions)\n",
    "- Packaging the data into model-specific formats. Each modelling approach will require a different format of data. For example, we could try creating a \"cube\" where each position is saved as a \"pixel\" in an image of the field, and the num_channels is the number of collumns we have (excluding the position).\n",
    "- Better infilling methods -- we may find that in some cases, the indicator variables above may change during a play."
   ]
  },
  {
   "cell_type": "markdown",
   "metadata": {},
   "source": [
    "# EDA - Milestone 3"
   ]
  },
  {
   "cell_type": "markdown",
   "metadata": {},
   "source": [
    "## Blitz Summary Statistics"
   ]
  },
  {
   "cell_type": "markdown",
   "metadata": {},
   "source": [
    "Now that we have our data cleaning and preprocessing done, we can poke into the dataset to get a better understanding of what we are working with. Of course, our primary goal is to study when teams/players blitz, so we start there."
   ]
  },
  {
   "cell_type": "markdown",
   "metadata": {},
   "source": [
    "### Class Imbalance"
   ]
  },
  {
   "cell_type": "markdown",
   "metadata": {},
   "source": [
    "First we investigate if there is a class imbalance in the dataset with how many blitz plays vs non-blitz plays there are:"
   ]
  },
  {
   "cell_type": "code",
   "execution_count": 22,
   "metadata": {},
   "outputs": [
    {
     "data": {
      "image/png": "[encoded data removed]",
      "text/plain": [
       "<Figure size 600x400 with 1 Axes>"
      ]
     },
     "metadata": {},
     "output_type": "display_data"
    },
    {
     "name": "stdout",
     "output_type": "stream",
     "text": [
      "Blitz rate: 0.12604766128854053\n"
     ]
    }
   ],
   "source": [
    "blitz_counts = blitz_df['isBlitz'].value_counts().sort_index()\n",
    "blitz_labels = ['No Blitz (0)', 'Blitz (1)']\n",
    "\n",
    "plt.figure(figsize=(6,4))\n",
    "sns.barplot(x=blitz_labels, y=blitz_counts.values)\n",
    "plt.title(\"Class Balance of isBlitz\", fontsize=14)\n",
    "plt.ylabel(\"Number of Plays\")\n",
    "plt.tight_layout()\n",
    "plt.show()\n",
    "\n",
    "print(\"Blitz rate:\", blitz_counts[1] / blitz_counts.sum())"
   ]
  },
  {
   "cell_type": "markdown",
   "metadata": {},
   "source": [
    "Clearly, we have a class imbalance, but since we are doing a binary classification the imbalance is not too concerning. It may be necessary to do upsampling in order to force the model to learn how to predict a blitz. Further, we should this blitz rate in mind when evaluating the accuracy of our predictions on a test/validation set."
   ]
  },
  {
   "cell_type": "markdown",
   "metadata": {},
   "source": [
    "### Correlation Heatmap"
   ]
  },
  {
   "cell_type": "markdown",
   "metadata": {},
   "source": [
    "Because isBlitz is an imputed variable, this may not be as indicative of possible relationships."
   ]
  },
  {
   "cell_type": "code",
   "execution_count": 23,
   "metadata": {},
   "outputs": [
    {
     "data": {
      "image/png": "[encoded data removed]",
      "text/plain": [
       "<Figure size 400x400 with 2 Axes>"
      ]
     },
     "metadata": {},
     "output_type": "display_data"
    }
   ],
   "source": [
    "blitz_corr = blitz_df.corr(numeric_only=True)\n",
    "\n",
    "threshold = 0.2\n",
    "filtered_corr = blitz_corr[['isBlitz']]\n",
    "filtered_corr = filtered_corr[filtered_corr['isBlitz'].abs() >= threshold]\n",
    "\n",
    "plt.figure(figsize=(4, max(3, len(filtered_corr)*0.5)))\n",
    "sns.heatmap(filtered_corr, annot=False, cmap='coolwarm', center=0, cbar=True)\n",
    "plt.title(\"Correlation of Variables with isBlitz (|corr|>=0.2)\", fontsize=14)\n",
    "plt.tight_layout()\n",
    "plt.show()"
   ]
  },
  {
   "cell_type": "markdown",
   "metadata": {},
   "source": [
    "### Blitz by down"
   ]
  },
  {
   "cell_type": "markdown",
   "metadata": {},
   "source": [
    "Teams likely base some of their decision making of when to blitz based on what down it is, we may expect that there is some correlation between the blitz predictor and what down it is. Lets investigate:"
   ]
  },
  {
   "cell_type": "code",
   "execution_count": 24,
   "metadata": {},
   "outputs": [
    {
     "data": {
      "image/png": "[encoded data removed]",
      "text/plain": [
       "<Figure size 600x400 with 1 Axes>"
      ]
     },
     "metadata": {},
     "output_type": "display_data"
    }
   ],
   "source": [
    "down_blitz = blitz_df.groupby('down')['isBlitz'].mean().reset_index()\n",
    "\n",
    "plt.figure(figsize=(6,4))\n",
    "sns.barplot(data=down_blitz, x='down', y='isBlitz')\n",
    "plt.title(\"Average Blitz Rate by Down\", fontsize=14)\n",
    "plt.xlabel(\"Down\")\n",
    "plt.ylabel(\"Blitz Rate\")\n",
    "plt.tight_layout()\n",
    "plt.show()"
   ]
  },
  {
   "cell_type": "markdown",
   "metadata": {},
   "source": [
    "### Blitz by score differential"
   ]
  },
  {
   "cell_type": "markdown",
   "metadata": {},
   "source": [
    "Teams may also decide to blitz based on allowed risk margins (i.e. in a very lopsided game, blitzing may be a highly risky move, sacrificing some defensive coverage)."
   ]
  },
  {
   "cell_type": "code",
   "execution_count": 25,
   "metadata": {},
   "outputs": [],
   "source": [
    "def compute_score_diff(row):\n",
    "    game_info = games_df.loc[games_df['gameId'] == row['gameId']]\n",
    "    if row['possessionTeam'] == game_info['homeTeamAbbr'].values[0]:\n",
    "        return game_info['homeFinalScore'].values[0] - game_info['visitorFinalScore'].values[0]\n",
    "    else:\n",
    "        return game_info['visitorFinalScore'].values[0] - game_info['homeFinalScore'].values[0]\n",
    "blitz_df['scoreDiff'] = blitz_df.apply(compute_score_diff, axis=1)"
   ]
  },
  {
   "cell_type": "code",
   "execution_count": 26,
   "metadata": {},
   "outputs": [
    {
     "name": "stderr",
     "output_type": "stream",
     "text": [
      "/var/folders/h9/3jmf66nd7d555lcvbrfr6sxw0000gn/T/ipykernel_27343/2264292129.py:2: FutureWarning: The default of observed=False is deprecated and will be changed to True in a future version of pandas. Pass observed=False to retain current behavior or observed=True to adopt the future default and silence this warning.\n",
      "  blitz_rate_by_score = blitz_df.groupby('score_bin')['isBlitz'].mean().reset_index()\n"
     ]
    },
    {
     "data": {
      "image/png": "[encoded data removed]",
      "text/plain": [
       "<Figure size 1200x600 with 1 Axes>"
      ]
     },
     "metadata": {},
     "output_type": "display_data"
    }
   ],
   "source": [
    "blitz_df['score_bin'] = pd.cut(blitz_df['scoreDiff'], bins=15)\n",
    "blitz_rate_by_score = blitz_df.groupby('score_bin')['isBlitz'].mean().reset_index()\n",
    "blitz_rate_by_score['blitz_percent'] = blitz_rate_by_score['isBlitz'] * 100\n",
    "\n",
    "# nplot blitz rate by score difference\n",
    "plt.figure(figsize=(12, 6))\n",
    "sns.barplot(data=blitz_rate_by_score, x='score_bin', y='blitz_percent')\n",
    "plt.title(\"Percentage of Plays that are Blitzes by Score Differential\", fontsize=14)\n",
    "plt.xlabel(\"Score Differential (Binned)\")\n",
    "plt.ylabel(\"Blitz Rate (%)\")\n",
    "plt.xticks(rotation=45)\n",
    "plt.tight_layout()\n",
    "plt.show()"
   ]
  },
  {
   "cell_type": "markdown",
   "metadata": {},
   "source": [
    "There appears to be minimal relationship between the score differential and percentage of plays that are a Blitz."
   ]
  },
  {
   "cell_type": "markdown",
   "metadata": {},
   "source": [
    "### Blitz by Yards to Go"
   ]
  },
  {
   "cell_type": "code",
   "execution_count": 27,
   "metadata": {},
   "outputs": [
    {
     "name": "stderr",
     "output_type": "stream",
     "text": [
      "/var/folders/h9/3jmf66nd7d555lcvbrfr6sxw0000gn/T/ipykernel_27343/2811911806.py:5: FutureWarning: The default of observed=False is deprecated and will be changed to True in a future version of pandas. Pass observed=False to retain current behavior or observed=True to adopt the future default and silence this warning.\n",
      "  blitz_rate_by_bucket = blitz_df.groupby('yardsToGo_bucket')['isBlitz'].mean().reset_index()\n"
     ]
    },
    {
     "data": {
      "image/png": "[encoded data removed]",
      "text/plain": [
       "<Figure size 1200x600 with 1 Axes>"
      ]
     },
     "metadata": {},
     "output_type": "display_data"
    }
   ],
   "source": [
    "num_bins = 7\n",
    "\n",
    "blitz_df['yardsToGo_bucket'] = pd.cut(blitz_df['yardsToGo'], bins=num_bins, right=False)\n",
    "\n",
    "blitz_rate_by_bucket = blitz_df.groupby('yardsToGo_bucket')['isBlitz'].mean().reset_index()\n",
    "blitz_rate_by_bucket['blitz_percent'] = blitz_rate_by_bucket['isBlitz'] * 100\n",
    "\n",
    "plt.figure(figsize=(12, 6))\n",
    "sns.barplot(data=blitz_rate_by_bucket, x='yardsToGo_bucket', y='blitz_percent')\n",
    "plt.title(\"Percentage of Plays that are Blitzes by Yards to Go (Automatic Bins)\", fontsize=14)\n",
    "plt.xlabel(\"Yards to Go (Buckets)\")\n",
    "plt.ylabel(\"Blitz Rate (%)\")\n",
    "plt.tight_layout()\n",
    "plt.show()"
   ]
  },
  {
   "cell_type": "markdown",
   "metadata": {},
   "source": [
    "It is not immediately clear whether there is a relationship between yards to go and incidence of blitzes. But there does seem to be a dip in blitz instances at either very high or relatively low yards to go."
   ]
  },
  {
   "cell_type": "markdown",
   "metadata": {},
   "source": [
    "### Blitz by Team"
   ]
  },
  {
   "cell_type": "code",
   "execution_count": 32,
   "metadata": {},
   "outputs": [
    {
     "data": {
      "image/png": "[encoded data removed]",
      "text/plain": [
       "<Figure size 1200x600 with 1 Axes>"
      ]
     },
     "metadata": {},
     "output_type": "display_data"
    }
   ],
   "source": [
    "import statsmodels.formula.api as smf\n",
    "import numpy as np\n",
    "\n",
    "blitz_df['teamAbbr'] = np.where(\n",
    "    blitz_df['homeTeamAbbr'] == blitz_df['possessionTeam'],\n",
    "    blitz_df['visitorTeamAbbr'],\n",
    "    blitz_df['homeTeamAbbr']\n",
    ")\n",
    "\n",
    "blitz_rate_by_team = blitz_df.groupby('teamAbbr')['isBlitz'].mean().reset_index()\n",
    "blitz_rate_by_team['blitz_percent'] = blitz_rate_by_team['isBlitz'] * 100\n",
    "\n",
    "plt.figure(figsize=(12, 6))\n",
    "sns.barplot(data=blitz_rate_by_team, x='teamAbbr', y='blitz_percent')\n",
    "plt.title(\"Unadjusted Blitz Rate by Team\", fontsize=14)\n",
    "plt.xlabel(\"Team\")\n",
    "plt.ylabel(\"Blitz Rate (%)\")\n",
    "plt.tight_layout()\n",
    "plt.show()"
   ]
  },
  {
   "cell_type": "code",
   "execution_count": 34,
   "metadata": {},
   "outputs": [
    {
     "name": "stdout",
     "output_type": "stream",
     "text": [
      "                           Logit Regression Results                           \n",
      "==============================================================================\n",
      "Dep. Variable:                isBlitz   No. Observations:               316777\n",
      "Model:                          Logit   Df Residuals:                   316742\n",
      "Method:                           MLE   Df Model:                           34\n",
      "Date:                Fri, 18 Apr 2025   Pseudo R-squ.:                 0.01007\n",
      "Time:                        00:17:08   Log-Likelihood:            -1.1879e+05\n",
      "converged:                       True   LL-Null:                   -1.2000e+05\n",
      "Covariance Type:            nonrobust   LLR p-value:                     0.000\n",
      "======================================================================================\n",
      "                         coef    std err          z      P>|z|      [0.025      0.975]\n",
      "--------------------------------------------------------------------------------------\n",
      "Intercept             -2.5866      0.034    -75.431      0.000      -2.654      -2.519\n",
      "C(teamAbbr)[T.ATL]    -0.1365      0.040     -3.421      0.001      -0.215      -0.058\n",
      "C(teamAbbr)[T.BAL]    -0.1034      0.040     -2.576      0.010      -0.182      -0.025\n",
      "C(teamAbbr)[T.BUF]    -0.2993      0.044     -6.800      0.000      -0.386      -0.213\n",
      "C(teamAbbr)[T.CAR]    -0.1963      0.041     -4.745      0.000      -0.277      -0.115\n",
      "C(teamAbbr)[T.CHI]    -0.2772      0.043     -6.410      0.000      -0.362      -0.192\n",
      "C(teamAbbr)[T.CIN]    -0.2868      0.042     -6.811      0.000      -0.369      -0.204\n",
      "C(teamAbbr)[T.CLE]    -0.2138      0.044     -4.909      0.000      -0.299      -0.128\n",
      "C(teamAbbr)[T.DAL]    -0.2524      0.043     -5.820      0.000      -0.337      -0.167\n",
      "C(teamAbbr)[T.DEN]    -0.1314      0.042     -3.157      0.002      -0.213      -0.050\n",
      "C(teamAbbr)[T.DET]    -0.0834      0.042     -1.996      0.046      -0.165      -0.001\n",
      "C(teamAbbr)[T.GB]     -0.2798      0.043     -6.457      0.000      -0.365      -0.195\n",
      "C(teamAbbr)[T.HOU]    -0.3035      0.044     -6.917      0.000      -0.389      -0.217\n",
      "C(teamAbbr)[T.IND]    -0.3024      0.043     -7.113      0.000      -0.386      -0.219\n",
      "C(teamAbbr)[T.JAX]    -0.1832      0.041     -4.468      0.000      -0.264      -0.103\n",
      "C(teamAbbr)[T.KC]     -0.1134      0.041     -2.754      0.006      -0.194      -0.033\n",
      "C(teamAbbr)[T.LA]     -0.1688      0.043     -3.964      0.000      -0.252      -0.085\n",
      "C(teamAbbr)[T.LAC]    -0.1658      0.042     -3.916      0.000      -0.249      -0.083\n",
      "C(teamAbbr)[T.LV]     -0.1697      0.042     -4.041      0.000      -0.252      -0.087\n",
      "C(teamAbbr)[T.MIA]    -0.0599      0.040     -1.486      0.137      -0.139       0.019\n",
      "C(teamAbbr)[T.MIN]    -0.1831      0.042     -4.352      0.000      -0.265      -0.101\n",
      "C(teamAbbr)[T.NE]     -0.1798      0.041     -4.405      0.000      -0.260      -0.100\n",
      "C(teamAbbr)[T.NO]     -0.2310      0.042     -5.504      0.000      -0.313      -0.149\n",
      "C(teamAbbr)[T.NYG]    -0.1162      0.043     -2.708      0.007      -0.200      -0.032\n",
      "C(teamAbbr)[T.NYJ]    -0.2611      0.041     -6.352      0.000      -0.342      -0.181\n",
      "C(teamAbbr)[T.PHI]    -0.1384      0.042     -3.294      0.001      -0.221      -0.056\n",
      "C(teamAbbr)[T.PIT]    -0.1016      0.041     -2.459      0.014      -0.183      -0.021\n",
      "C(teamAbbr)[T.SEA]    -0.2295      0.041     -5.563      0.000      -0.310      -0.149\n",
      "C(teamAbbr)[T.SF]     -0.2375      0.044     -5.372      0.000      -0.324      -0.151\n",
      "C(teamAbbr)[T.TB]     -0.2198      0.041     -5.361      0.000      -0.300      -0.139\n",
      "C(teamAbbr)[T.TEN]    -0.0363      0.041     -0.890      0.373      -0.116       0.044\n",
      "C(teamAbbr)[T.WAS]    -0.1395      0.041     -3.423      0.001      -0.219      -0.060\n",
      "down                   0.2819      0.007     43.096      0.000       0.269       0.295\n",
      "yardsToGo              0.0343      0.001     25.778      0.000       0.032       0.037\n",
      "scoreDiff             -0.0061      0.000    -12.315      0.000      -0.007      -0.005\n",
      "======================================================================================\n"
     ]
    },
    {
     "data": {
      "image/png": "[encoded data removed]",
      "text/plain": [
       "<Figure size 1200x600 with 1 Axes>"
      ]
     },
     "metadata": {},
     "output_type": "display_data"
    }
   ],
   "source": [
    "model = smf.logit(\"isBlitz ~ C(teamAbbr) + down + yardsToGo + scoreDiff\", data=blitz_df).fit(disp=False)\n",
    "print(model.summary())\n",
    "\n",
    "typical_down = blitz_df['down'].median()\n",
    "typical_yards = blitz_df['yardsToGo'].median()\n",
    "typical_score = blitz_df['scoreDiff'].median()\n",
    "\n",
    "teams = blitz_df['teamAbbr'].unique()\n",
    "pred_df = pd.DataFrame({\n",
    "    'teamAbbr': teams,\n",
    "    'down': typical_down,\n",
    "    'yardsToGo': typical_yards,\n",
    "    'scoreDiff': typical_score\n",
    "})\n",
    "\n",
    "# Predict probability for each team.\n",
    "pred_df['predicted_prob'] = model.predict(pred_df)\n",
    "pred_df['predicted_percent'] = pred_df['predicted_prob'] * 100\n",
    "\n",
    "plt.figure(figsize=(12, 6))\n",
    "sns.barplot(data=pred_df.sort_values('predicted_percent', ascending=False), x='teamAbbr', y='predicted_percent')\n",
    "plt.title(\"Adjusted Blitz Rate by Team (Controlled for Down, YardsToGo, ScoreDiff)\", fontsize=14)\n",
    "plt.xlabel(\"Team\")\n",
    "plt.ylabel(\"Adjusted Blitz Rate (%)\")\n",
    "plt.tight_layout()\n",
    "plt.show()"
   ]
  },
  {
   "cell_type": "markdown",
   "metadata": {},
   "source": [
    "There does not appear to be much differentiation across different teams in relation to blitz rates."
   ]
  },
  {
   "cell_type": "code",
   "execution_count": null,
   "metadata": {},
   "outputs": [],
   "source": []
  },
  {
   "cell_type": "code",
   "execution_count": null,
   "metadata": {},
   "outputs": [],
   "source": []
  },
  {
   "cell_type": "code",
   "execution_count": null,
   "metadata": {},
   "outputs": [],
   "source": []
  }
 ],
 "metadata": {
  "kernelspec": {
   "display_name": "tf_macos",
   "language": "python",
   "name": "python3"
  },
  "language_info": {
   "codemirror_mode": {
    "name": "ipython",
    "version": 3
   },
   "file_extension": ".py",
   "mimetype": "text/x-python",
   "name": "python",
   "nbconvert_exporter": "python",
   "pygments_lexer": "ipython3",
   "version": "3.10.13"
  },
  "orig_nbformat": 4
 },
 "nbformat": 4,
 "nbformat_minor": 2
}
