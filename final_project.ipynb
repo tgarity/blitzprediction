{
 "cells": [
  {
   "cell_type": "code",
   "execution_count": null,
   "id": "8f541762",
   "metadata": {},
   "outputs": [],
   "source": [
    "import os\n",
    "import pandas as pd\n",
    "import numpy as np\n",
    "from sklearn.model_selection import train_test_split\n",
    "from sklearn.linear_model import LogisticRegression\n",
    "from sklearn.metrics import classification_report"
   ]
  },
  {
   "cell_type": "markdown",
   "id": "6bee7f1d",
   "metadata": {},
   "source": [
    "# 🏈 Predicting Blitzes Using Pre-Snap Behavior\n",
    "\n",
    "**Authors:**  \n",
    "- Chris Doyle (christopherdoyle@college.harvard.edu)  \n",
    "- Hans Elasri (hanselasri@college.harvard.edu)  \n",
    "- Thomas Garity (tgarity@college.harvard.edu)  \n",
    "- Rishi Hazra (rishihazra@college.harvard.edu)  \n",
    "- Chris Ruaño (cruano@college.harvard.edu)\n",
    "\n",
    "---\n",
    "\n",
    "## Project Summary\n",
    "\n",
    "Blitzing is one of the most aggressive and high-risk strategies in football. When executed well, it can disrupt an offensive drive by forcing the quarterback into rushed decisions; when misread or mistimed, it can leave the defense vulnerable to big plays. Offensive coaches and quarterbacks spend countless hours studying pre-snap cues to anticipate incoming blitzes, while defenses work just as hard to disguise them through subtle shifts, delayed rushes, and simulated pressures.\n",
    "\n",
    "Our project aims to bring analytics into this equation by predicting whether a defense will blitz, using only pre-snap player tracking data from the NFL Big Data Bowl 2025 dataset. By extracting features such as player positioning, movement trends, alignment depth, and formation structure, we seek to develop machine learning models that systematically classify plays as blitz or non-blitz scenarios. \n",
    "\n",
    "A successful model would not only help identify the most telling pre-snap indicators of pressure but also provide a practical tool for offensive strategists to better anticipate and counter defensive blitzes, enhancing both game preparation and real-time decision-making.\n",
    "\n",
    "---\n",
    "\n",
    "## Data Structure\n",
    "\n",
    "Our data can be downloaded from the 2025 Big Data Bowl on [Kaggle](https://www.kaggle.com/competitions/nfl-big-data-bowl-2025/data)  \n",
    "or using the Kaggle API:\n",
    "\n",
    "```\n",
    "kaggle competitions download -c nfl-big-data-bowl-2025\n",
    "```\n",
    "\n",
    "**Instructions:**\n",
    "- Download the dataset and unzip the file `nfl-big-data-bowl-2025.zip`.\n",
    "- The datasets will be saved in a `\\nfl-big-data-bowl-2025` directory within the project repo.\n",
    "- Ensure that this directory is listed in your `.gitignore` file to avoid pushing large data files to GitHub.\n",
    "\n",
    "Now, let's check that the data has been downloaded correctly:"
   ]
  },
  {
   "cell_type": "code",
   "execution_count": null,
   "id": "50fdd98b",
   "metadata": {},
   "outputs": [],
   "source": [
    "# ensure all tables downloaded\n",
    "print(\"Data Availabe: \")\n",
    "os.listdir('./nfl-big-data-bowl-2025/')"
   ]
  },
  {
   "cell_type": "code",
   "execution_count": null,
   "id": "1f0237c5",
   "metadata": {},
   "outputs": [],
   "source": [
    "!du -sh nfl-big-data-bowl-2025"
   ]
  },
  {
   "cell_type": "code",
   "execution_count": null,
   "id": "28e39e54",
   "metadata": {},
   "outputs": [],
   "source": [
    "plays_df = pd.read_csv('./nfl-big-data-bowl-2025/plays.csv')\n",
    "players_df = pd.read_csv('./nfl-big-data-bowl-2025/players.csv')\n",
    "games_df = pd.read_csv('./nfl-big-data-bowl-2025/games.csv')\n",
    "player_play_df = pd.read_csv('./nfl-big-data-bowl-2025/player_play.csv')\n",
    "tracking_weeks = pd.DataFrame()\n",
    "for week in range(1, 10):\n",
    "    current_week = pd.read_csv(f'./nfl-big-data-bowl-2025/tracking_week_{week}.csv')\n",
    "    tracking_weeks = pd.concat([tracking_weeks, current_week], ignore_index=True)\n"
   ]
  },
  {
   "cell_type": "markdown",
   "id": "e4f84412",
   "metadata": {},
   "source": [
    "## Data Summary\n",
    "\n",
    "### 1. `games.csv`\n",
    "- **Purpose:** Info about each game.\n",
    "- **Important Variables:**\n",
    "  - `gameId` (primary key)\n",
    "  - `season`, `week`\n",
    "  - `homeTeamAbbr`, `visitorTeamAbbr`\n",
    "- **Project Relevance:** Mostly for joining, basic game context (e.g., week, matchup). Not critical for blitz prediction itself.\n",
    "\n",
    "---\n",
    "\n",
    "### 2. `plays.csv`\n",
    "- **Purpose:** Play-level metadata.\n",
    "- **Important Variables:**\n",
    "  - `gameId`, `playId` (keys)\n",
    "  - `quarter`, `down`, `yardsToGo`\n",
    "  - `possessionTeam`, `defensiveTeam`\n",
    "  - `offenseFormation`\n",
    "  - `playDescription`\n",
    "  - `isDropback` (Boolean: did QB drop back)\n",
    "  - `pff_passCoverage` (type of defensive coverage)\n",
    "  - `pff_manZone` (man vs zone coverage)\n",
    "  - `playAction` (play-action pass or not)\n",
    "- **Project Relevance:** Crucial for understanding pre-snap situation and defensive alignment; used for labels or features in blitz prediction.\n",
    "\n",
    "---\n",
    "\n",
    "### 3. `players.csv`\n",
    "- **Purpose:** Static player information.\n",
    "- **Important Variables:**\n",
    "  - `nflId` (player key)\n",
    "  - `position`\n",
    "  - `displayName`\n",
    "- **Project Relevance:** Helpful for interpreting player roles; minor for pure blitz prediction unless modeling specific player tendencies.\n",
    "\n",
    "---\n",
    "\n",
    "### 4. `player_play.csv`\n",
    "- **Purpose:** Player-level stats per play.\n",
    "- **Important Variables:**\n",
    "  - `gameId`, `playId`, `nflId` (keys)\n",
    "  - `teamAbbr`\n",
    "  - `wasInitialPassRusher` (binary, key for identifying blitzers!)\n",
    "  - `causedPressure`\n",
    "  - `timeToPressureAsPassRusher`\n",
    "  - `getOffAsPassRusher`\n",
    "- **Project Relevance:** Allows you to know who blitzed (extra rushers) and pressure dynamics.\n",
    "\n",
    "---\n",
    "\n",
    "### 5. `tracking_week_[1-9].csv`\n",
    "- **Purpose:** Frame-by-frame tracking data (player movement).\n",
    "- **Important Variables:**\n",
    "  - `gameId`, `playId`, `nflId`\n",
    "  - `frameId`, `time`\n",
    "  - `x`, `y` (player positions)\n",
    "  - `s`, `a`, `dis` (speed, acceleration, distance moved)\n",
    "  - `o` (orientation) and `dir` (direction)\n",
    "  - `event` (snap, ball release, etc.)\n",
    "- **Project Relevance:** Used to generate **pre-snap features** like player alignments, movement, speed, and timing at snap. Core inputs for neural networks.\n"
   ]
  },
  {
   "cell_type": "code",
   "execution_count": null,
   "id": "1577dd3c",
   "metadata": {},
   "outputs": [],
   "source": [
    "plays_df.head()"
   ]
  },
  {
   "cell_type": "code",
   "execution_count": null,
   "id": "a0cf7eb3",
   "metadata": {},
   "outputs": [],
   "source": [
    "players_df.head()"
   ]
  },
  {
   "cell_type": "code",
   "execution_count": null,
   "id": "c63444cc",
   "metadata": {},
   "outputs": [],
   "source": [
    "games_df.head()"
   ]
  },
  {
   "cell_type": "code",
   "execution_count": null,
   "id": "deca64a9",
   "metadata": {},
   "outputs": [],
   "source": [
    "player_play_df.head()"
   ]
  },
  {
   "cell_type": "code",
   "execution_count": null,
   "id": "2b865a75",
   "metadata": {},
   "outputs": [],
   "source": [
    "tracking_weeks.head()"
   ]
  },
  {
   "cell_type": "markdown",
   "id": "29a3f212",
   "metadata": {},
   "source": [
    "We utilize only BEFORE_SNAP data, as it represents the complete set of information accessible when the decision to blitz must be made during actual gameplay."
   ]
  },
  {
   "cell_type": "code",
   "execution_count": null,
   "id": "1f1f08e4",
   "metadata": {},
   "outputs": [],
   "source": [
    "tracking_weeks_filtered = tracking_weeks[tracking_weeks['frameType'] == 'BEFORE_SNAP' ]\n",
    "tracking_weeks_filtered.head()"
   ]
  },
  {
   "cell_type": "code",
   "execution_count": null,
   "id": "3d3e7b2d",
   "metadata": {},
   "outputs": [],
   "source": [
    "master_df = pd.DataFrame()"
   ]
  },
  {
   "cell_type": "code",
   "execution_count": null,
   "id": "fa0af6a2",
   "metadata": {},
   "outputs": [],
   "source": [
    "# merge player_play_df with players_df to get player names\n",
    "master_df = player_play_df.merge(players_df[['nflId', 'displayName', 'position']], on='nflId', how='left')\n",
    "master_df.head()"
   ]
  },
  {
   "cell_type": "code",
   "execution_count": null,
   "id": "0779bb87",
   "metadata": {},
   "outputs": [],
   "source": [
    "# merge player_play_df with plays_df on both playId and gameId\n",
    "master_df = master_df.merge(plays_df, on=['playId', 'gameId'], how='left')\n",
    "master_df.head()"
   ]
  },
  {
   "cell_type": "code",
   "execution_count": null,
   "id": "bed7cf63",
   "metadata": {},
   "outputs": [],
   "source": [
    "# merge master_df with games_df on gameId\n",
    "master_df = master_df.merge(games_df, on='gameId', how='left')\n",
    "master_df.head()"
   ]
  },
  {
   "cell_type": "code",
   "execution_count": null,
   "id": "dc0b07e0",
   "metadata": {},
   "outputs": [],
   "source": [
    "# merge master_df with tracking_weeks on gameId, playId, and nflId\n",
    "master_df = master_df.merge(tracking_weeks, on=['gameId', 'playId', 'nflId'], how='left')\n",
    "master_df.head()"
   ]
  },
  {
   "cell_type": "code",
   "execution_count": null,
   "id": "cb6d2355",
   "metadata": {},
   "outputs": [],
   "source": [
    "tracking_weeks.head()"
   ]
  },
  {
   "cell_type": "markdown",
   "id": "497072fb",
   "metadata": {},
   "source": [
    "## Blitz Labeling Methodology\n",
    "\n",
    "To label whether a play is a blitz, we adopt a method inspired by Dominic Borsani’s approach in the 2023 NFL Big Data Bowl. Rather than relying directly on provided scouting labels, we infer blitz likelihood based on **pre-snap defender behavior** observable in the tracking data.\n",
    "\n",
    "Specifically, we use the following steps:\n",
    "\n",
    "- Merge tracking data (`tracking_week_*`) with play metadata from `plays.csv` to access line of scrimmage (`LOS`) information.\n",
    "- Identify **frames where `frameType == 'SNAP'`**, which correspond to the official ball snap moment.\n",
    "- For each defender at ball snap:\n",
    "  - **Distance from LOS**: Compute the absolute difference between the player’s `x` coordinate and the line of scrimmage (`LOS_x`), adjusted for play direction.\n",
    "  - **Motion Toward LOS**: Estimate whether a player is moving toward the ball using the `dir` (direction) and `playDirection`.\n",
    "  - **Velocity Toward LOS**: Calculate as `speed × motion_toward_ball`.\n",
    "- A defender is flagged as a **likely blitzer** if:\n",
    "  - They are **within 5 yards** of the line of scrimmage at the snap, **and**\n",
    "  - They are **moving toward the LOS at greater than 1.5 yards per second**.\n",
    "- At the play level, we sum the number of players flagged as likely blitzers.\n",
    "\n",
    "We define a **blitz play** as one where **more than 1 defender** meets the blitz criteria at the snap.  \n",
    "This threshold aligns with the intuition that sending multiple extra rushers constitutes a true blitz rather than just a normal pass rush.\n",
    "\n",
    "---\n",
    "\n",
    "### Reference\n",
    "\n",
    "Borsani, D. (2023). *Beat the Offensive Line: Using Data to Determine Blitz Strategy.* NFL Big Data Bowl, Finalist Project.\n"
   ]
  },
  {
   "cell_type": "code",
   "execution_count": null,
   "id": "50040438",
   "metadata": {},
   "outputs": [],
   "source": [
    "# count unique plays\n",
    "unique_plays = tracking_weeks[['gameId', 'playId']].drop_duplicates()\n",
    "print(f\"Number of unique plays: {len(unique_plays)}\")"
   ]
  },
  {
   "cell_type": "code",
   "execution_count": null,
   "id": "fb7f2ad5",
   "metadata": {},
   "outputs": [],
   "source": [
    "plays_subset = plays_df[['gameId', 'playId', 'yardlineNumber', 'yardlineSide', 'absoluteYardlineNumber']]\n",
    "tracking = tracking_weeks.merge(plays_subset, on=['gameId', 'playId'], how='left')\n",
    "\n",
    "# keep only frames right at ball snap\n",
    "snap_tracking = tracking[tracking['frameType'] == 'SNAP']\n",
    "\n",
    "# calculate LOS x-coordinate\n",
    "def calculate_los_x(playDirection, absoluteYardlineNumber):\n",
    "    if playDirection == 'left':\n",
    "        return 100 - absoluteYardlineNumber\n",
    "    else:\n",
    "        return absoluteYardlineNumber\n",
    "\n",
    "snap_tracking['LOS_x'] = snap_tracking.apply(\n",
    "    lambda row: calculate_los_x(row['playDirection'], row['absoluteYardlineNumber']), axis=1\n",
    ")\n",
    "\n",
    "# distance from LOS\n",
    "snap_tracking['dist_from_LOS'] = np.abs(snap_tracking['x'] - snap_tracking['LOS_x'])\n",
    "\n",
    "# motion toward ball based on play direction\n",
    "def motion_toward_ball(row):\n",
    "    if row['playDirection'] == 'left':\n",
    "        return np.cos(np.deg2rad(row['dir']))\n",
    "    else:\n",
    "        return np.cos(np.deg2rad(row['dir'] - 180))\n",
    "\n",
    "snap_tracking['motion_toward_ball'] = snap_tracking.apply(motion_toward_ball, axis=1)\n",
    "\n",
    "# velocity toward LOS\n",
    "snap_tracking['velocity_toward_LOS'] = snap_tracking['s'] * snap_tracking['motion_toward_ball']\n",
    "\n",
    "# likely blitzer = close to LOS and moving fast toward ball\n",
    "snap_tracking['isLikelyBlitzer'] = (\n",
    "    (snap_tracking['dist_from_LOS'] <= 5) &\n",
    "    (snap_tracking['velocity_toward_LOS'] > 1.5)\n",
    ").astype(int)\n",
    "\n",
    "# count likely blitzers\n",
    "num_likely_blitzers = snap_tracking['isLikelyBlitzer'].sum()\n",
    "print(f\"Total number of players flagged as likely blitzers: {num_likely_blitzers}\")\n",
    "\n",
    "# count blitzers per play\n",
    "blitzer_counts_by_play = snap_tracking.groupby(['gameId', 'playId'])['isLikelyBlitzer'].sum().reset_index()\n",
    "print(blitzer_counts_by_play.head())"
   ]
  },
  {
   "cell_type": "code",
   "execution_count": null,
   "id": "aed39452",
   "metadata": {},
   "outputs": [],
   "source": [
    "# count plays with 1+ blitzer\n",
    "plays_with_blitzers = blitzer_counts_by_play[blitzer_counts_by_play['isLikelyBlitzer'] > 0]\n",
    "num_plays_with_blitzers = len(plays_with_blitzers)\n",
    "\n",
    "# Count total unique plays\n",
    "total_plays = len(blitzer_counts_by_play)\n",
    "\n",
    "# calculate percentage\n",
    "blitz_percentage = (num_plays_with_blitzers / total_plays) * 100 if total_plays > 0 else 0\n",
    "\n",
    "print(f\"Total plays: {total_plays}\")\n",
    "print(f\"Plays with at least one blitzer: {num_plays_with_blitzers}\")\n",
    "print(f\"Percentage of plays with blitzers: {blitz_percentage:.2f}%\")\n",
    "\n",
    "# count pass plays\n",
    "pass_plays = plays_df[plays_df['isDropback'] == 1]\n",
    "print(f\"Number of pass plays: {len(pass_plays)}\")\n",
    "\n",
    "# calculate percentage of pass plays with blitzers\n",
    "pass_plays_with_blitzers = pass_plays[pass_plays['playId'].isin(plays_with_blitzers['playId'])]\n",
    "num_pass_plays_with_blitzers = len(pass_plays_with_blitzers)\n",
    "pass_plays_total = len(pass_plays)\n",
    "pass_blitz_percentage = (num_pass_plays_with_blitzers / pass_plays_total) * 100 if pass_plays_total > 0 else 0\n",
    "print(f\"Total pass plays: {pass_plays_total}\")\n",
    "print(f\"Pass plays with at least one blitzer: {num_pass_plays_with_blitzers}\")\n",
    "print(f\"Percentage of pass plays with blitzers: {pass_blitz_percentage:.2f}%\")\n",
    "\n",
    "# breakdown of plays by number of blitzers\n",
    "blitzer_distribution = blitzer_counts_by_play['isLikelyBlitzer'].value_counts().sort_index()\n",
    "print(\"\\nDistribution of blitzers per play:\")\n",
    "print(blitzer_distribution)\n",
    "\n",
    "# classify plays as blitzes if > threshold_for_blitz_play likely blitzers\n",
    "threshold_for_blitz_play = 1\n",
    "plays_with_significant_blitz = blitzer_counts_by_play[blitzer_counts_by_play['isLikelyBlitzer'] > threshold_for_blitz_play]\n",
    "print(f\"\\nPlays with more than {threshold_for_blitz_play} blitzer(s): {len(plays_with_significant_blitz)}\")\n",
    "print(f\"Percentage: {(len(plays_with_significant_blitz) / total_plays) * 100:.2f}%\")"
   ]
  },
  {
   "cell_type": "markdown",
   "id": "0180e657",
   "metadata": {},
   "source": [
    "## Baseline Model: Logistic Regression\n",
    "\n",
    "### Objective\n",
    "\n",
    "We attempt to predict whether a **defender will blitz** (`isLikelyBlitzer = 1`) based **only on information available before the snap**. In NFL game situations, quarterbacks and offensive coordinators must make real-time protection adjustments based on pre-snap alignments, player movement, and game context. To mirror this reality, our model is strictly limited to **pre-snap observable features**.\n",
    "\n",
    "---\n",
    "\n",
    "## Rationale for Feature Selection\n",
    "\n",
    "Our features are selected based on what a quarterback or coach could realistically observe live:\n",
    "\n",
    "- **Tracking Data (Pre-Snap, `tracking_week_*`)**:\n",
    "  - `x`, `y`: Player's location on the field at the snap.\n",
    "  - `s`: Player speed (yards/second) — shows if a defender is creeping forward.\n",
    "  - `a`: Player acceleration (yards/second²) — sudden movement may indicate blitz.\n",
    "  - `dis`: Distance traveled since the prior frame.\n",
    "  - `o`: Player orientation (which direction their body is facing).\n",
    "  - `dir`: Direction of player motion.\n",
    "\n",
    "- **Play Metadata (`plays.csv`)**:\n",
    "  - `down`: Current down (1st, 2nd, 3rd, 4th) — blitzes more common on late downs.\n",
    "  - `yardsToGo`: Distance to first down — long distances can encourage blitzing.\n",
    "  - `playClockAtSnap`: Remaining play clock time — last-second snaps may alter defensive behavior.\n",
    "  - `offenseFormation`: Offensive alignment (categorical).\n",
    "  - `pff_passCoverage`: Defensive coverage scheme (categorical).\n",
    "  - `pff_manZone`: Whether the defense was playing man or zone.\n",
    "\n",
    "- **Player Metadata (`players.csv`)**:\n",
    "  - `position`: Player position group (e.g., LB, CB, S, DE).\n",
    "\n",
    "All categorical variables are **one-hot encoded** to integrate cleanly with our modeling approach.\n",
    "\n",
    "By using only pre-snap tracking and contextual information, the model realistically approximates how a quarterback or coach would scout for potential blitzers in real time.\n",
    "\n",
    "---\n",
    "\n",
    "## Preprocessing Steps\n",
    "\n",
    "1. **Filter to defenders only**: Identify players on the defensive team (`club != possessionTeam`).\n",
    "2. **Restrict frames** to `frameType == 'SNAP'`: Capture exact alignment and motion at the moment of the snap.\n",
    "3. **Merge metadata**: Add player position and play context (down, distance, formation, coverage).\n",
    "4. **Handle missing values**: Fill missing categorical fields (e.g., `offenseFormation`) with \"Unknown\".\n",
    "5. **One-hot encode** categorical features: Transform `position`, `offenseFormation`, `pff_passCoverage`, and `pff_manZone`.\n",
    "6. **Prepare X and y**:\n",
    "   - **X**: Pre-snap physical and contextual features.\n",
    "   - **y**: Binary label (`isLikelyBlitzer`), engineered from motion and distance heuristics.\n",
    "\n",
    "---\n",
    "\n",
    "## Baseline Model\n",
    "\n",
    "- **Model:** Logistic Regression\n",
    "- **Class Imbalance Handling:** \n",
    "  - Apply `class_weight='balanced'` to automatically adjust for the minority class (blitzers).\n",
    "  - This prevents the model from simply predicting \"no blitz\" every time, and encourages sensitivity to rare blitz behaviors.\n",
    "- **Train-Test Split:** \n",
    "  - 80% of data used for training, 20% held out for testing.\n",
    "  - Stratified sampling is used to preserve the blitz/non-blitz ratio."
   ]
  },
  {
   "cell_type": "markdown",
   "id": "18b505b6",
   "metadata": {},
   "source": [
    "Rishi, we should merge these into master_df, unless that would make compute time intractable."
   ]
  },
  {
   "cell_type": "code",
   "execution_count": null,
   "id": "f0772437",
   "metadata": {},
   "outputs": [],
   "source": [
    "# merge in play-level context if not already there\n",
    "if 'possessionTeam' not in snap_tracking.columns:\n",
    "    snap_tracking = snap_tracking.merge(plays_df[['gameId', 'playId', 'possessionTeam']], on=['gameId', 'playId'], how='left')\n",
    "\n",
    "# filter to defenders\n",
    "snap_tracking_defense = snap_tracking[snap_tracking['club'] != snap_tracking['possessionTeam']].copy()\n",
    "\n",
    "# merge player positions\n",
    "if 'position' not in snap_tracking_defense.columns:\n",
    "    snap_tracking_defense = snap_tracking_defense.merge(players_df[['nflId', 'position']], on='nflId', how='left')\n",
    "\n",
    "# merge play metadata\n",
    "metadata_cols = ['gameId', 'playId', 'down', 'yardsToGo', 'offenseFormation', 'playClockAtSnap', 'pff_passCoverage', 'pff_manZone']\n",
    "if not all(col in snap_tracking_defense.columns for col in ['down', 'yardsToGo', 'offenseFormation']):\n",
    "    snap_tracking_defense = snap_tracking_defense.merge(plays_df[metadata_cols], on=['gameId', 'playId'], how='left')"
   ]
  },
  {
   "cell_type": "markdown",
   "id": "4e67d32a",
   "metadata": {},
   "source": [
    "I didn't run code, so explicitly check for missingness before imputing NAs."
   ]
  },
  {
   "cell_type": "code",
   "execution_count": null,
   "id": "56720efa",
   "metadata": {},
   "outputs": [],
   "source": [
    "# fill missing categorical fields\n",
    "snap_tracking_defense['position'] = snap_tracking_defense['position'].fillna('Unknown')\n",
    "snap_tracking_defense['offenseFormation'] = snap_tracking_defense['offenseFormation'].fillna('Unknown')\n",
    "snap_tracking_defense['pff_passCoverage'] = snap_tracking_defense['pff_passCoverage'].fillna('Unknown')\n",
    "snap_tracking_defense['pff_manZone'] = snap_tracking_defense['pff_manZone'].fillna('Unknown')"
   ]
  },
  {
   "cell_type": "code",
   "execution_count": null,
   "id": "25c7f459",
   "metadata": {},
   "outputs": [],
   "source": [
    "# one-hot encode categorical columns\n",
    "snap_tracking_encoded = pd.get_dummies(\n",
    "    snap_tracking_defense,\n",
    "    columns=['position', 'offenseFormation', 'pff_passCoverage', 'pff_manZone'],\n",
    "    drop_first=True\n",
    ")"
   ]
  },
  {
   "cell_type": "code",
   "execution_count": null,
   "id": "5c3ed601",
   "metadata": {},
   "outputs": [],
   "source": [
    "# train-test split\n",
    "X_train, X_test, y_train, y_test = train_test_split(X, y, stratify=y, test_size=0.2, random_state=42)"
   ]
  },
  {
   "cell_type": "code",
   "execution_count": null,
   "id": "b3a764fc",
   "metadata": {},
   "outputs": [],
   "source": [
    "# logistic regression\n",
    "logreg = LogisticRegression(max_iter=1000, class_weight='balanced')\n",
    "logreg.fit(X_train, y_train)"
   ]
  },
  {
   "cell_type": "code",
   "execution_count": null,
   "id": "f0f8cd86",
   "metadata": {},
   "outputs": [],
   "source": [
    "# evaluate results\n",
    "y_pred = logreg.predict(X_test)\n",
    "print(\"Classification Report (Logistic Regression Baseline):\")\n",
    "print(classification_report(y_test, y_pred))"
   ]
  }
 ],
 "metadata": {
  "kernelspec": {
   "display_name": "cs109a",
   "language": "python",
   "name": "python3"
  },
  "language_info": {
   "codemirror_mode": {
    "name": "ipython",
    "version": 3
   },
   "file_extension": ".py",
   "mimetype": "text/x-python",
   "name": "python",
   "nbconvert_exporter": "python",
   "pygments_lexer": "ipython3",
   "version": "3.12.5"
  }
 },
 "nbformat": 4,
 "nbformat_minor": 5
}
