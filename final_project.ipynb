{
 "cells": [
  {
   "cell_type": "code",
   "execution_count": 1,
   "id": "8f541762",
   "metadata": {},
   "outputs": [],
   "source": [
    "import os\n",
    "import numpy as np\n",
    "import pandas as pd\n",
    "import seaborn as sns\n",
    "import matplotlib.pyplot as plt\n",
    "from sklearn.impute import SimpleImputer\n",
    "from sklearn.linear_model import LogisticRegression\n",
    "from sklearn.metrics import classification_report\n",
    "from sklearn.model_selection import train_test_split\n",
    "from sklearn.pipeline import make_pipeline\n",
    "\n",
    "import tensorflow as tf\n",
    "from tensorflow.keras.models import Sequential\n",
    "from tensorflow.keras.layers import Dense, LSTM, Dropout, Bidirectional, BatchNormalization, Input\n",
    "from tensorflow.keras.optimizers import Adam\n",
    "from tensorflow.keras.callbacks import EarlyStopping, ModelCheckpoint, ReduceLROnPlateau"
   ]
  },
  {
   "cell_type": "markdown",
   "id": "ceb36b80",
   "metadata": {},
   "source": [
    "# Predicting Blitzes Using Pre-Snap Behavior\n",
    "\n",
    "**By:** Chris Doyle, Hans Elasri, Thomas Garity, Rishi Hazra, and Chris Ruaño (with some debugging assistance from generative AI)"
   ]
  },
  {
   "cell_type": "markdown",
   "id": "7d8ee55a",
   "metadata": {},
   "source": [
    "## Table of Contents\n",
    "\n",
    "1. [Introduction](#Introduction)\n",
    "2. [Data Loading and Preprocessing](#Data-Loading-and-Preprocessing)\n",
    "3. [Exploratory Data Analysis (EDA)](#Exploratory-Data-Analysis-(EDA))\n",
    "4. [Feature Engineering](#Feature-Engineering)\n",
    "5. [Modeling Approach](#Modeling-Approach)\n",
    "6. [Model Training and Evaluation](#Model-Training-and-Evaluation)\n",
    "7. [Results and Insights](#Results-and-Insights)\n",
    "8. [Next Steps](#Next-Steps)"
   ]
  },
  {
   "cell_type": "markdown",
   "id": "6bee7f1d",
   "metadata": {},
   "source": [
    "\n",
    "## Introduction\n",
    "\n",
    "Blitzing is one of the most aggressive and high-risk strategies in football. It is such an important phenomenon that the term has worked its way into everyday vernacular, in offices and at dinner tables alike. When executed well, it can disrupt an offensive drive by forcing the quarterback into rushed decisions; when misread or mistimed, it can leave the defense vulnerable to big plays. Offensive coaches and quarterbacks spend countless hours studying pre-snap cues to anticipate incoming blitzes, while defenses work just as hard to disguise them through subtle shifts, delayed rushes, and simulated pressures.\n",
    "\n",
    "Our project aims to bring analytics into this equation by predicting whether a defense will blitz, using only pre-snap player tracking data from the NFL Big Data Bowl 2025 dataset. By extracting features such as player positioning, movement trends, alignment depth, and formation structure, we seek to develop machine learning models that systematically classify plays as blitz or non-blitz scenarios. Of course, our goal is to go beyond what humans have typically been able to detect using long-established heuristics like linebacker positioning to best anticipate the presence of incoming pass rushers (although our EDA has corroborated the importance of linebackers in particular for blitz probability).\n",
    "\n",
    "A successful model would not only help identify the most telling pre-snap indicators of pressure but also provide a practical tool for offensive strategists to better anticipate and counter defensive blitzes, enhancing both game preparation and real-time decision-making. Using machine learning tools like memory, we also hope to encapsulate the dependencies that exist from play to play, altering how players and coaches alike react to sequential game decisions and outcomes."
   ]
  },
  {
   "cell_type": "markdown",
   "id": "b7fdec7e",
   "metadata": {},
   "source": [
    "## Data Loading and Preprocessing\n",
    "\n",
    "Our data can be downloaded from the 2025 Big Data Bowl on [Kaggle](https://www.kaggle.com/competitions/nfl-big-data-bowl-2025/data) or using the Kaggle API:\n",
    "\n",
    "```\n",
    "kaggle competitions download -c nfl-big-data-bowl-2025\n",
    "```\n",
    "\n",
    "**Instructions:**\n",
    "- Download the dataset and unzip the file `nfl-big-data-bowl-2025.zip`.\n",
    "- The datasets will be saved in a `\\nfl-big-data-bowl-2025` directory within the project repo.\n",
    "- Ensure that this directory is listed in your `.gitignore` file to avoid pushing large data files to GitHub.\n",
    "\n",
    "Now, let's check that the data has been downloaded correctly:"
   ]
  },
  {
   "cell_type": "code",
   "execution_count": 2,
   "id": "50fdd98b",
   "metadata": {},
   "outputs": [
    {
     "name": "stdout",
     "output_type": "stream",
     "text": [
      "Data Availabe: \n"
     ]
    },
    {
     "data": {
      "text/plain": [
       "['plays.csv',\n",
       " 'tracking_week_5.csv',\n",
       " 'tracking_week_4.csv',\n",
       " 'tracking_week_6.csv',\n",
       " 'tracking_week_7.csv',\n",
       " 'tracking_week_3.csv',\n",
       " 'tracking_week_2.csv',\n",
       " 'tracking_week_1.csv',\n",
       " 'players.csv',\n",
       " 'games.csv',\n",
       " 'tracking_week_9.csv',\n",
       " 'tracking_week_8.csv',\n",
       " 'player_play.csv']"
      ]
     },
     "execution_count": 2,
     "metadata": {},
     "output_type": "execute_result"
    }
   ],
   "source": [
    "# ensure all tables downloaded\n",
    "print(\"Data Availabe: \")\n",
    "os.listdir('./nfl-big-data-bowl-2025/')"
   ]
  },
  {
   "cell_type": "code",
   "execution_count": 3,
   "id": "1f0237c5",
   "metadata": {},
   "outputs": [
    {
     "name": "stdout",
     "output_type": "stream",
     "text": [
      "7.6G\tnfl-big-data-bowl-2025\n"
     ]
    }
   ],
   "source": [
    "# size of the data\n",
    "!du -sh nfl-big-data-bowl-2025"
   ]
  },
  {
   "cell_type": "code",
   "execution_count": 4,
   "id": "28e39e54",
   "metadata": {},
   "outputs": [],
   "source": [
    "# load datasets\n",
    "plays_df = pd.read_csv('./nfl-big-data-bowl-2025/plays.csv')\n",
    "players_df = pd.read_csv('./nfl-big-data-bowl-2025/players.csv')\n",
    "games_df = pd.read_csv('./nfl-big-data-bowl-2025/games.csv')\n",
    "player_play_df = pd.read_csv('./nfl-big-data-bowl-2025/player_play.csv')"
   ]
  },
  {
   "cell_type": "markdown",
   "id": "d80cc0ed",
   "metadata": {},
   "source": [
    "Since the tracking data is spread across multiple weekly files (`tracking_week_1.csv`, ..., `tracking_week_9.csv`), we load each week separately and then concatenate them into a single DataFrame called `tracking_weeks`. This ensures that all player tracking data is in one place for easier filtering and merging later."
   ]
  },
  {
   "cell_type": "code",
   "execution_count": 5,
   "id": "189c5614",
   "metadata": {},
   "outputs": [],
   "source": [
    "# combine tracking data into one df\n",
    "tracking_weeks = pd.DataFrame()\n",
    "for week in range(1, 10):\n",
    "    current_week = pd.read_csv(f'./nfl-big-data-bowl-2025/tracking_week_{week}.csv')\n",
    "    tracking_weeks = pd.concat([tracking_weeks, current_week], ignore_index=True)"
   ]
  },
  {
   "cell_type": "markdown",
   "id": "fad0dd02",
   "metadata": {},
   "source": [
    "To reduce dataset size for faster prototyping and exploratory analysis, we randomly sample 30% of games from `games.csv` and then filter:\n",
    "- `plays.csv`\n",
    "- `players.csv`\n",
    "- `games.csv`\n",
    "- `player_play.csv`\n",
    "- `tracking_weeks`\n",
    "\n",
    "to only keep rows corresponding to those sampled games.\n",
    "\n",
    "This maintains consistency across all datasets while making loading, EDA, and modeling much faster during early stages. Later, once feature engineering and modeling pipelines are finalized, we can re-run everything on the full dataset if needed."
   ]
  },
  {
   "cell_type": "code",
   "execution_count": 6,
   "id": "96e5a5de",
   "metadata": {},
   "outputs": [],
   "source": [
    "# randomly sample 30% gameId in games_df and filter plays_df, games_df, player_play_df, tracking_weeks\n",
    "sampled_game_ids = games_df['gameId'].sample(frac=0.3, random_state=42)\n",
    "plays_df = plays_df[plays_df['gameId'].isin(sampled_game_ids)]\n",
    "games_df = games_df[games_df['gameId'].isin(sampled_game_ids)]\n",
    "player_play_df = player_play_df[player_play_df['gameId'].isin(sampled_game_ids)]\n",
    "tracking_weeks = tracking_weeks[tracking_weeks['gameId'].isin(sampled_game_ids)]"
   ]
  },
  {
   "cell_type": "markdown",
   "id": "c96cca66",
   "metadata": {},
   "source": [
    "### `plays_df` Summary\n",
    "\n",
    "The `plays_df` contains play-level metadata for each snap in the dataset, including information about:\n",
    "- Game context\n",
    "- Team information\n",
    "- Pre-snap expected points and win probabilities\n",
    "- Play outcomes\n",
    "\n",
    "However, for our project, we are strictly limited to using pre-snap observable information, i.e. what quarterbacks and offensive coordinators could see and react to in real time. Therefore, we drop variables from `plays_df` that:\n",
    "- Reflect post-snap outcomes\n",
    "- Depend on events that occur after the play begins\n",
    "- Are not available to the offense at the time of the snap\n",
    "\n",
    "However, before dropping the post-snap outcome columns, we first remove Quarterback kneels and spikes, since defenses do not treat these situations competitively.\n",
    "\n",
    "For context, kneels are used to run out the clock and avoid contact, with no intent to advance the ball or face pressure, and spikes are clock management plays designed to stop the clock, not real passing attempts."
   ]
  },
  {
   "cell_type": "code",
   "execution_count": 7,
   "id": "cf3e582d",
   "metadata": {},
   "outputs": [],
   "source": [
    "# drop kneels and spikes\n",
    "plays_df = plays_df[(plays_df['qbKneel'] != 1) & (plays_df['qbSpike'] != 1)]"
   ]
  },
  {
   "cell_type": "code",
   "execution_count": 8,
   "id": "adc12a6a",
   "metadata": {},
   "outputs": [],
   "source": [
    "# drop unnecessary cols\n",
    "plays_df = plays_df.drop(columns=['playDescription', 'playNullifiedByPenalty', 'playClockAtSnap', 'passResult',\n",
    "                                    'passLength', 'targetX', 'targetY', 'playAction', 'dropbackType', 'dropbackDistance', 'passLocationType',\n",
    "                                    'timeToThrow', 'timeInTackleBox', 'timeToSack', 'passTippedAtLine',\n",
    "                                    'unblockedPressure', 'qbSpike', 'qbKneel', 'qbSneak',\n",
    "                                    'rushLocationType', 'penaltyYards', 'prePenaltyYardsGained',\n",
    "                                    'yardsGained', 'homeTeamWinProbabilityAdded',\n",
    "                                    'visitorTeamWinProbilityAdded', 'expectedPointsAdded',\n",
    "                                    'pff_runConceptPrimary', 'pff_runConceptSecondary', 'pff_runPassOption',\n",
    "                                    'pff_passCoverage', 'pff_manZone'])"
   ]
  },
  {
   "cell_type": "code",
   "execution_count": 9,
   "id": "5f0ace49",
   "metadata": {},
   "outputs": [],
   "source": [
    "# fill missing offensive formations\n",
    "plays_df['offenseFormation'] = plays_df['offenseFormation'].fillna('EMPTY')"
   ]
  },
  {
   "cell_type": "code",
   "execution_count": 10,
   "id": "0eea26a6",
   "metadata": {},
   "outputs": [],
   "source": [
    "# convert game clock from MM:SS to total min\n",
    "def convert_game_clock_to_minutes(game_clock):\n",
    "    if pd.isna(game_clock):\n",
    "        return np.nan\n",
    "    minutes, seconds = map(int, game_clock.split(':'))\n",
    "    return minutes + seconds / 60\n",
    "plays_df['gameClock'] = plays_df['gameClock'].apply(convert_game_clock_to_minutes)"
   ]
  },
  {
   "cell_type": "markdown",
   "id": "b23cbd91",
   "metadata": {},
   "source": [
    "### `players_df` Summary\n",
    "\n",
    "The `players_df` contains static information about each player who appears in the tracking data, including:\n",
    "- Physical attributes\n",
    "- Player identifiers\n",
    "- College and birthdate information\n",
    "\n",
    "For our project, we are only interested in pre-snap attributes that could realistically impact a player's role or likelihood of blitzing. Therefore, we clean `players_df` by:\n",
    "- Converting player heights from feet-inches format (e.g., 6-4) into total inches to allow numerical modeling\n",
    "- Dropping non-predictive fields\n",
    "- Standardizing `nflId` as a string to ensure consistent joins with other datasets\n",
    "\n",
    "These steps ensure that `players_df` retains only useful, real-time observable features for predicting defender behavior."
   ]
  },
  {
   "cell_type": "code",
   "execution_count": 11,
   "id": "39b111a8",
   "metadata": {},
   "outputs": [],
   "source": [
    "# convert player heights from feet-inches to inches\n",
    "def convert_height_to_inches(height):\n",
    "    if pd.isna(height):\n",
    "        return np.nan\n",
    "    feet, inches = map(int, height.split('-'))\n",
    "    return feet * 12 + inches\n",
    "players_df['height'] = players_df['height'].apply(convert_height_to_inches)"
   ]
  },
  {
   "cell_type": "code",
   "execution_count": 12,
   "id": "0f6238d4",
   "metadata": {},
   "outputs": [],
   "source": [
    "# drop unecessary cols and set nflId as string\n",
    "players_df = players_df.drop(columns=['birthDate', 'collegeName', 'displayName'])\n",
    "players_df['nflId'] = players_df['nflId'].astype(str)"
   ]
  },
  {
   "cell_type": "markdown",
   "id": "fa5a1b8c",
   "metadata": {},
   "source": [
    "### `games_df` Summary\n",
    "\n",
    "The `games_df` contains metadata about each NFL game in the dataset, including:\n",
    "- Game identifiers\n",
    "- Team matchups (home team vs. visitor team)\n",
    "- Game outcomes (final scores)\n",
    "- Date and time information\n",
    "\n",
    "For our project, we are primarily interested in game identifiers (`gameId`) to join different datasets together.  \n",
    "Since final scores, game dates, and times are not available pre-snap and would not affect defensive behavior at the individual play level, we:\n",
    "- Drop outcome variables\n",
    "- Drop game timing metadata\n",
    "\n",
    "This leaves a lightweight `games_df` containing only information needed for merging, without leaking any future results into our modeling pipeline."
   ]
  },
  {
   "cell_type": "code",
   "execution_count": 13,
   "id": "58c025ab",
   "metadata": {},
   "outputs": [],
   "source": [
    "# drop unecessary cols\n",
    "games_df = games_df.drop(columns=['season', 'gameDate', 'gameTimeEastern', 'homeFinalScore', 'visitorFinalScore'])"
   ]
  },
  {
   "cell_type": "markdown",
   "id": "e9e60ded",
   "metadata": {},
   "source": [
    "### `player_play_df` Summary\n",
    "\n",
    "The `player_play_df` contains player-level metadata for each snap in the dataset, including:\n",
    "- Individual player statistics (e.g., rushing yards, passing yards, sacks)\n",
    "- Player identifiers\n",
    "- Defensive actions (e.g., forced fumbles, interceptions, quarterback hits)\n",
    "- Blocking and matchup information\n",
    "\n",
    "For our project, we are primarily interested in attributes that could influence a defender's likelihood of blitzing or getting involved in pressure plays.\n",
    "\n",
    "Therefore, we clean `player_play_df` by:\n",
    "- Converting `nflId` to a consistent string format to facilitate reliable merging across datasets\n",
    "- Selecting a subset of columns related to player activity and defensive pressure that could be useful for future modeling\n",
    "- Dropping unrelated or outcome-based features tied to post-snap play results, since they would not be observable before the snap\n",
    "\n",
    "These steps prepare `player_play_df` for integration into our wider dataset, while ensuring that only pre-snap or contextually relevant features are retained. Pre-snap data is important because the whole point of our analysis is to provide contextually relevant and actionable advice to coaches and offensive coordinators, none of which is possible using post-snap data. Even if it were relevant, there would be endogeneity concerns with the outcome variables' correlation with post-snap data. A relevant innovation we make, though, has to do with the use of post-snap data from previous plays within the latent state of our model, providing an added and oft-overlooked layer to our analysis. This, however, is an approach saved for our later analyses and final model pipeline."
   ]
  },
  {
   "cell_type": "code",
   "execution_count": null,
   "id": "deca64a9",
   "metadata": {},
   "outputs": [],
   "source": [
    "# set nflId as string\n",
    "player_play_df['nflId'] = player_play_df['nflId'].astype(str)"
   ]
  },
  {
   "cell_type": "code",
   "execution_count": 15,
   "id": "efa03e23",
   "metadata": {},
   "outputs": [],
   "source": [
    "# select relevant play cols\n",
    "player_play_df = player_play_df[['gameId', 'playId', 'nflId', 'teamAbbr', 'hadRushAttempt',\n",
    "                                    'rushingYards', 'hadDropback', 'passingYards',\n",
    "                                    'hadPassReception', 'receivingYards',\n",
    "                                    'fumbles', 'forcedFumbleAsDefense',\n",
    "                                    'quarterbackHit',\n",
    "                                    'sackYardsAsDefense', 'soloTackle',\n",
    "                                    'tackleForALoss', 'tackleForALossYardage', 'hadInterception',\n",
    "                                    'interceptionYards', 'fumbleRecoveries',\n",
    "                                    'penaltyYards', 'penaltyNames', 'wasInitialPassRusher',\n",
    "                                    'causedPressure', 'timeToPressureAsPassRusher',\n",
    "                                    'getOffTimeAsPassRusher', 'shiftSinceLineset',\n",
    "                                    'motionSinceLineset',\n",
    "                                    'blockedPlayerNFLId1', 'blockedPlayerNFLId2', 'blockedPlayerNFLId3',\n",
    "                                    'pressureAllowedAsBlocker', 'timeToPressureAllowedAsBlocker']]"
   ]
  },
  {
   "cell_type": "markdown",
   "id": "d56264c0",
   "metadata": {},
   "source": [
    "### `tracking_weeks` Summary\n",
    "\n",
    "The `tracking_weeks` dataset contains frame-by-frame tracking data for every player and the football, including:\n",
    "- Player location and movement attributes\n",
    "- Frame metadata\n",
    "- Player identifiers\n",
    "\n",
    "For our project, we want to use only player-specific, pre-snap observable motion data to infer defensive behavior. Therefore, we clean `tracking_weeks` by:\n",
    "- Converting `nflId` to a consistent string format and removing any artifacts (e.g., \".0\")\n",
    "- Selecting only relevant physical and movement features\n",
    "- Dropping unnecessary columns not related to real-time player tracking\n",
    "- Separating out and removing frames where the tracked object is the football, so we focus only on players\n",
    "\n",
    "These steps ensure that `tracking_weeks` retains only the real-time player movement features necessary for pre-snap blitz prediction, with clean identifiers for merging across datasets."
   ]
  },
  {
   "cell_type": "code",
   "execution_count": 16,
   "id": "9acf49c5",
   "metadata": {},
   "outputs": [],
   "source": [
    "# set nlfID as string after replacing \".0\" with \"\"\n",
    "tracking_weeks['nflId'] = tracking_weeks['nflId'].astype(str).str.replace('.0', '', regex=False)"
   ]
  },
  {
   "cell_type": "code",
   "execution_count": 17,
   "id": "e53e43a3",
   "metadata": {},
   "outputs": [],
   "source": [
    "# select important tracking features\n",
    "tracking_weeks = tracking_weeks[['gameId', 'playId', 'nflId', 'frameId', 'frameType',\n",
    "                                    'playDirection', 'x', 'y', 's', 'a',\n",
    "                                    'dis', 'o', 'dir', 'displayName']]"
   ]
  },
  {
   "cell_type": "markdown",
   "id": "82a47682",
   "metadata": {},
   "source": [
    "These variables may be the most important. Our data tracts the direction, speed, velocity, and location of every player. The hope for the project is that there is information about a defensive team's plans revealed in the subtle movements of players. Thankfully, we have frame by frame (0.1 s) data, so we are able to investigate the smallest of movements from the players."
   ]
  },
  {
   "cell_type": "code",
   "execution_count": 18,
   "id": "4c689daf",
   "metadata": {},
   "outputs": [],
   "source": [
    "# replace \".0\" in nflid with \"\"\n",
    "tracking_weeks['nflId'] = tracking_weeks['nflId'].astype(str).str.replace('.0', '', regex=False)"
   ]
  },
  {
   "cell_type": "code",
   "execution_count": 19,
   "id": "350e3f28",
   "metadata": {},
   "outputs": [],
   "source": [
    "# separate out tracking data without ball\n",
    "tracking_weeks_without_ball = tracking_weeks[tracking_weeks['displayName'] != 'football'].copy()\n",
    "tracking_weeks_without_ball.drop(columns=['displayName'], inplace=True)"
   ]
  },
  {
   "cell_type": "markdown",
   "id": "33362b9f",
   "metadata": {},
   "source": [
    "### `master_df` Summary\n",
    "\n",
    "The `master_df` contains the final merged dataset, structured specifically to support modeling defender behavior at the play and frame level.\n",
    "\n",
    "Each row in `master_df` represents a single play (or a single pre-snap frame, depending on the version), and contains:\n",
    "- Play-level metadata (down, yards to go, offense formation, etc.)\n",
    "- Player-level tracking features (speed, acceleration, orientation, movement direction)\n",
    "- Player assignments flattened into columns by player slot (`p1`, `p2`, ..., `p11`)\n",
    "- Time-varying tracking data across frames (where applicable)\n",
    "\n",
    "By converting player data from a row-wise format into a columnar (wide) format, we are able to retain information about all players in a single flat feature vector per play. This structure is critical because it:\n",
    "- Allows us to efficiently model blitz behavior using tabular machine learning methods\n",
    "- Creates the flexibility to eventually extend into recurrent models (RNN/LSTM) if we want to model player movement over time\n",
    "\n",
    "Through careful cleaning, filtering, and flattening, `master_df` provides a complete, pre-snap observable feature set aligned with our objective of predicting defender blitz behavior."
   ]
  },
  {
   "cell_type": "code",
   "execution_count": 20,
   "id": "3d3e7b2d",
   "metadata": {},
   "outputs": [],
   "source": [
    "master_df = pd.DataFrame()"
   ]
  },
  {
   "cell_type": "code",
   "execution_count": 21,
   "id": "fa0af6a2",
   "metadata": {},
   "outputs": [
    {
     "data": {
      "text/html": [
       "<div>\n",
       "<style scoped>\n",
       "    .dataframe tbody tr th:only-of-type {\n",
       "        vertical-align: middle;\n",
       "    }\n",
       "\n",
       "    .dataframe tbody tr th {\n",
       "        vertical-align: top;\n",
       "    }\n",
       "\n",
       "    .dataframe thead th {\n",
       "        text-align: right;\n",
       "    }\n",
       "</style>\n",
       "<table border=\"1\" class=\"dataframe\">\n",
       "  <thead>\n",
       "    <tr style=\"text-align: right;\">\n",
       "      <th></th>\n",
       "      <th>gameId</th>\n",
       "      <th>playId</th>\n",
       "      <th>nflId</th>\n",
       "      <th>teamAbbr</th>\n",
       "      <th>hadRushAttempt</th>\n",
       "      <th>rushingYards</th>\n",
       "      <th>hadDropback</th>\n",
       "      <th>passingYards</th>\n",
       "      <th>hadPassReception</th>\n",
       "      <th>receivingYards</th>\n",
       "      <th>...</th>\n",
       "      <th>timeToPressureAsPassRusher</th>\n",
       "      <th>getOffTimeAsPassRusher</th>\n",
       "      <th>shiftSinceLineset</th>\n",
       "      <th>motionSinceLineset</th>\n",
       "      <th>blockedPlayerNFLId1</th>\n",
       "      <th>blockedPlayerNFLId2</th>\n",
       "      <th>blockedPlayerNFLId3</th>\n",
       "      <th>pressureAllowedAsBlocker</th>\n",
       "      <th>timeToPressureAllowedAsBlocker</th>\n",
       "      <th>position</th>\n",
       "    </tr>\n",
       "  </thead>\n",
       "  <tbody>\n",
       "    <tr>\n",
       "      <th>0</th>\n",
       "      <td>2022090800</td>\n",
       "      <td>56</td>\n",
       "      <td>35472</td>\n",
       "      <td>BUF</td>\n",
       "      <td>0</td>\n",
       "      <td>0</td>\n",
       "      <td>0</td>\n",
       "      <td>0</td>\n",
       "      <td>0</td>\n",
       "      <td>0</td>\n",
       "      <td>...</td>\n",
       "      <td>NaN</td>\n",
       "      <td>NaN</td>\n",
       "      <td>False</td>\n",
       "      <td>False</td>\n",
       "      <td>47917.0</td>\n",
       "      <td>NaN</td>\n",
       "      <td>NaN</td>\n",
       "      <td>0.0</td>\n",
       "      <td>NaN</td>\n",
       "      <td>G</td>\n",
       "    </tr>\n",
       "    <tr>\n",
       "      <th>1</th>\n",
       "      <td>2022090800</td>\n",
       "      <td>56</td>\n",
       "      <td>42392</td>\n",
       "      <td>BUF</td>\n",
       "      <td>0</td>\n",
       "      <td>0</td>\n",
       "      <td>0</td>\n",
       "      <td>0</td>\n",
       "      <td>0</td>\n",
       "      <td>0</td>\n",
       "      <td>...</td>\n",
       "      <td>NaN</td>\n",
       "      <td>NaN</td>\n",
       "      <td>False</td>\n",
       "      <td>False</td>\n",
       "      <td>47917.0</td>\n",
       "      <td>NaN</td>\n",
       "      <td>NaN</td>\n",
       "      <td>0.0</td>\n",
       "      <td>NaN</td>\n",
       "      <td>C</td>\n",
       "    </tr>\n",
       "    <tr>\n",
       "      <th>2</th>\n",
       "      <td>2022090800</td>\n",
       "      <td>56</td>\n",
       "      <td>42489</td>\n",
       "      <td>BUF</td>\n",
       "      <td>0</td>\n",
       "      <td>0</td>\n",
       "      <td>0</td>\n",
       "      <td>0</td>\n",
       "      <td>1</td>\n",
       "      <td>6</td>\n",
       "      <td>...</td>\n",
       "      <td>NaN</td>\n",
       "      <td>NaN</td>\n",
       "      <td>False</td>\n",
       "      <td>True</td>\n",
       "      <td>NaN</td>\n",
       "      <td>NaN</td>\n",
       "      <td>NaN</td>\n",
       "      <td>NaN</td>\n",
       "      <td>NaN</td>\n",
       "      <td>WR</td>\n",
       "    </tr>\n",
       "    <tr>\n",
       "      <th>3</th>\n",
       "      <td>2022090800</td>\n",
       "      <td>56</td>\n",
       "      <td>44875</td>\n",
       "      <td>BUF</td>\n",
       "      <td>0</td>\n",
       "      <td>0</td>\n",
       "      <td>0</td>\n",
       "      <td>0</td>\n",
       "      <td>0</td>\n",
       "      <td>0</td>\n",
       "      <td>...</td>\n",
       "      <td>NaN</td>\n",
       "      <td>NaN</td>\n",
       "      <td>False</td>\n",
       "      <td>False</td>\n",
       "      <td>43335.0</td>\n",
       "      <td>NaN</td>\n",
       "      <td>NaN</td>\n",
       "      <td>0.0</td>\n",
       "      <td>NaN</td>\n",
       "      <td>T</td>\n",
       "    </tr>\n",
       "    <tr>\n",
       "      <th>4</th>\n",
       "      <td>2022090800</td>\n",
       "      <td>56</td>\n",
       "      <td>44985</td>\n",
       "      <td>BUF</td>\n",
       "      <td>0</td>\n",
       "      <td>0</td>\n",
       "      <td>0</td>\n",
       "      <td>0</td>\n",
       "      <td>0</td>\n",
       "      <td>0</td>\n",
       "      <td>...</td>\n",
       "      <td>NaN</td>\n",
       "      <td>NaN</td>\n",
       "      <td>False</td>\n",
       "      <td>False</td>\n",
       "      <td>NaN</td>\n",
       "      <td>NaN</td>\n",
       "      <td>NaN</td>\n",
       "      <td>NaN</td>\n",
       "      <td>NaN</td>\n",
       "      <td>WR</td>\n",
       "    </tr>\n",
       "  </tbody>\n",
       "</table>\n",
       "<p>5 rows × 34 columns</p>\n",
       "</div>"
      ],
      "text/plain": [
       "       gameId  playId  nflId teamAbbr  hadRushAttempt  rushingYards  \\\n",
       "0  2022090800      56  35472      BUF               0             0   \n",
       "1  2022090800      56  42392      BUF               0             0   \n",
       "2  2022090800      56  42489      BUF               0             0   \n",
       "3  2022090800      56  44875      BUF               0             0   \n",
       "4  2022090800      56  44985      BUF               0             0   \n",
       "\n",
       "   hadDropback  passingYards  hadPassReception  receivingYards  ...  \\\n",
       "0            0             0                 0               0  ...   \n",
       "1            0             0                 0               0  ...   \n",
       "2            0             0                 1               6  ...   \n",
       "3            0             0                 0               0  ...   \n",
       "4            0             0                 0               0  ...   \n",
       "\n",
       "   timeToPressureAsPassRusher  getOffTimeAsPassRusher  shiftSinceLineset  \\\n",
       "0                         NaN                     NaN              False   \n",
       "1                         NaN                     NaN              False   \n",
       "2                         NaN                     NaN              False   \n",
       "3                         NaN                     NaN              False   \n",
       "4                         NaN                     NaN              False   \n",
       "\n",
       "   motionSinceLineset  blockedPlayerNFLId1  blockedPlayerNFLId2  \\\n",
       "0               False              47917.0                  NaN   \n",
       "1               False              47917.0                  NaN   \n",
       "2                True                  NaN                  NaN   \n",
       "3               False              43335.0                  NaN   \n",
       "4               False                  NaN                  NaN   \n",
       "\n",
       "   blockedPlayerNFLId3  pressureAllowedAsBlocker  \\\n",
       "0                  NaN                       0.0   \n",
       "1                  NaN                       0.0   \n",
       "2                  NaN                       NaN   \n",
       "3                  NaN                       0.0   \n",
       "4                  NaN                       NaN   \n",
       "\n",
       "   timeToPressureAllowedAsBlocker  position  \n",
       "0                             NaN         G  \n",
       "1                             NaN         C  \n",
       "2                             NaN        WR  \n",
       "3                             NaN         T  \n",
       "4                             NaN        WR  \n",
       "\n",
       "[5 rows x 34 columns]"
      ]
     },
     "execution_count": 21,
     "metadata": {},
     "output_type": "execute_result"
    }
   ],
   "source": [
    "# merge player_play_df with players_df to get player names\n",
    "master_df = player_play_df.merge(players_df[['nflId', 'position']], on='nflId', how='left')\n",
    "master_df.head()"
   ]
  },
  {
   "cell_type": "code",
   "execution_count": 22,
   "id": "70b39c97",
   "metadata": {},
   "outputs": [],
   "source": [
    "# backup master_df for reuse\n",
    "old_master_df = master_df.copy()\n",
    "old_master_df['nflId'] = old_master_df['nflId'].astype(object)\n",
    "old_master_df.to_csv('old_master_df.csv', index=False)\n",
    "old_master_df = pd.read_csv('old_master_df.csv')\n",
    "old_master_df['nflId'] = old_master_df['nflId'].astype(object)"
   ]
  },
  {
   "cell_type": "code",
   "execution_count": 23,
   "id": "e03b8df5",
   "metadata": {},
   "outputs": [],
   "source": [
    "# flatten rows with same gameid and playid by creating new columns per attribute per player\n",
    "attr_cols = (\n",
    "    player_play_df.columns[2:].tolist()\n",
    "  + tracking_weeks.columns[3:].tolist()\n",
    "  + players_df.columns[1:].tolist()\n",
    ")\n",
    "attr_cols = [c for c in dict.fromkeys(attr_cols) if c in master_df.columns]\n",
    "\n",
    "# assign player slots per play\n",
    "master_df['player_slot'] = (\n",
    "    master_df\n",
    "      .sort_values(['gameId','playId','nflId'])\n",
    "      .groupby(['gameId','playId'])\n",
    "      .cumcount()\n",
    "    + 1\n",
    ")\n",
    "\n",
    "# pivot player stats into wide format\n",
    "wide = (\n",
    "    master_df\n",
    "      .set_index(['gameId','playId','player_slot'])[attr_cols]\n",
    "      .unstack('player_slot')\n",
    ")\n",
    "\n",
    "wide.columns = [\n",
    "    f'{attr}_p{slot}'\n",
    "    for attr, slot in wide.columns\n",
    "]\n",
    "\n",
    "wide = wide.reset_index()\n",
    "\n",
    "expanded_players = wide"
   ]
  },
  {
   "cell_type": "markdown",
   "id": "493927ec",
   "metadata": {},
   "source": [
    "This logic is extremely important. Our biggest challenge was determining how to structure our data. We have 3 tiers of data: information about the play, data on every player for every play, and data on every player per every frame per play. Naively combining these datasets into one master dataframe (like we initially attempted) is intractable with nearly 100 million rows, so we went back to the drawing board. Our plan is to convert the player-level data into columns instead of rows. In this cell, we \"flatten\" each player's data into a set of columns for each player. This does increase the size of our dataset, but keeps one row per play even after adding information about each player in a play."
   ]
  },
  {
   "cell_type": "code",
   "execution_count": 24,
   "id": "0779bb87",
   "metadata": {},
   "outputs": [],
   "source": [
    "# merge player_play_df with plays_df on both playId and gameId\n",
    "expanded_players = expanded_players.merge(plays_df, on=['playId', 'gameId'], how='left')"
   ]
  },
  {
   "cell_type": "code",
   "execution_count": 25,
   "id": "bed7cf63",
   "metadata": {},
   "outputs": [],
   "source": [
    "# merge master_df with games_df on gameId\n",
    "expanded_players = expanded_players.merge(games_df, on='gameId', how='left')"
   ]
  },
  {
   "cell_type": "code",
   "execution_count": 26,
   "id": "273b94f5",
   "metadata": {},
   "outputs": [],
   "source": [
    "# save non-time-varying data\n",
    "nontime_data = expanded_players.copy()\n",
    "nontime_data.to_csv('nontime_data.csv', index=False)"
   ]
  },
  {
   "cell_type": "code",
   "execution_count": 27,
   "id": "00540430",
   "metadata": {},
   "outputs": [],
   "source": [
    "# merge master_df with tracking_weeks on gameId, playId, and nflId\n",
    "master_df = old_master_df.merge(tracking_weeks, on=['gameId', 'playId', 'nflId'], how='left')"
   ]
  },
  {
   "cell_type": "code",
   "execution_count": 28,
   "id": "88c00098",
   "metadata": {},
   "outputs": [],
   "source": [
    "# filter tracking data to pre-snap frames only\n",
    "tracking_weeks_without_ball = tracking_weeks_without_ball[tracking_weeks_without_ball['frameType'] == 'BEFORE_SNAP']"
   ]
  },
  {
   "cell_type": "markdown",
   "id": "fd50006c",
   "metadata": {},
   "source": [
    "We utilize only BEFORE_SNAP data, as it represents the complete set of information accessible when the decision to blitz must be made during actual gameplay; this decision also saves us a lot of compute since we cut the amount of frames saved to memory in half. We may need to add these frames back for a sophisticated RNN, but that seems intractable."
   ]
  },
  {
   "cell_type": "code",
   "execution_count": 29,
   "id": "a1f620d6",
   "metadata": {},
   "outputs": [],
   "source": [
    "# merge tracking data (x,y,s,a,dir) into wide format\n",
    "attr_cols = (\n",
    "       ['x', 'y', 's', 'a', 'dis', 'o', 'dir']\n",
    ")\n",
    "\n",
    "attr_cols = [c for c in dict.fromkeys(attr_cols) if c in tracking_weeks_without_ball.columns]\n",
    "tracking_weeks_without_ball['player_slot'] = (\n",
    "    tracking_weeks_without_ball\n",
    "      .sort_values(['gameId','playId','nflId'])\n",
    "      .groupby(['gameId','playId', 'frameId'])\n",
    "      .cumcount()\n",
    "    + 1\n",
    ")\n",
    "\n",
    "wide = (\n",
    "    tracking_weeks_without_ball\n",
    "      .set_index(['gameId','playId', 'frameId', 'player_slot'])[attr_cols]\n",
    "      .unstack('player_slot')\n",
    ")\n",
    "\n",
    "wide.columns = [\n",
    "    f'{attr}_p{slot}'\n",
    "    for attr, slot in wide.columns\n",
    "]\n",
    "\n",
    "wide = wide.reset_index()\n",
    "\n",
    "tracking_weeks_without_ball = wide"
   ]
  },
  {
   "cell_type": "markdown",
   "id": "e5fa9561",
   "metadata": {},
   "source": [
    "This logic is also very important. It continues the data structure construction mentioned before. What this cell does is flatten the player data into columns as before, but we still have multiple rows per play. Each row represents a different frame (0.1 seconds) during the play, and the player data is \"flattened\" into columns. With this dataset, we can directly merge it with the previous dataset to get the desired data structure."
   ]
  },
  {
   "cell_type": "code",
   "execution_count": 30,
   "id": "ce3169f8",
   "metadata": {},
   "outputs": [],
   "source": [
    "# merge tracking_weeks_without_ball with master_df on gameId, playId\n",
    "master_df = nontime_data.merge(tracking_weeks_without_ball, on=['gameId', 'playId'], how='outer')\n",
    "master_df.to_csv('master_df.csv', index=False)"
   ]
  },
  {
   "cell_type": "code",
   "execution_count": 31,
   "id": "d664cabe",
   "metadata": {},
   "outputs": [
    {
     "data": {
      "text/html": [
       "<div>\n",
       "<style scoped>\n",
       "    .dataframe tbody tr th:only-of-type {\n",
       "        vertical-align: middle;\n",
       "    }\n",
       "\n",
       "    .dataframe tbody tr th {\n",
       "        vertical-align: top;\n",
       "    }\n",
       "\n",
       "    .dataframe thead th {\n",
       "        text-align: right;\n",
       "    }\n",
       "</style>\n",
       "<table border=\"1\" class=\"dataframe\">\n",
       "  <thead>\n",
       "    <tr style=\"text-align: right;\">\n",
       "      <th></th>\n",
       "      <th>gameId</th>\n",
       "      <th>playId</th>\n",
       "      <th>nflId_p1</th>\n",
       "      <th>nflId_p2</th>\n",
       "      <th>nflId_p3</th>\n",
       "      <th>nflId_p4</th>\n",
       "      <th>nflId_p5</th>\n",
       "      <th>nflId_p6</th>\n",
       "      <th>nflId_p7</th>\n",
       "      <th>nflId_p8</th>\n",
       "      <th>...</th>\n",
       "      <th>dir_p13</th>\n",
       "      <th>dir_p14</th>\n",
       "      <th>dir_p15</th>\n",
       "      <th>dir_p16</th>\n",
       "      <th>dir_p17</th>\n",
       "      <th>dir_p18</th>\n",
       "      <th>dir_p19</th>\n",
       "      <th>dir_p20</th>\n",
       "      <th>dir_p21</th>\n",
       "      <th>dir_p22</th>\n",
       "    </tr>\n",
       "  </thead>\n",
       "  <tbody>\n",
       "    <tr>\n",
       "      <th>0</th>\n",
       "      <td>2022090800</td>\n",
       "      <td>56</td>\n",
       "      <td>35472</td>\n",
       "      <td>38577</td>\n",
       "      <td>41239</td>\n",
       "      <td>42392</td>\n",
       "      <td>42489</td>\n",
       "      <td>42816</td>\n",
       "      <td>43294</td>\n",
       "      <td>43298</td>\n",
       "      <td>...</td>\n",
       "      <td>200.63</td>\n",
       "      <td>169.95</td>\n",
       "      <td>320.02</td>\n",
       "      <td>306.81</td>\n",
       "      <td>242.41</td>\n",
       "      <td>280.71</td>\n",
       "      <td>168.74</td>\n",
       "      <td>328.45</td>\n",
       "      <td>293.55</td>\n",
       "      <td>317.86</td>\n",
       "    </tr>\n",
       "    <tr>\n",
       "      <th>1</th>\n",
       "      <td>2022090800</td>\n",
       "      <td>56</td>\n",
       "      <td>35472</td>\n",
       "      <td>38577</td>\n",
       "      <td>41239</td>\n",
       "      <td>42392</td>\n",
       "      <td>42489</td>\n",
       "      <td>42816</td>\n",
       "      <td>43294</td>\n",
       "      <td>43298</td>\n",
       "      <td>...</td>\n",
       "      <td>198.46</td>\n",
       "      <td>171.35</td>\n",
       "      <td>319.98</td>\n",
       "      <td>306.45</td>\n",
       "      <td>244.46</td>\n",
       "      <td>281.67</td>\n",
       "      <td>170.11</td>\n",
       "      <td>328.51</td>\n",
       "      <td>293.95</td>\n",
       "      <td>312.00</td>\n",
       "    </tr>\n",
       "    <tr>\n",
       "      <th>2</th>\n",
       "      <td>2022090800</td>\n",
       "      <td>56</td>\n",
       "      <td>35472</td>\n",
       "      <td>38577</td>\n",
       "      <td>41239</td>\n",
       "      <td>42392</td>\n",
       "      <td>42489</td>\n",
       "      <td>42816</td>\n",
       "      <td>43294</td>\n",
       "      <td>43298</td>\n",
       "      <td>...</td>\n",
       "      <td>195.91</td>\n",
       "      <td>173.34</td>\n",
       "      <td>318.91</td>\n",
       "      <td>310.47</td>\n",
       "      <td>245.36</td>\n",
       "      <td>282.33</td>\n",
       "      <td>171.82</td>\n",
       "      <td>328.92</td>\n",
       "      <td>294.58</td>\n",
       "      <td>304.65</td>\n",
       "    </tr>\n",
       "    <tr>\n",
       "      <th>3</th>\n",
       "      <td>2022090800</td>\n",
       "      <td>56</td>\n",
       "      <td>35472</td>\n",
       "      <td>38577</td>\n",
       "      <td>41239</td>\n",
       "      <td>42392</td>\n",
       "      <td>42489</td>\n",
       "      <td>42816</td>\n",
       "      <td>43294</td>\n",
       "      <td>43298</td>\n",
       "      <td>...</td>\n",
       "      <td>194.20</td>\n",
       "      <td>173.88</td>\n",
       "      <td>318.35</td>\n",
       "      <td>321.06</td>\n",
       "      <td>245.46</td>\n",
       "      <td>282.62</td>\n",
       "      <td>173.48</td>\n",
       "      <td>330.85</td>\n",
       "      <td>295.03</td>\n",
       "      <td>297.01</td>\n",
       "    </tr>\n",
       "    <tr>\n",
       "      <th>4</th>\n",
       "      <td>2022090800</td>\n",
       "      <td>56</td>\n",
       "      <td>35472</td>\n",
       "      <td>38577</td>\n",
       "      <td>41239</td>\n",
       "      <td>42392</td>\n",
       "      <td>42489</td>\n",
       "      <td>42816</td>\n",
       "      <td>43294</td>\n",
       "      <td>43298</td>\n",
       "      <td>...</td>\n",
       "      <td>192.81</td>\n",
       "      <td>175.64</td>\n",
       "      <td>317.23</td>\n",
       "      <td>337.88</td>\n",
       "      <td>244.06</td>\n",
       "      <td>282.70</td>\n",
       "      <td>176.03</td>\n",
       "      <td>333.96</td>\n",
       "      <td>295.55</td>\n",
       "      <td>291.28</td>\n",
       "    </tr>\n",
       "  </tbody>\n",
       "</table>\n",
       "<p>5 rows × 881 columns</p>\n",
       "</div>"
      ],
      "text/plain": [
       "       gameId  playId nflId_p1 nflId_p2 nflId_p3 nflId_p4 nflId_p5 nflId_p6  \\\n",
       "0  2022090800      56    35472    38577    41239    42392    42489    42816   \n",
       "1  2022090800      56    35472    38577    41239    42392    42489    42816   \n",
       "2  2022090800      56    35472    38577    41239    42392    42489    42816   \n",
       "3  2022090800      56    35472    38577    41239    42392    42489    42816   \n",
       "4  2022090800      56    35472    38577    41239    42392    42489    42816   \n",
       "\n",
       "  nflId_p7 nflId_p8  ... dir_p13 dir_p14 dir_p15 dir_p16 dir_p17 dir_p18  \\\n",
       "0    43294    43298  ...  200.63  169.95  320.02  306.81  242.41  280.71   \n",
       "1    43294    43298  ...  198.46  171.35  319.98  306.45  244.46  281.67   \n",
       "2    43294    43298  ...  195.91  173.34  318.91  310.47  245.36  282.33   \n",
       "3    43294    43298  ...  194.20  173.88  318.35  321.06  245.46  282.62   \n",
       "4    43294    43298  ...  192.81  175.64  317.23  337.88  244.06  282.70   \n",
       "\n",
       "  dir_p19 dir_p20 dir_p21 dir_p22  \n",
       "0  168.74  328.45  293.55  317.86  \n",
       "1  170.11  328.51  293.95  312.00  \n",
       "2  171.82  328.92  294.58  304.65  \n",
       "3  173.48  330.85  295.03  297.01  \n",
       "4  176.03  333.96  295.55  291.28  \n",
       "\n",
       "[5 rows x 881 columns]"
      ]
     },
     "execution_count": 31,
     "metadata": {},
     "output_type": "execute_result"
    }
   ],
   "source": [
    "# inspect final dataset\n",
    "master_df.head()"
   ]
  },
  {
   "cell_type": "markdown",
   "id": "de64b373",
   "metadata": {},
   "source": [
    "Now we have exactly what we desire: a dataset that contains every player's information in columns rather than rows, and rows that update the information per 0.1 second so that we have time series data. Now we can see how a play progresses by moving down the rows for a specific game ID and play ID; this structure is perfect for an RNN."
   ]
  },
  {
   "cell_type": "markdown",
   "id": "497072fb",
   "metadata": {},
   "source": [
    "### Blitz Labeling Methodology\n",
    "\n",
    "To label whether a play is a blitz, we adopt a method inspired by Dominic Borsani’s approach in the 2023 NFL Big Data Bowl. Rather than relying directly on provided scouting labels, we infer blitz likelihood based on **pre-snap defender behavior** observable in the tracking data.\n",
    "\n",
    "Specifically, we use the following steps:\n",
    "\n",
    "- Merge tracking data (`tracking_week_*`) with play metadata from `plays.csv` to access line of scrimmage (`LOS`) information.\n",
    "- Identify **frames where `frameType == 'SNAP'`**, which correspond to the official ball snap moment.\n",
    "- For each defender at ball snap:\n",
    "  - **Distance from LOS**: Compute the absolute difference between the player’s `x` coordinate and the line of scrimmage (`LOS_x`), adjusted for play direction.\n",
    "  - **Motion Toward LOS**: Estimate whether a player is moving toward the ball using the `dir` (direction) and `playDirection`.\n",
    "  - **Velocity Toward LOS**: Calculate as `speed × motion_toward_ball`.\n",
    "- A defender is flagged as a **likely blitzer** if:\n",
    "  - They are **within 5 yards** of the line of scrimmage at the snap, **and**\n",
    "  - They are **moving toward the LOS at greater than 1.5 yards per second**.\n",
    "- At the play level, we sum the number of players flagged as likely blitzers.\n",
    "\n",
    "We define a **blitz play** as one where **more than 1 defender** meets the blitz criteria at the snap. This threshold aligns with the intuition that sending multiple extra rushers constitutes a true blitz rather than just a normal pass rush.\n",
    "\n",
    "---\n",
    "\n",
    "### Reference\n",
    "\n",
    "Borsani, D. (2023). *Beat the Offensive Line: Using Data to Determine Blitz Strategy.* NFL Big Data Bowl, Finalist Project.\n"
   ]
  },
  {
   "cell_type": "code",
   "execution_count": 32,
   "id": "50040438",
   "metadata": {},
   "outputs": [
    {
     "name": "stdout",
     "output_type": "stream",
     "text": [
      "Number of unique plays: 4886\n"
     ]
    }
   ],
   "source": [
    "# count unique plays\n",
    "unique_plays = tracking_weeks[['gameId', 'playId']].drop_duplicates()\n",
    "print(f\"Number of unique plays: {len(unique_plays)}\")"
   ]
  },
  {
   "cell_type": "code",
   "execution_count": 33,
   "id": "fb7f2ad5",
   "metadata": {},
   "outputs": [],
   "source": [
    "# merge LOS info into tracking\n",
    "plays_subset = plays_df[['gameId', 'playId', 'yardlineNumber', 'yardlineSide', 'absoluteYardlineNumber']]\n",
    "tracking = tracking_weeks.merge(plays_subset, on=['gameId', 'playId'], how='left')\n",
    "\n",
    "# keep only frames at ball snap\n",
    "snap_tracking = tracking[tracking['frameType'] == 'SNAP'].copy()\n",
    "\n",
    "# calculate LOS x-coordinate\n",
    "def calculate_los_x(playDirection, absoluteYardlineNumber):\n",
    "    if playDirection == 'left':\n",
    "        return 100 - absoluteYardlineNumber\n",
    "    else:\n",
    "        return absoluteYardlineNumber\n",
    "\n",
    "snap_tracking['LOS_x'] = snap_tracking.apply(\n",
    "    lambda row: calculate_los_x(row['playDirection'], row['absoluteYardlineNumber']), axis=1\n",
    ")\n",
    "\n",
    "# distance from LOS\n",
    "snap_tracking['dist_from_LOS'] = np.abs(snap_tracking['x'] - snap_tracking['LOS_x'])\n",
    "\n",
    "# motion toward LOS\n",
    "def motion_toward_ball(row):\n",
    "    if row['playDirection'] == 'left':\n",
    "        return np.cos(np.deg2rad(row['dir']))\n",
    "    else:\n",
    "        return np.cos(np.deg2rad(row['dir'] - 180))\n",
    "\n",
    "snap_tracking['motion_toward_ball'] = snap_tracking.apply(motion_toward_ball, axis=1)\n",
    "\n",
    "# velocity toward LOS\n",
    "snap_tracking['velocity_toward_LOS'] = snap_tracking['s'] * snap_tracking['motion_toward_ball']\n",
    "\n",
    "# label likely blitzers\n",
    "snap_tracking['isLikelyBlitzer'] = (\n",
    "    (snap_tracking['dist_from_LOS'] <= 5) &\n",
    "    (snap_tracking['velocity_toward_LOS'] > 1.5)\n",
    ").astype(int)"
   ]
  },
  {
   "cell_type": "code",
   "execution_count": 34,
   "id": "aed39452",
   "metadata": {},
   "outputs": [
    {
     "name": "stdout",
     "output_type": "stream",
     "text": [
      "Total number of players flagged as likely blitzers: 543\n"
     ]
    }
   ],
   "source": [
    "# count likely blitzers\n",
    "num_likely_blitzers = snap_tracking['isLikelyBlitzer'].sum()\n",
    "print(f\"Total number of players flagged as likely blitzers: {num_likely_blitzers}\")"
   ]
  },
  {
   "cell_type": "code",
   "execution_count": 35,
   "id": "7425ef4c",
   "metadata": {},
   "outputs": [
    {
     "name": "stdout",
     "output_type": "stream",
     "text": [
      "       gameId  playId  isLikelyBlitzer\n",
      "0  2022090800      56                0\n",
      "1  2022090800      80                0\n",
      "2  2022090800     101                0\n",
      "3  2022090800     122                0\n",
      "4  2022090800     167                0\n"
     ]
    }
   ],
   "source": [
    "# count blitzers per play\n",
    "blitzer_counts_by_play = snap_tracking.groupby(['gameId', 'playId'])['isLikelyBlitzer'].sum().reset_index()\n",
    "print(blitzer_counts_by_play.head())"
   ]
  },
  {
   "cell_type": "code",
   "execution_count": 36,
   "id": "9c666da8",
   "metadata": {},
   "outputs": [
    {
     "name": "stdout",
     "output_type": "stream",
     "text": [
      "Total plays: 4886\n",
      "Plays with at least one blitzer: 350\n",
      "Percentage of plays with blitzers: 7.16%\n"
     ]
    }
   ],
   "source": [
    "# count plays with 1+ blitzer\n",
    "plays_with_blitzers = blitzer_counts_by_play[blitzer_counts_by_play['isLikelyBlitzer'] > 0]\n",
    "num_plays_with_blitzers = len(plays_with_blitzers)\n",
    "\n",
    "# count total unique plays\n",
    "total_plays = len(blitzer_counts_by_play)\n",
    "\n",
    "# calculate percentage\n",
    "blitz_percentage = (num_plays_with_blitzers / total_plays) * 100 if total_plays > 0 else 0\n",
    "\n",
    "print(f\"Total plays: {total_plays}\")\n",
    "print(f\"Plays with at least one blitzer: {num_plays_with_blitzers}\")\n",
    "print(f\"Percentage of plays with blitzers: {blitz_percentage:.2f}%\")"
   ]
  },
  {
   "cell_type": "code",
   "execution_count": 37,
   "id": "6c5e3766",
   "metadata": {},
   "outputs": [
    {
     "name": "stdout",
     "output_type": "stream",
     "text": [
      "Number of pass plays: 3039\n",
      "Total pass plays: 3039\n",
      "Pass plays with at least one blitzer: 425\n",
      "Percentage of pass plays with blitzers: 13.98%\n"
     ]
    }
   ],
   "source": [
    "# count pass plays\n",
    "pass_plays = plays_df[plays_df['isDropback'] == 1]\n",
    "print(f\"Number of pass plays: {len(pass_plays)}\")\n",
    "\n",
    "# calculate percentage of pass plays with blitzers\n",
    "pass_plays_with_blitzers = pass_plays[pass_plays['playId'].isin(plays_with_blitzers['playId'])]\n",
    "num_pass_plays_with_blitzers = len(pass_plays_with_blitzers)\n",
    "pass_plays_total = len(pass_plays)\n",
    "pass_blitz_percentage = (num_pass_plays_with_blitzers / pass_plays_total) * 100 if pass_plays_total > 0 else 0\n",
    "print(f\"Total pass plays: {pass_plays_total}\")\n",
    "print(f\"Pass plays with at least one blitzer: {num_pass_plays_with_blitzers}\")\n",
    "print(f\"Percentage of pass plays with blitzers: {pass_blitz_percentage:.2f}%\")"
   ]
  },
  {
   "cell_type": "code",
   "execution_count": 38,
   "id": "8f5eee2e",
   "metadata": {},
   "outputs": [
    {
     "name": "stdout",
     "output_type": "stream",
     "text": [
      "\n",
      "Distribution of blitzers per play:\n",
      "isLikelyBlitzer\n",
      "0    4536\n",
      "1     204\n",
      "2     112\n",
      "3      25\n",
      "4       6\n",
      "5       2\n",
      "6       1\n",
      "Name: count, dtype: int64\n"
     ]
    }
   ],
   "source": [
    "# breakdown of plays by number of blitzers\n",
    "blitzer_distribution = blitzer_counts_by_play['isLikelyBlitzer'].value_counts().sort_index()\n",
    "print(\"\\nDistribution of blitzers per play:\")\n",
    "print(blitzer_distribution)"
   ]
  },
  {
   "cell_type": "code",
   "execution_count": 39,
   "id": "ea6e9350",
   "metadata": {},
   "outputs": [
    {
     "name": "stdout",
     "output_type": "stream",
     "text": [
      "\n",
      "Plays with more than 1 blitzer(s): 146\n",
      "Percentage: 2.99%\n"
     ]
    }
   ],
   "source": [
    "# classify plays as blitzes if the number of likely blitzers exceeds threshold_for_blitz_play\n",
    "threshold_for_blitz_play = 1\n",
    "plays_with_significant_blitz = blitzer_counts_by_play[blitzer_counts_by_play['isLikelyBlitzer'] > threshold_for_blitz_play]\n",
    "print(f\"\\nPlays with more than {threshold_for_blitz_play} blitzer(s): {len(plays_with_significant_blitz)}\")\n",
    "print(f\"Percentage: {(len(plays_with_significant_blitz) / total_plays) * 100:.2f}%\")"
   ]
  },
  {
   "cell_type": "code",
   "execution_count": 40,
   "id": "a5a553e8",
   "metadata": {},
   "outputs": [
    {
     "data": {
      "text/html": [
       "<div>\n",
       "<style scoped>\n",
       "    .dataframe tbody tr th:only-of-type {\n",
       "        vertical-align: middle;\n",
       "    }\n",
       "\n",
       "    .dataframe tbody tr th {\n",
       "        vertical-align: top;\n",
       "    }\n",
       "\n",
       "    .dataframe thead th {\n",
       "        text-align: right;\n",
       "    }\n",
       "</style>\n",
       "<table border=\"1\" class=\"dataframe\">\n",
       "  <thead>\n",
       "    <tr style=\"text-align: right;\">\n",
       "      <th></th>\n",
       "      <th>gameId</th>\n",
       "      <th>playId</th>\n",
       "      <th>blitzOutcome</th>\n",
       "    </tr>\n",
       "  </thead>\n",
       "  <tbody>\n",
       "    <tr>\n",
       "      <th>0</th>\n",
       "      <td>2022090800</td>\n",
       "      <td>56</td>\n",
       "      <td>0</td>\n",
       "    </tr>\n",
       "    <tr>\n",
       "      <th>1</th>\n",
       "      <td>2022090800</td>\n",
       "      <td>80</td>\n",
       "      <td>0</td>\n",
       "    </tr>\n",
       "    <tr>\n",
       "      <th>2</th>\n",
       "      <td>2022090800</td>\n",
       "      <td>101</td>\n",
       "      <td>0</td>\n",
       "    </tr>\n",
       "    <tr>\n",
       "      <th>3</th>\n",
       "      <td>2022090800</td>\n",
       "      <td>122</td>\n",
       "      <td>0</td>\n",
       "    </tr>\n",
       "    <tr>\n",
       "      <th>4</th>\n",
       "      <td>2022090800</td>\n",
       "      <td>167</td>\n",
       "      <td>0</td>\n",
       "    </tr>\n",
       "  </tbody>\n",
       "</table>\n",
       "</div>"
      ],
      "text/plain": [
       "       gameId  playId  blitzOutcome\n",
       "0  2022090800      56             0\n",
       "1  2022090800      80             0\n",
       "2  2022090800     101             0\n",
       "3  2022090800     122             0\n",
       "4  2022090800     167             0"
      ]
     },
     "execution_count": 40,
     "metadata": {},
     "output_type": "execute_result"
    }
   ],
   "source": [
    "# set output to 1 if isLikelyBlitzer > threshold_for_blitz_play else 0\n",
    "blitz_outcome = blitzer_counts_by_play.copy()\n",
    "blitz_outcome['blitzOutcome'] = blitz_outcome['isLikelyBlitzer'].apply(lambda x: 1 if x >= threshold_for_blitz_play else 0)\n",
    "blitz_outcome = blitz_outcome[['gameId', 'playId', 'blitzOutcome']]\n",
    "blitz_outcome = blitz_outcome.drop_duplicates()\n",
    "blitz_outcome = blitz_outcome.dropna()\n",
    "blitz_outcome.head()"
   ]
  },
  {
   "cell_type": "markdown",
   "id": "73e719b5",
   "metadata": {},
   "source": [
    "## Exploratory Data Analysis (EDA)\n",
    "\n",
    "In this section, we examine patterns in key pre-snap features that are likely to correlate with defender blitz behavior."
   ]
  },
  {
   "cell_type": "code",
   "execution_count": 48,
   "id": "5815ca72",
   "metadata": {},
   "outputs": [
    {
     "data": {
      "image/png": "[encoded data removed]",
      "text/plain": [
       "<Figure size 1200x600 with 1 Axes>"
      ]
     },
     "metadata": {},
     "output_type": "display_data"
    }
   ],
   "source": [
    "# define defensive positions\n",
    "defensive_positions = ['CB', 'S', 'FS', 'SS', 'NB', 'ILB', 'LB', 'OLB', 'DE', 'DT', 'NT', 'DB', 'MLB']\n",
    "\n",
    "# merge player positions\n",
    "snap_with_position = snap_tracking.merge(players_df[['nflId', 'position']], on='nflId', how='left')\n",
    "\n",
    "# filter to defenders only\n",
    "snap_with_position = snap_with_position[snap_with_position['position'].isin(defensive_positions)]\n",
    "\n",
    "# group and calculate blitz probability per position\n",
    "position_blitz_probs = (\n",
    "    snap_with_position.groupby('position')['isLikelyBlitzer']\n",
    "    .mean()\n",
    "    .sort_values(ascending=False)\n",
    ")\n",
    "\n",
    "# reset index to plot cleanly\n",
    "position_blitz_probs = position_blitz_probs.reset_index()\n",
    "\n",
    "plt.figure(figsize=(12,6))\n",
    "sns.barplot(\n",
    "    data=position_blitz_probs,\n",
    "    x='position',\n",
    "    y='isLikelyBlitzer',\n",
    ")\n",
    "\n",
    "plt.title('Blitz Probability by Position')\n",
    "plt.ylabel('Probability of Blitz')\n",
    "plt.xlabel('Position')\n",
    "plt.show()"
   ]
  },
  {
   "cell_type": "markdown",
   "id": "5f740e76",
   "metadata": {},
   "source": [
    "Middle linebackers (MLB) and inside linebackers (ILB) show the highest likelihood of blitzing, followed closely by cornerbacks (CB). Defensive linemen (DE, DT) and nose tackles (NT) rarely appear as likely blitzers, consistent with their typical roles as primary pass rushers rather than surprise blitzers."
   ]
  },
  {
   "cell_type": "code",
   "execution_count": 42,
   "id": "9a976001",
   "metadata": {},
   "outputs": [
    {
     "data": {
      "image/png": "[encoded data removed]",
      "text/plain": [
       "<Figure size 1000x600 with 1 Axes>"
      ]
     },
     "metadata": {},
     "output_type": "display_data"
    }
   ],
   "source": [
    "plt.figure(figsize=(10,6))\n",
    "sns.histplot(\n",
    "    data=snap_with_position,\n",
    "    x='dist_from_LOS',\n",
    "    hue='isLikelyBlitzer',\n",
    "    bins=30,\n",
    "    kde=True,\n",
    "    stat='density'\n",
    ")\n",
    "\n",
    "plt.title('Distance from LOS at Snap: Blitzers vs Non-Blitzers')\n",
    "plt.xlabel('Distance from LOS (yards)')\n",
    "plt.ylabel('Density')\n",
    "plt.xlim(0, 20)\n",
    "plt.show()"
   ]
  },
  {
   "cell_type": "markdown",
   "id": "0b3c94af",
   "metadata": {},
   "source": [
    "Defenders who blitz are overwhelmingly positioned within 5 yards of the line of scrimmage at the snap, while non-blitzers show a broader spread of distances. However, not all defenders lined up close to the LOS blitz, indicating that while proximity is a strong indicator, it alone is not sufficient for predicting blitz behavior."
   ]
  },
  {
   "cell_type": "code",
   "execution_count": 43,
   "id": "6517d5ce",
   "metadata": {},
   "outputs": [
    {
     "data": {
      "image/png": "[encoded data removed]",
      "text/plain": [
       "<Figure size 800x500 with 1 Axes>"
      ]
     },
     "metadata": {},
     "output_type": "display_data"
    }
   ],
   "source": [
    "#mMerge down info and blitz outcome\n",
    "down_blitz_df = blitzer_counts_by_play.merge(\n",
    "    plays_df[['gameId', 'playId', 'down']],\n",
    "    on=['gameId', 'playId'],\n",
    "    how='left'\n",
    ").merge(\n",
    "    blitz_outcome,\n",
    "    on=['gameId', 'playId'],\n",
    "    how='left'\n",
    ")\n",
    "\n",
    "# calculate blitz probability by down\n",
    "blitz_prob_by_down = down_blitz_df.groupby('down', observed=True)['blitzOutcome'].mean()\n",
    "\n",
    "plt.figure(figsize=(8,5))\n",
    "sns.barplot(\n",
    "    x=blitz_prob_by_down.index,\n",
    "    y=blitz_prob_by_down.values,\n",
    ")\n",
    "\n",
    "plt.title('Blitz Probability by Down')\n",
    "plt.xlabel('Down')\n",
    "plt.ylabel('Blitz Probability')\n",
    "plt.ylim(0, 0.15)\n",
    "plt.show()"
   ]
  },
  {
   "cell_type": "markdown",
   "id": "c005cb17",
   "metadata": {},
   "source": [
    "Blitz probability is highest on first down, suggesting that defenses in this sample may attempt to create early disruption before offenses can get into rhythm. Blitzing rates are slightly lower but relatively stable across second, third, and fourth downs, contrasting with the common expectation of increased pressure on obvious passing downs."
   ]
  },
  {
   "cell_type": "code",
   "execution_count": 44,
   "id": "a1f7763e",
   "metadata": {},
   "outputs": [
    {
     "data": {
      "image/png": "[encoded data removed]",
      "text/plain": [
       "<Figure size 800x500 with 1 Axes>"
      ]
     },
     "metadata": {},
     "output_type": "display_data"
    }
   ],
   "source": [
    "# merge yardsToGo and blitzOutcome into blitzer_counts_by_play\n",
    "blitz_with_yards = blitzer_counts_by_play.merge(\n",
    "    plays_df[['gameId', 'playId', 'yardsToGo']],\n",
    "    on=['gameId', 'playId'],\n",
    "    how='left'\n",
    ").merge(\n",
    "    blitz_outcome,\n",
    "    on=['gameId', 'playId'],\n",
    "    how='left'\n",
    ")\n",
    "\n",
    "# create yards_to_go buckets\n",
    "blitz_with_yards['yards_bucket'] = pd.cut(\n",
    "    blitz_with_yards['yardsToGo'],\n",
    "    bins=[0,5,10,20,50],\n",
    "    labels=['0-5','6-10','11-20','20+']\n",
    ")\n",
    "\n",
    "# calculate blitz probability per bucket\n",
    "bucket_blitz_probs = blitz_with_yards.groupby('yards_bucket', observed=True)['blitzOutcome'].mean()\n",
    "\n",
    "plt.figure(figsize=(8,5))\n",
    "sns.barplot(\n",
    "    x=bucket_blitz_probs.index,\n",
    "    y=bucket_blitz_probs.values,\n",
    ")\n",
    "\n",
    "plt.title('Blitz Probability by Yards To Go')\n",
    "plt.xlabel('Yards To Go')\n",
    "plt.ylabel('Blitz Probability')\n",
    "plt.ylim(0, 0.15)\n",
    "plt.show()"
   ]
  },
  {
   "cell_type": "markdown",
   "id": "e26cd0af",
   "metadata": {},
   "source": [
    "Blitz probability is highest when the offense faces short-yardage situations (0–5 yards and 6–10 yards), suggesting that defenses are more aggressive when offenses are likely to run quick plays. Blitzing becomes noticeably less common as the distance to gain increases, with very few blitzes on plays requiring 11+ yards for a first down."
   ]
  },
  {
   "cell_type": "code",
   "execution_count": 45,
   "id": "6e6124ea",
   "metadata": {},
   "outputs": [
    {
     "data": {
      "image/png": "[encoded data removed]",
      "text/plain": [
       "<Figure size 1000x600 with 1 Axes>"
      ]
     },
     "metadata": {},
     "output_type": "display_data"
    }
   ],
   "source": [
    "# merge field position info and blitz outcome\n",
    "blitz_with_fieldpos = blitzer_counts_by_play.merge(\n",
    "    plays_df[['gameId', 'playId', 'absoluteYardlineNumber']],\n",
    "    on=['gameId', 'playId'],\n",
    "    how='left'\n",
    ").merge(\n",
    "    blitz_outcome,\n",
    "    on=['gameId', 'playId'],\n",
    "    how='left'\n",
    ")\n",
    "\n",
    "# create field buckets\n",
    "blitz_with_fieldpos['field_bucket'] = pd.cut(\n",
    "    blitz_with_fieldpos['absoluteYardlineNumber'],\n",
    "    bins=[0,20,50,80,100],\n",
    "    labels=['Own Red Zone (0-20)','Own Side (20-50)','Opponent Side (50-80)','Opponent Red Zone (80-100)']\n",
    ")\n",
    "\n",
    "# calculate blitz probability by field position\n",
    "fieldpos_blitz_probs = blitz_with_fieldpos.groupby('field_bucket', observed=True)['blitzOutcome'].mean()\n",
    "\n",
    "plt.figure(figsize=(10,6))\n",
    "sns.barplot(\n",
    "    x=fieldpos_blitz_probs.index,\n",
    "    y=fieldpos_blitz_probs.values,\n",
    ")\n",
    "\n",
    "plt.title('Blitz Probability by Field Position')\n",
    "plt.xlabel('Field Position')\n",
    "plt.ylabel('Blitz Probability')\n",
    "plt.xticks(rotation=45)\n",
    "plt.show()\n"
   ]
  },
  {
   "cell_type": "markdown",
   "id": "06ce4371",
   "metadata": {},
   "source": [
    "Blitz probability is highest when the opposing offense is backed up on its own side of the field (20–50 yard line), suggesting that defenses may become more aggressive when they have more field to defend behind them. Blitzing becomes less common as the offense approaches the red zone, likely reflecting more conservative strategies to avoid giving up big plays in critical scoring territory."
   ]
  },
  {
   "cell_type": "code",
   "execution_count": 46,
   "id": "a8af3305",
   "metadata": {},
   "outputs": [
    {
     "data": {
      "image/png": "[encoded data removed]",
      "text/plain": [
       "<Figure size 1000x600 with 1 Axes>"
      ]
     },
     "metadata": {},
     "output_type": "display_data"
    }
   ],
   "source": [
    "# create score differential\n",
    "plays_df['scoreDifferential'] = plays_df['preSnapHomeScore'] - plays_df['preSnapVisitorScore']\n",
    "\n",
    "# merge blitzOutcome into plays_df\n",
    "plays_with_blitz = plays_df.merge(\n",
    "    blitz_outcome,\n",
    "    on=['gameId', 'playId'],\n",
    "    how='left'\n",
    ")\n",
    "\n",
    "# bucket score differential\n",
    "plays_with_blitz['score_bucket'] = pd.cut(\n",
    "    plays_with_blitz['scoreDifferential'],\n",
    "    bins=[-50, -14, -7, 0, 7, 14, 50],\n",
    "    labels=['Losing by 14+', 'Losing 7-13', 'Losing 1-6', 'Winning 1-6', 'Winning 7-13', 'Winning 14+']\n",
    ")\n",
    "\n",
    "# calculate blitz probability by score bucket\n",
    "blitz_prob_by_score = plays_with_blitz.groupby('score_bucket', observed=True)['blitzOutcome'].mean()\n",
    "\n",
    "plt.figure(figsize=(10,6))\n",
    "sns.barplot(\n",
    "    x=blitz_prob_by_score.index,\n",
    "    y=blitz_prob_by_score.values,\n",
    ")\n",
    "\n",
    "plt.title('Blitz Probability by Score Differential')\n",
    "plt.xlabel('Score Differential (Home Team)')\n",
    "plt.ylabel('Blitz Probability')\n",
    "plt.xticks(rotation=45)\n",
    "plt.ylim(0, 0.15)\n",
    "plt.show()"
   ]
  },
  {
   "cell_type": "markdown",
   "id": "ea23e543",
   "metadata": {},
   "source": [
    "Blitz probability appears relatively stable across different score differentials, suggesting that teams are not dramatically changing blitz aggressiveness based on whether they are winning or losing. However, there is some slight increase in blitzing when teams are trailing by large margins, possibly reflecting more desperate defensive strategies."
   ]
  },
  {
   "cell_type": "markdown",
   "id": "c5a6afab",
   "metadata": {},
   "source": [
    "## Feature Engineering"
   ]
  },
  {
   "cell_type": "markdown",
   "id": "21b86b60",
   "metadata": {},
   "source": [
    "All of the features that we've explored in our EDA can be seen to be important as we approach our final model. Notably, since we're on the hunt for tells that are beyond human intuition or attention, even slight phenomena could give us the extra edge that helps to determine the difference between a win or a loss. To get everything into appropriate formats for our baseline model, logistic regression, we do the feature engineering below."
   ]
  },
  {
   "cell_type": "code",
   "execution_count": null,
   "id": "6688515d",
   "metadata": {},
   "outputs": [],
   "source": [
    "master_df = pd.read_csv('master_df.csv')\n",
    "nontime_data = pd.read_csv('nontime_data.csv')"
   ]
  },
  {
   "cell_type": "markdown",
   "id": "1305cc33",
   "metadata": {},
   "source": [
    "Here, we notably just fill in the missing fields to have a valid regression. In our data, all missing data is encoded as \"Unknown\", which we just fill as NA for the purposes of letting the rest of our regression work as intended. We don't discard these rows for several reasons. First, many of our features include missing observations because the events they track haven't occurred. In the case of rare events like fumbles, this is especially relevant. While fumbles have a large impact on gameplay and morale, they don't happen often. It would be a pity to lose that context, but we need a workable way to deal with missingness, which is NA."
   ]
  },
  {
   "cell_type": "code",
   "execution_count": null,
   "id": "dd6cc233",
   "metadata": {},
   "outputs": [],
   "source": [
    "# fill all missing categorical fields\n",
    "categorical_cols = []\n",
    "for col in nontime_data.select_dtypes(include=['object']).columns:\n",
    "    if col not in ['gameId', 'playId', 'nflId']:\n",
    "        categorical_cols.append(col)\n",
    "for col in categorical_cols:\n",
    "    nontime_data[col] = nontime_data[col].fillna('Unknown')\n",
    "\n",
    "# one-hot encode categorical cols\n",
    "snap_tracking_encoded = pd.get_dummies(\n",
    "    nontime_data,\n",
    "    columns=categorical_cols,\n",
    "    drop_first=True\n",
    ")\n",
    "\n",
    "# sort data by gameId and playId \n",
    "snap_tracking_encoded.sort_values(['gameId', 'playId'])"
   ]
  },
  {
   "cell_type": "markdown",
   "id": "6747a492",
   "metadata": {},
   "source": [
    "Now we just have to prepare our data properly so that we can make it work for our logistic regression. Here, we drop our IDs, which aren't relevant for analysis now that everything is organized, and get ready to run the logistic regression."
   ]
  },
  {
   "cell_type": "code",
   "execution_count": null,
   "id": "9e942b4f",
   "metadata": {},
   "outputs": [],
   "source": [
    "# prepare feature matrix X by dropping ID cols\n",
    "X = snap_tracking_encoded.drop(columns=['gameId', 'playId'])\n",
    "\n",
    "# drop any remaining object-type columns from X\n",
    "for col in X.select_dtypes(include=['object']).columns:\n",
    "    X = X.drop(columns=[col])\n",
    "\n",
    "# Sort target variable by gameId and playId to match X\n",
    "blitz_outcome = blitz_outcome.sort_values(['gameId', 'playId'])\n",
    "y = blitz_outcome['blitzOutcome']\n",
    "\n",
    "# train-test split\n",
    "X_train, X_test, y_train, y_test = train_test_split(X, y, stratify=y, test_size=0.3, random_state=109)"
   ]
  },
  {
   "cell_type": "markdown",
   "id": "7f17c46a",
   "metadata": {},
   "source": [
    "## Modeling Approach"
   ]
  },
  {
   "cell_type": "markdown",
   "id": "664617dc",
   "metadata": {},
   "source": []
  },
  {
   "cell_type": "code",
   "execution_count": null,
   "id": "58bf47ff",
   "metadata": {},
   "outputs": [],
   "source": [
    "# impute missing values annd adjust for class imbalance\n",
    "pipeline = make_pipeline(\n",
    "    SimpleImputer(strategy='mean'),           \n",
    "    LogisticRegression(max_iter=1000,\n",
    "                       class_weight='balanced')\n",
    ")"
   ]
  },
  {
   "cell_type": "markdown",
   "id": "cf7755df",
   "metadata": {},
   "source": [
    "## Model Training and Evaluation"
   ]
  },
  {
   "cell_type": "markdown",
   "id": "65db489c",
   "metadata": {},
   "source": []
  },
  {
   "cell_type": "code",
   "execution_count": null,
   "id": "35fbab1b",
   "metadata": {},
   "outputs": [],
   "source": [
    "# logistic regression\n",
    "logreg = pipeline.fit(X_train, y_train)"
   ]
  },
  {
   "cell_type": "code",
   "execution_count": null,
   "id": "f0f8cd86",
   "metadata": {},
   "outputs": [],
   "source": [
    "# evaluate results\n",
    "y_pred = logreg.predict(X_test)\n",
    "print(\"Classification Report (Logistic Regression Baseline):\")\n",
    "print(classification_report(y_test, y_pred))"
   ]
  },
  {
   "cell_type": "markdown",
   "id": "ad2b84f3",
   "metadata": {},
   "source": [
    "## Final Model Pipeline\n",
    "\n",
    "**Here is a high-level overview of the pipeline. Continue scrolling to see a basic implementation with more detail on assumptions and design choices.**\n",
    "\n",
    "--\n",
    "\n",
    "For our final model, we will adopt an RNN architecture. While some elements (like the hyperparameters, specific architecture, and feature selection) will be determined as we iterate, we will begin with a baseline model and then iteratively improve it.\n",
    "\n",
    "We will iterate through the following approaches:\n",
    "1. **Baseline RNN**: Feed through sequences of N rows of data. Each row corresponds to one play, and sequence is made up of N consecutive plays. The final play is the target -- the model must predict whether or not a blitz occurred in the final play.\n",
    "2. **Frame-by-Frame RNN:** Feed through sequences of N rows of data. Each row corresponds to one frame of a single play. The final frame is the target -- the model must predict whether or not a blitz occurred within this play. \n",
    "3. **Mixture of Both:** Run both types of RNN. Combine the hidden states before a MLP head predicts the final blitz / no blitz output.\n",
    "\n",
    "Our Pipeline will be as follows:\n",
    "\n",
    "1. **PREPROCESSING**\n",
    "   1. One hot encode categorical variables (teams, positions, formations)\n",
    "   2. Drop columns that are un-usable.\n",
    "   3. Create sequences, using a sliding window. Write a function for creating sequences -- we want the sliding window size to be flexible (we may want to change this later)\n",
    "2. **MODELING**\n",
    "   1. Define the architecture; the input should be N * (sequence length) * (number of features)\n",
    "   2. Work with some sort of RNN units -- either RNN, GRU, or LSTM\n",
    "   3. Output of final dense layer should be one logits with sigmoid activation for binary classification.\n",
    "   4. We will minimize the binary cross-entropy loss -- this is the most logical approach, as we have chosen to have 1 logit.\n",
    "3. **TRAINING**\n",
    "   1. Train the model on the training data. Log loss, accuracy, and validation accuracy\n",
    "   2. Plot training results over each epoch"
   ]
  },
  {
   "cell_type": "markdown",
   "id": "6e85df17",
   "metadata": {},
   "source": [
    "### Preprocessing \n",
    "Using similar logic to the logistic regression, we:\n",
    "- one-hot encode categorical variables (teams, positions, formations)\n",
    "- cast boolean variables to integers\n",
    "- drop columns that are un-usable\n",
    "- fill Nans with 0 -- these mainly correspond to boolean variables for players whose positions do not apply (i.e. defensive stats for an offensive player), so zeroes are appropriate\n",
    "\n",
    "To obtain our target label, we merge in from the `blitz_outcome` df. In our next imeplementation, we would save those blitz labels to the .csv file itself.\n",
    "\n",
    "The next step is creating sequences. This is the format ready for the model. We have begun with a sequence length of 5, as this allows us to summarize any trends in the current drive, while also peeking at the previous drive as well. In the future we might experiment with:\n",
    "- very large (30+) sequence lengths to capture multiple possessions from both teams\n",
    "- recreate this logic at the frame-level; so we are looking more at real-time decisions (this is closer to our problem statement)\n",
    "\n",
    "\n",
    "NOTE: We have cut off our dataset at only 2 games here. Change the `cutoff` argument to `None` to use the full dataset.\n",
    "\n",
    " "
   ]
  },
  {
   "cell_type": "code",
   "execution_count": null,
   "id": "0e75a246",
   "metadata": {},
   "outputs": [],
   "source": [
    "# Import dataframe\n",
    "df = pd.read_csv('nontime_data.csv')"
   ]
  },
  {
   "cell_type": "code",
   "execution_count": null,
   "id": "881e43cd",
   "metadata": {},
   "outputs": [],
   "source": [
    "# Use the existing mapping of plays --> blitzes to add the target column\n",
    "df = df.merge(blitz_outcome[['gameId', 'playId', 'blitzOutcome']], \n",
    "              on=['gameId', 'playId'], \n",
    "              how='left'\n",
    "          )"
   ]
  },
  {
   "cell_type": "code",
   "execution_count": null,
   "id": "3f0709d3",
   "metadata": {},
   "outputs": [],
   "source": [
    "# fill all missing categorical fields\n",
    "categorical_cols = []\n",
    "for col in df.select_dtypes(include=['object']).columns:\n",
    "    if col not in ['gameId', 'playId', 'nflId']:\n",
    "        categorical_cols.append(col)\n",
    "for col in categorical_cols:\n",
    "    df[col] = df[col].fillna('Unknown')\n",
    "\n",
    "# one-hot encode categorical cols\n",
    "df = pd.get_dummies(\n",
    "    df,\n",
    "    columns=categorical_cols,\n",
    "    drop_first=True\n",
    ")\n",
    "\n",
    "# drop any remaining object-type columns from X\n",
    "for col in df.select_dtypes(include=['object']).columns:\n",
    "    df = df.drop(columns=[col])\n",
    "\n",
    "# Convert boolean columns to integers (0/1) first\n",
    "bool_cols = df.select_dtypes(include=['bool']).columns\n",
    "for col in bool_cols:\n",
    "    df[col] = df[col].astype(int)\n",
    "\n",
    "# Drop remaining rows with any NaN\n",
    "df = df.dropna(subset=['blitzOutcome', 'quarter', 'down', 'yardsToGo', 'yardlineNumber', 'gameClock', 'preSnapHomeScore', 'preSnapVisitorScore', 'absoluteYardlineNumber', 'preSnapHomeTeamWinProbability', 'preSnapVisitorTeamWinProbability', 'expectedPoints'])\n",
    "\n",
    "# Fill remaining NaNs with 0\n",
    "df = df.fillna(0)\n"
   ]
  },
  {
   "cell_type": "code",
   "execution_count": null,
   "id": "ac1f9f38",
   "metadata": {},
   "outputs": [],
   "source": [
    "def create_sequences(df, n=5, target_col='blitzOutcome', step=1, cutoff=2):\n",
    "    \"\"\"\n",
    "    Create sequences of n consecutive plays for RNN input with overlapping windows.\n",
    "    \n",
    "    Parameters:\n",
    "    -----------\n",
    "    df : DataFrame with last frame of each play\n",
    "    n : Sequence length (number of plays to include in each sequence)\n",
    "    target_col : Column name for the target variable (blitz indicator)\n",
    "    step : Step size for sliding window (1 = maximum overlap, n = no overlap)\n",
    "    cutoff : how many games to repeat this process for (for prototyping)\n",
    "\n",
    "    Returns:\n",
    "    --------\n",
    "    X : numpy array of shape (num_sequences, n, num_features)\n",
    "        Sequences of n plays with features\n",
    "    y : numpy array of shape (num_sequences,)\n",
    "        Target values indicating whether the n+1th play was a blitz\n",
    "    play_ids : list of tuples\n",
    "        Identifiers for the play following each sequence (for reference)\n",
    "    \"\"\"\n",
    "    X = []\n",
    "    y = []\n",
    "    play_ids = []\n",
    "    \n",
    "    # list of unique games\n",
    "    games = df['gameId'].unique()\n",
    "    \n",
    "    # Handle cutoff=None\n",
    "    if cutoff is None:\n",
    "        cutoff = len(games)\n",
    "\n",
    "    for game_id in games[:cutoff]:\n",
    "        # Get plays for this game and sort chronologically\n",
    "        game_plays = df[df['gameId'] == game_id].sort_values(['quarter', 'gameClock'], ascending=[True, False])\n",
    "        \n",
    "        # Get the length of this game in plays\n",
    "        game_length = len(game_plays)\n",
    "        \n",
    "        # Skip games that are too short for our sequence length\n",
    "        if game_length <= n:\n",
    "            continue\n",
    "            \n",
    "        # Specify which features to use\n",
    "        feature_cols = [col for col in df.columns if col not in ['gameId', 'playId', 'blitzOutcome']]\n",
    "        \n",
    "        # Convert to numpy for faster operations\n",
    "        plays_array = game_plays[feature_cols].values\n",
    "        targets_array = game_plays[target_col].values if target_col in game_plays.columns else None\n",
    "        play_ids_array = game_plays['playId'].values\n",
    "\n",
    "        # Create overlapping windows\n",
    "        for i in range(0, game_length - n, step):\n",
    "            # Get n consecutive plays for X\n",
    "            sequence = plays_array[i:i+n]\n",
    "            \n",
    "            # Skip sequences with NaN values if needed\n",
    "            # Although we should not have any at this point\n",
    "            if np.isnan(sequence).any():\n",
    "                # Flag it so we can debug\n",
    "                print('skipping')\n",
    "                continue\n",
    "                \n",
    "            # Add the sequence to our dataset\n",
    "            X.append(sequence)\n",
    "            \n",
    "            # Get target from the n+1th play (if target column exists)\n",
    "            if targets_array is not None:\n",
    "                y.append(targets_array[i+n])\n",
    "                \n",
    "            # Keep track of which play this prediction is for\n",
    "            # This is mainly for interpretability\n",
    "            play_ids.append((game_id,play_ids_array[i+n]))\n",
    "    \n",
    "    # Convert to numpy arrays\n",
    "    X = np.array(X)\n",
    "    y = np.array(y) if targets_array is not None else None\n",
    "    \n",
    "    print(f\"Created {len(X)} sequences of length {n}\")\n",
    "    print(f\"X shape: {X.shape}\")\n",
    "    if y is not None:\n",
    "        print(f\"y shape: {y.shape}\")\n",
    "    \n",
    "    return X, y, play_ids"
   ]
  },
  {
   "cell_type": "code",
   "execution_count": null,
   "id": "a69a18fb",
   "metadata": {},
   "outputs": [],
   "source": [
    "# Prepare sequences\n",
    "X, y, play_ids = create_sequences(df, n=5, target_col='blitzOutcome', step=3, cutoff=2)\n",
    "# Split \n",
    "X_train, X_test, y_train, y_test = train_test_split(X, y, test_size=0.2, random_state=42)"
   ]
  },
  {
   "cell_type": "markdown",
   "id": "f3d85141",
   "metadata": {},
   "source": [
    "### Define RNN Model"
   ]
  },
  {
   "cell_type": "markdown",
   "id": "bc4119c3",
   "metadata": {},
   "source": [
    "We have not put extreme thought into this model yet -- that will be work for Milestone 5. However, with this working scaffolding, we can begin to iterate. Some design decisions we have made already are:\n",
    "- **Tracking precision / recall** -- we know that blitzes are rare, so it is important that we know whether we are correctly identifying them (not just predicting the majority class)\n",
    "- **Bidirectional LSTM layers** -- we were impressed by LSTMs in psets so have chosen them as the starting point. We have chosen bidirectional thinking that football strategies are somewhat bidirectional as well ; a defensive coordinator both looks back and previous plays and plans for potential future plays to lead their decisions. We need to test this logic further through experiments with regular and bidirectional plays.\n",
    "- **Dropout** -- there is a risk of overfitting with this type of task (very noisy, small dataset), so we have added dropout to prevent overfitting.\n",
    "- **Early Stopping** -- we have added early stopping to prevent overfitting.\n",
    "- **Batch Normalization** -- same as above ; one more measure to prevent overfitting."
   ]
  },
  {
   "cell_type": "code",
   "execution_count": null,
   "id": "909b4c51",
   "metadata": {},
   "outputs": [],
   "source": [
    "def create_blitz_rnn_model(n_timesteps, n_features, dropout_rate=0.3):\n",
    "    model = Sequential([\n",
    "        # Input layer\n",
    "        Input(shape=(n_timesteps, n_features)),\n",
    "        \n",
    "        # Bidirectional LSTM layer\n",
    "        Bidirectional(LSTM(64, return_sequences=True)),\n",
    "        BatchNormalization(),\n",
    "        Dropout(dropout_rate),\n",
    "        \n",
    "        # Second bidirectional LSTM layer\n",
    "        Bidirectional(LSTM(32)),\n",
    "        BatchNormalization(),\n",
    "        Dropout(dropout_rate),\n",
    "        \n",
    "        # Dense hidden layer\n",
    "        Dense(16, activation='relu'),\n",
    "        BatchNormalization(),\n",
    "        Dropout(dropout_rate/2),\n",
    "        \n",
    "        # Output layer with 2 neurons (probability of blitz and no blitz)\n",
    "        Dense(1, activation='sigmoid')\n",
    "    ])\n",
    "    \n",
    "    # Compile model with binary cross-entropy loss\n",
    "    model.compile(\n",
    "        optimizer=Adam(learning_rate=0.001),\n",
    "        loss='binary_crossentropy',\n",
    "        metrics=['accuracy', tf.keras.metrics.AUC(), tf.keras.metrics.Precision(), tf.keras.metrics.Recall()]\n",
    "    )\n",
    "    \n",
    "    return model"
   ]
  },
  {
   "cell_type": "code",
   "execution_count": null,
   "id": "41bda348",
   "metadata": {},
   "outputs": [],
   "source": [
    "RNN_model = create_blitz_rnn_model(n_timesteps=X.shape[1], n_features=X.shape[2])"
   ]
  },
  {
   "cell_type": "markdown",
   "id": "67148217",
   "metadata": {},
   "source": [
    "### Training Run\n",
    "\n",
    "Keep in mind, this is a demo -- we would run this for more epochs and tune our hyperparameters for our final model.\n",
    "\n",
    "Be sure to update the # of epochs to be greater than 1."
   ]
  },
  {
   "cell_type": "code",
   "execution_count": null,
   "id": "856aa2d3",
   "metadata": {},
   "outputs": [],
   "source": [
    "callbacks = [\n",
    "    EarlyStopping(monitor='val_loss', patience=10, restore_best_weights=True),\n",
    "    ReduceLROnPlateau(monitor='val_loss', factor=0.2, patience=5, min_lr=0.0001),\n",
    "    ModelCheckpoint('best_blitz_model.h5', save_best_only=True)\n",
    "]\n",
    "\n",
    "history = RNN_model.fit(\n",
    "    X_train, y_train,\n",
    "    validation_data=(X_test, y_test),\n",
    "    epochs=1,\n",
    "    batch_size=32,\n",
    "    callbacks=callbacks\n",
    ")"
   ]
  },
  {
   "cell_type": "markdown",
   "id": "87c88daf",
   "metadata": {},
   "source": [
    "### Evaluate Model"
   ]
  },
  {
   "cell_type": "code",
   "execution_count": null,
   "id": "733eb428",
   "metadata": {},
   "outputs": [],
   "source": [
    "# Inspect Logs\n",
    "loss, accuracy, auc, precision, recall = RNN_model.evaluate(X_test, y_test)\n",
    "print(f\"Test Loss: {loss:.4f}\")\n",
    "print(f\"Test Accuracy: {accuracy:.4f}\")\n",
    "print(f\"Test AUC: {auc:.4f}\")\n",
    "print(f\"Test Precision: {precision:.4f}\")\n",
    "print(f\"Test Recall: {recall:.4f}\")"
   ]
  },
  {
   "cell_type": "markdown",
   "id": "07f07896",
   "metadata": {},
   "source": [
    "## Results and Insights"
   ]
  },
  {
   "cell_type": "code",
   "execution_count": null,
   "id": "fea82baf",
   "metadata": {},
   "outputs": [],
   "source": []
  },
  {
   "cell_type": "code",
   "execution_count": null,
   "id": "c556edba",
   "metadata": {},
   "outputs": [],
   "source": []
  },
  {
   "cell_type": "markdown",
   "id": "6cd76369",
   "metadata": {},
   "source": []
  },
  {
   "cell_type": "markdown",
   "id": "e9357ce0",
   "metadata": {},
   "source": [
    "## Next Steps"
   ]
  },
  {
   "cell_type": "markdown",
   "id": "e9c6190c",
   "metadata": {},
   "source": []
  }
 ],
 "metadata": {
  "kernelspec": {
   "display_name": "cs109a",
   "language": "python",
   "name": "python3"
  },
  "language_info": {
   "codemirror_mode": {
    "name": "ipython",
    "version": 3
   },
   "file_extension": ".py",
   "mimetype": "text/x-python",
   "name": "python",
   "nbconvert_exporter": "python",
   "pygments_lexer": "ipython3",
   "version": "3.12.5"
  }
 },
 "nbformat": 4,
 "nbformat_minor": 5
}
